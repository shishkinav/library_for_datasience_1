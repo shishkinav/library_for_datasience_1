{
 "cells": [
  {
   "cell_type": "markdown",
   "source": [
    "# Тема “Обучение с учителем”"
   ],
   "metadata": {
    "collapsed": false
   }
  },
  {
   "cell_type": "markdown",
   "source": [
    "## Задание 1\n",
    "Импортируйте библиотеки pandas и numpy.\n",
    "Загрузите \"Boston House Prices dataset\" из встроенных наборов данных библиотеки sklearn.\n",
    "Создайте датафреймы X и y из этих данных.\n",
    "Разбейте эти датафреймы на тренировочные (X_train, y_train) и тестовые (X_test, y_test)\n",
    "с помощью функции train_test_split так, чтобы размер тестовой выборки\n",
    "составлял 30% от всех данных, при этом аргумент random_state должен быть равен 42.\n",
    "Создайте модель линейной регрессии под названием lr с помощью класса LinearRegression\n",
    "из модуля sklearn.linear_model.\n",
    "Обучите модель на тренировочных данных (используйте все признаки) и сделайте\n",
    "предсказание на тестовых.\n",
    "Вычислите R2 полученных предказаний с помощью r2_score из модуля sklearn.metrics."
   ],
   "metadata": {
    "collapsed": false
   }
  },
  {
   "cell_type": "code",
   "execution_count": 2,
   "outputs": [],
   "source": [
    "import numpy as np\n",
    "import pandas as pd\n",
    "from matplotlib import pyplot as plt\n",
    "from sklearn.datasets import load_boston\n",
    "import warnings\n",
    "\n",
    "warnings.filterwarnings('ignore')"
   ],
   "metadata": {
    "collapsed": false,
    "pycharm": {
     "name": "#%%\n"
    }
   }
  },
  {
   "cell_type": "code",
   "execution_count": 3,
   "outputs": [],
   "source": [
    "%matplotlib inline\n",
    "%config InlineBackend.figure_format = 'svg'"
   ],
   "metadata": {
    "collapsed": false,
    "pycharm": {
     "name": "#%%\n"
    }
   }
  },
  {
   "cell_type": "code",
   "execution_count": 4,
   "outputs": [
    {
     "data": {
      "text/plain": "dict_keys(['data', 'target', 'feature_names', 'DESCR', 'filename'])"
     },
     "execution_count": 4,
     "metadata": {},
     "output_type": "execute_result"
    }
   ],
   "source": [
    "boston = load_boston()\n",
    "boston.keys()"
   ],
   "metadata": {
    "collapsed": false,
    "pycharm": {
     "name": "#%%\n"
    }
   }
  },
  {
   "cell_type": "code",
   "execution_count": 5,
   "outputs": [
    {
     "data": {
      "text/plain": "(506, 13)"
     },
     "execution_count": 5,
     "metadata": {},
     "output_type": "execute_result"
    }
   ],
   "source": [
    "data = boston[\"data\"]\n",
    "data.shape"
   ],
   "metadata": {
    "collapsed": false,
    "pycharm": {
     "name": "#%%\n"
    }
   }
  },
  {
   "cell_type": "code",
   "execution_count": 6,
   "outputs": [
    {
     "data": {
      "text/plain": "array(['CRIM', 'ZN', 'INDUS', 'CHAS', 'NOX', 'RM', 'AGE', 'DIS', 'RAD',\n       'TAX', 'PTRATIO', 'B', 'LSTAT'], dtype='<U7')"
     },
     "execution_count": 6,
     "metadata": {},
     "output_type": "execute_result"
    }
   ],
   "source": [
    "feature_names = boston[\"feature_names\"]\n",
    "feature_names"
   ],
   "metadata": {
    "collapsed": false,
    "pycharm": {
     "name": "#%%\n"
    }
   }
  },
  {
   "cell_type": "code",
   "execution_count": 9,
   "outputs": [
    {
     "name": "stdout",
     "output_type": "stream",
     "text": [
      ".. _boston_dataset:\n",
      "\n",
      "Boston house prices dataset\n",
      "---------------------------\n",
      "\n",
      "**Data Set Characteristics:**  \n",
      "\n",
      "    :Number of Instances: 506 \n",
      "\n",
      "    :Number of Attributes: 13 numeric/categorical predictive. Median Value (attribute 14) is usually the target.\n",
      "\n",
      "    :Attribute Information (in order):\n",
      "        - CRIM     per capita crime rate by town\n",
      "        - ZN       proportion of residential land zoned for lots over 25,000 sq.ft.\n",
      "        - INDUS    proportion of non-retail business acres per town\n",
      "        - CHAS     Charles River dummy variable (= 1 if tract bounds river; 0 otherwise)\n",
      "        - NOX      nitric oxides concentration (parts per 10 million)\n",
      "        - RM       average number of rooms per dwelling\n",
      "        - AGE      proportion of owner-occupied units built prior to 1940\n",
      "        - DIS      weighted distances to five Boston employment centres\n",
      "        - RAD      index of accessibility to radial highways\n",
      "        - TAX      full-value property-tax rate per $10,000\n",
      "        - PTRATIO  pupil-teacher ratio by town\n",
      "        - B        1000(Bk - 0.63)^2 where Bk is the proportion of black people by town\n",
      "        - LSTAT    % lower status of the population\n",
      "        - MEDV     Median value of owner-occupied homes in $1000's\n",
      "\n",
      "    :Missing Attribute Values: None\n",
      "\n",
      "    :Creator: Harrison, D. and Rubinfeld, D.L.\n",
      "\n",
      "This is a copy of UCI ML housing dataset.\n",
      "https://archive.ics.uci.edu/ml/machine-learning-databases/housing/\n",
      "\n",
      "\n",
      "This dataset was taken from the StatLib library which is maintained at Carnegie Mellon University.\n",
      "\n",
      "The Boston house-price data of Harrison, D. and Rubinfeld, D.L. 'Hedonic\n",
      "prices and the demand for clean air', J. Environ. Economics & Management,\n",
      "vol.5, 81-102, 1978.   Used in Belsley, Kuh & Welsch, 'Regression diagnostics\n",
      "...', Wiley, 1980.   N.B. Various transformations are used in the table on\n",
      "pages 244-261 of the latter.\n",
      "\n",
      "The Boston house-price data has been used in many machine learning papers that address regression\n",
      "problems.   \n",
      "     \n",
      ".. topic:: References\n",
      "\n",
      "   - Belsley, Kuh & Welsch, 'Regression diagnostics: Identifying Influential Data and Sources of Collinearity', Wiley, 1980. 244-261.\n",
      "   - Quinlan,R. (1993). Combining Instance-Based and Model-Based Learning. In Proceedings on the Tenth International Conference of Machine Learning, 236-243, University of Massachusetts, Amherst. Morgan Kaufmann.\n",
      "\n"
     ]
    }
   ],
   "source": [
    "print(boston[\"DESCR\"])"
   ],
   "metadata": {
    "collapsed": false,
    "pycharm": {
     "name": "#%%\n"
    }
   }
  },
  {
   "cell_type": "code",
   "execution_count": 10,
   "outputs": [
    {
     "data": {
      "text/plain": "      CRIM    ZN  INDUS  CHAS    NOX     RM   AGE     DIS  RAD    TAX  \\\n0  0.00632  18.0   2.31   0.0  0.538  6.575  65.2  4.0900  1.0  296.0   \n1  0.02731   0.0   7.07   0.0  0.469  6.421  78.9  4.9671  2.0  242.0   \n2  0.02729   0.0   7.07   0.0  0.469  7.185  61.1  4.9671  2.0  242.0   \n3  0.03237   0.0   2.18   0.0  0.458  6.998  45.8  6.0622  3.0  222.0   \n4  0.06905   0.0   2.18   0.0  0.458  7.147  54.2  6.0622  3.0  222.0   \n\n   PTRATIO       B  LSTAT  \n0     15.3  396.90   4.98  \n1     17.8  396.90   9.14  \n2     17.8  392.83   4.03  \n3     18.7  394.63   2.94  \n4     18.7  396.90   5.33  ",
      "text/html": "<div>\n<style scoped>\n    .dataframe tbody tr th:only-of-type {\n        vertical-align: middle;\n    }\n\n    .dataframe tbody tr th {\n        vertical-align: top;\n    }\n\n    .dataframe thead th {\n        text-align: right;\n    }\n</style>\n<table border=\"1\" class=\"dataframe\">\n  <thead>\n    <tr style=\"text-align: right;\">\n      <th></th>\n      <th>CRIM</th>\n      <th>ZN</th>\n      <th>INDUS</th>\n      <th>CHAS</th>\n      <th>NOX</th>\n      <th>RM</th>\n      <th>AGE</th>\n      <th>DIS</th>\n      <th>RAD</th>\n      <th>TAX</th>\n      <th>PTRATIO</th>\n      <th>B</th>\n      <th>LSTAT</th>\n    </tr>\n  </thead>\n  <tbody>\n    <tr>\n      <th>0</th>\n      <td>0.00632</td>\n      <td>18.0</td>\n      <td>2.31</td>\n      <td>0.0</td>\n      <td>0.538</td>\n      <td>6.575</td>\n      <td>65.2</td>\n      <td>4.0900</td>\n      <td>1.0</td>\n      <td>296.0</td>\n      <td>15.3</td>\n      <td>396.90</td>\n      <td>4.98</td>\n    </tr>\n    <tr>\n      <th>1</th>\n      <td>0.02731</td>\n      <td>0.0</td>\n      <td>7.07</td>\n      <td>0.0</td>\n      <td>0.469</td>\n      <td>6.421</td>\n      <td>78.9</td>\n      <td>4.9671</td>\n      <td>2.0</td>\n      <td>242.0</td>\n      <td>17.8</td>\n      <td>396.90</td>\n      <td>9.14</td>\n    </tr>\n    <tr>\n      <th>2</th>\n      <td>0.02729</td>\n      <td>0.0</td>\n      <td>7.07</td>\n      <td>0.0</td>\n      <td>0.469</td>\n      <td>7.185</td>\n      <td>61.1</td>\n      <td>4.9671</td>\n      <td>2.0</td>\n      <td>242.0</td>\n      <td>17.8</td>\n      <td>392.83</td>\n      <td>4.03</td>\n    </tr>\n    <tr>\n      <th>3</th>\n      <td>0.03237</td>\n      <td>0.0</td>\n      <td>2.18</td>\n      <td>0.0</td>\n      <td>0.458</td>\n      <td>6.998</td>\n      <td>45.8</td>\n      <td>6.0622</td>\n      <td>3.0</td>\n      <td>222.0</td>\n      <td>18.7</td>\n      <td>394.63</td>\n      <td>2.94</td>\n    </tr>\n    <tr>\n      <th>4</th>\n      <td>0.06905</td>\n      <td>0.0</td>\n      <td>2.18</td>\n      <td>0.0</td>\n      <td>0.458</td>\n      <td>7.147</td>\n      <td>54.2</td>\n      <td>6.0622</td>\n      <td>3.0</td>\n      <td>222.0</td>\n      <td>18.7</td>\n      <td>396.90</td>\n      <td>5.33</td>\n    </tr>\n  </tbody>\n</table>\n</div>"
     },
     "execution_count": 10,
     "metadata": {},
     "output_type": "execute_result"
    }
   ],
   "source": [
    "X = pd.DataFrame(data, columns=feature_names)\n",
    "X.head()"
   ],
   "metadata": {
    "collapsed": false,
    "pycharm": {
     "name": "#%%\n"
    }
   }
  },
  {
   "cell_type": "code",
   "execution_count": 11,
   "outputs": [
    {
     "name": "stdout",
     "output_type": "stream",
     "text": [
      "<class 'pandas.core.frame.DataFrame'>\n",
      "RangeIndex: 506 entries, 0 to 505\n",
      "Data columns (total 13 columns):\n",
      " #   Column   Non-Null Count  Dtype  \n",
      "---  ------   --------------  -----  \n",
      " 0   CRIM     506 non-null    float64\n",
      " 1   ZN       506 non-null    float64\n",
      " 2   INDUS    506 non-null    float64\n",
      " 3   CHAS     506 non-null    float64\n",
      " 4   NOX      506 non-null    float64\n",
      " 5   RM       506 non-null    float64\n",
      " 6   AGE      506 non-null    float64\n",
      " 7   DIS      506 non-null    float64\n",
      " 8   RAD      506 non-null    float64\n",
      " 9   TAX      506 non-null    float64\n",
      " 10  PTRATIO  506 non-null    float64\n",
      " 11  B        506 non-null    float64\n",
      " 12  LSTAT    506 non-null    float64\n",
      "dtypes: float64(13)\n",
      "memory usage: 51.5 KB\n"
     ]
    }
   ],
   "source": [
    "X.info()"
   ],
   "metadata": {
    "collapsed": false,
    "pycharm": {
     "name": "#%%\n"
    }
   }
  },
  {
   "cell_type": "code",
   "execution_count": 12,
   "outputs": [
    {
     "name": "stdout",
     "output_type": "stream",
     "text": [
      "<class 'pandas.core.frame.DataFrame'>\n",
      "RangeIndex: 506 entries, 0 to 505\n",
      "Data columns (total 1 columns):\n",
      " #   Column  Non-Null Count  Dtype  \n",
      "---  ------  --------------  -----  \n",
      " 0   price   506 non-null    float64\n",
      "dtypes: float64(1)\n",
      "memory usage: 4.1 KB\n"
     ]
    }
   ],
   "source": [
    "target = boston[\"target\"]\n",
    "target[:10]\n",
    "y = pd.DataFrame(target, columns=[\"price\"])\n",
    "y.info()"
   ],
   "metadata": {
    "collapsed": false,
    "pycharm": {
     "name": "#%%\n"
    }
   }
  },
  {
   "cell_type": "code",
   "execution_count": 13,
   "outputs": [],
   "source": [
    "from sklearn.model_selection import train_test_split\n"
   ],
   "metadata": {
    "collapsed": false,
    "pycharm": {
     "name": "#%%\n"
    }
   }
  },
  {
   "cell_type": "code",
   "execution_count": 15,
   "outputs": [],
   "source": [
    "X_train, X_test, y_train, y_test = train_test_split(X, y, test_size=0.3, random_state=42)"
   ],
   "metadata": {
    "collapsed": false,
    "pycharm": {
     "name": "#%%\n"
    }
   }
  },
  {
   "cell_type": "code",
   "execution_count": 17,
   "outputs": [],
   "source": [
    "from sklearn.linear_model import LinearRegression"
   ],
   "metadata": {
    "collapsed": false,
    "pycharm": {
     "name": "#%%\n"
    }
   }
  },
  {
   "cell_type": "code",
   "execution_count": 19,
   "outputs": [],
   "source": [
    "lr = LinearRegression()"
   ],
   "metadata": {
    "collapsed": false,
    "pycharm": {
     "name": "#%%\n"
    }
   }
  },
  {
   "cell_type": "code",
   "execution_count": 20,
   "outputs": [
    {
     "data": {
      "text/plain": "LinearRegression()"
     },
     "execution_count": 20,
     "metadata": {},
     "output_type": "execute_result"
    }
   ],
   "source": [
    "lr.fit(X_train, y_train)"
   ],
   "metadata": {
    "collapsed": false,
    "pycharm": {
     "name": "#%%\n"
    }
   }
  },
  {
   "cell_type": "code",
   "execution_count": 21,
   "outputs": [
    {
     "data": {
      "text/plain": "(152, 1)"
     },
     "execution_count": 21,
     "metadata": {},
     "output_type": "execute_result"
    }
   ],
   "source": [
    "y_pred = lr.predict(X_test)\n",
    "y_pred.shape"
   ],
   "metadata": {
    "collapsed": false,
    "pycharm": {
     "name": "#%%\n"
    }
   }
  },
  {
   "cell_type": "code",
   "execution_count": 23,
   "outputs": [
    {
     "data": {
      "text/plain": "     y_test     y_pred\n173    23.6  28.648960\n274    32.4  36.495014\n491    13.6  15.411193\n72     22.8  25.403213\n452    16.1  18.855280\n76     20.0  23.146689\n316    17.8  17.392124\n140    14.0  14.078599\n471    19.6  23.036927\n500    16.8  20.599433",
      "text/html": "<div>\n<style scoped>\n    .dataframe tbody tr th:only-of-type {\n        vertical-align: middle;\n    }\n\n    .dataframe tbody tr th {\n        vertical-align: top;\n    }\n\n    .dataframe thead th {\n        text-align: right;\n    }\n</style>\n<table border=\"1\" class=\"dataframe\">\n  <thead>\n    <tr style=\"text-align: right;\">\n      <th></th>\n      <th>y_test</th>\n      <th>y_pred</th>\n    </tr>\n  </thead>\n  <tbody>\n    <tr>\n      <th>173</th>\n      <td>23.6</td>\n      <td>28.648960</td>\n    </tr>\n    <tr>\n      <th>274</th>\n      <td>32.4</td>\n      <td>36.495014</td>\n    </tr>\n    <tr>\n      <th>491</th>\n      <td>13.6</td>\n      <td>15.411193</td>\n    </tr>\n    <tr>\n      <th>72</th>\n      <td>22.8</td>\n      <td>25.403213</td>\n    </tr>\n    <tr>\n      <th>452</th>\n      <td>16.1</td>\n      <td>18.855280</td>\n    </tr>\n    <tr>\n      <th>76</th>\n      <td>20.0</td>\n      <td>23.146689</td>\n    </tr>\n    <tr>\n      <th>316</th>\n      <td>17.8</td>\n      <td>17.392124</td>\n    </tr>\n    <tr>\n      <th>140</th>\n      <td>14.0</td>\n      <td>14.078599</td>\n    </tr>\n    <tr>\n      <th>471</th>\n      <td>19.6</td>\n      <td>23.036927</td>\n    </tr>\n    <tr>\n      <th>500</th>\n      <td>16.8</td>\n      <td>20.599433</td>\n    </tr>\n  </tbody>\n</table>\n</div>"
     },
     "execution_count": 23,
     "metadata": {},
     "output_type": "execute_result"
    }
   ],
   "source": [
    "check_test = pd.DataFrame({\n",
    "    \"y_test\": y_test[\"price\"],\n",
    "    \"y_pred\": y_pred.flatten(),\n",
    "})\n",
    "\n",
    "check_test.head(10)"
   ],
   "metadata": {
    "collapsed": false,
    "pycharm": {
     "name": "#%%\n"
    }
   }
  },
  {
   "cell_type": "code",
   "execution_count": 25,
   "outputs": [],
   "source": [
    "from sklearn.metrics import r2_score"
   ],
   "metadata": {
    "collapsed": false,
    "pycharm": {
     "name": "#%%\n"
    }
   }
  },
  {
   "cell_type": "code",
   "execution_count": 26,
   "outputs": [
    {
     "data": {
      "text/plain": "0.7112260057484974"
     },
     "execution_count": 26,
     "metadata": {},
     "output_type": "execute_result"
    }
   ],
   "source": [
    "r2_score(y_test[\"price\"], y_pred.flatten())"
   ],
   "metadata": {
    "collapsed": false,
    "pycharm": {
     "name": "#%%\n"
    }
   }
  },
  {
   "cell_type": "markdown",
   "source": [
    "## Задание 2\n",
    "Создайте модель под названием model с помощью RandomForestRegressor из модуля sklearn.ensemble.\n",
    "Сделайте агрумент n_estimators равным 1000,\n",
    "max_depth должен быть равен 12 и random_state сделайте равным 42.\n",
    "Обучите модель на тренировочных данных аналогично тому, как вы обучали модель LinearRegression,\n",
    "но при этом в метод fit вместо датафрейма y_train поставьте y_train.values[:, 0],\n",
    "чтобы получить из датафрейма одномерный массив Numpy,\n",
    "так как для класса RandomForestRegressor в данном методе для аргумента y предпочтительно применение массивов вместо датафрейма.\n",
    "Сделайте предсказание на тестовых данных и посчитайте R2. Сравните с результатом из предыдущего задания.\n",
    "Напишите в комментариях к коду, какая модель в данном случае работает лучше."
   ],
   "metadata": {
    "collapsed": false
   }
  },
  {
   "cell_type": "code",
   "execution_count": 28,
   "outputs": [
    {
     "data": {
      "text/plain": "RandomForestRegressor(max_depth=12, n_estimators=1000, random_state=42)"
     },
     "execution_count": 28,
     "metadata": {},
     "output_type": "execute_result"
    }
   ],
   "source": [
    "from sklearn.ensemble import RandomForestRegressor\n",
    "\n",
    "rfr = RandomForestRegressor(\n",
    "    n_estimators=1000,\n",
    "    max_depth=12,\n",
    "    random_state=42\n",
    ")\n",
    "rfr.fit(X_train, y_train.values[:, 0])"
   ],
   "metadata": {
    "collapsed": false,
    "pycharm": {
     "name": "#%%\n"
    }
   }
  },
  {
   "cell_type": "code",
   "execution_count": 29,
   "outputs": [
    {
     "data": {
      "text/plain": "(152,)"
     },
     "execution_count": 29,
     "metadata": {},
     "output_type": "execute_result"
    }
   ],
   "source": [
    "y_pred = rfr.predict(X_test)\n",
    "y_pred.shape"
   ],
   "metadata": {
    "collapsed": false,
    "pycharm": {
     "name": "#%%\n"
    }
   }
  },
  {
   "cell_type": "code",
   "execution_count": 30,
   "outputs": [
    {
     "data": {
      "text/plain": "     y_test     y_pred\n173    23.6  22.806412\n274    32.4  31.131464\n491    13.6  16.339125\n72     22.8  23.810726\n452    16.1  17.139521\n76     20.0  21.832284\n316    17.8  19.895747\n140    14.0  14.754118\n471    19.6  21.240835\n500    16.8  20.898658",
      "text/html": "<div>\n<style scoped>\n    .dataframe tbody tr th:only-of-type {\n        vertical-align: middle;\n    }\n\n    .dataframe tbody tr th {\n        vertical-align: top;\n    }\n\n    .dataframe thead th {\n        text-align: right;\n    }\n</style>\n<table border=\"1\" class=\"dataframe\">\n  <thead>\n    <tr style=\"text-align: right;\">\n      <th></th>\n      <th>y_test</th>\n      <th>y_pred</th>\n    </tr>\n  </thead>\n  <tbody>\n    <tr>\n      <th>173</th>\n      <td>23.6</td>\n      <td>22.806412</td>\n    </tr>\n    <tr>\n      <th>274</th>\n      <td>32.4</td>\n      <td>31.131464</td>\n    </tr>\n    <tr>\n      <th>491</th>\n      <td>13.6</td>\n      <td>16.339125</td>\n    </tr>\n    <tr>\n      <th>72</th>\n      <td>22.8</td>\n      <td>23.810726</td>\n    </tr>\n    <tr>\n      <th>452</th>\n      <td>16.1</td>\n      <td>17.139521</td>\n    </tr>\n    <tr>\n      <th>76</th>\n      <td>20.0</td>\n      <td>21.832284</td>\n    </tr>\n    <tr>\n      <th>316</th>\n      <td>17.8</td>\n      <td>19.895747</td>\n    </tr>\n    <tr>\n      <th>140</th>\n      <td>14.0</td>\n      <td>14.754118</td>\n    </tr>\n    <tr>\n      <th>471</th>\n      <td>19.6</td>\n      <td>21.240835</td>\n    </tr>\n    <tr>\n      <th>500</th>\n      <td>16.8</td>\n      <td>20.898658</td>\n    </tr>\n  </tbody>\n</table>\n</div>"
     },
     "execution_count": 30,
     "metadata": {},
     "output_type": "execute_result"
    }
   ],
   "source": [
    "check_test = pd.DataFrame({\n",
    "    \"y_test\": y_test[\"price\"],\n",
    "    \"y_pred\": y_pred.flatten(),\n",
    "})\n",
    "\n",
    "check_test.head(10)"
   ],
   "metadata": {
    "collapsed": false,
    "pycharm": {
     "name": "#%%\n"
    }
   }
  },
  {
   "cell_type": "code",
   "execution_count": 31,
   "outputs": [
    {
     "data": {
      "text/plain": "0.87472606157312"
     },
     "execution_count": 31,
     "metadata": {},
     "output_type": "execute_result"
    }
   ],
   "source": [
    "r2_score(y_test[\"price\"], y_pred.flatten())"
   ],
   "metadata": {
    "collapsed": false,
    "pycharm": {
     "name": "#%%\n"
    }
   }
  },
  {
   "cell_type": "markdown",
   "source": [
    "Обученная модель RandomForestRegressor подходит нам больше чем LinearRegression, так как\n",
    "согласно расчётам R2 значение 0.71 против 0.87, разница существенная."
   ],
   "metadata": {
    "collapsed": false,
    "pycharm": {
     "name": "#%% md\n"
    }
   }
  },
  {
   "cell_type": "markdown",
   "source": [
    "## *Задание 3\n",
    "Вызовите документацию для класса RandomForestRegressor,\n",
    "найдите информацию об атрибуте feature_importances_.\n",
    "С помощью этого атрибута найдите сумму всех показателей важности,\n",
    "установите, какие два признака показывают наибольшую важность."
   ],
   "metadata": {
    "collapsed": false
   }
  },
  {
   "cell_type": "code",
   "execution_count": 32,
   "outputs": [],
   "source": [
    "?RandomForestRegressor"
   ],
   "metadata": {
    "collapsed": false,
    "pycharm": {
     "name": "#%%\n"
    }
   }
  },
  {
   "cell_type": "code",
   "execution_count": 35,
   "outputs": [
    {
     "data": {
      "text/plain": "1.0"
     },
     "execution_count": 35,
     "metadata": {},
     "output_type": "execute_result"
    }
   ],
   "source": [
    "importances = rfr.feature_importances_\n",
    "sum(importances)"
   ],
   "metadata": {
    "collapsed": false,
    "pycharm": {
     "name": "#%%\n"
    }
   }
  },
  {
   "cell_type": "code",
   "execution_count": 36,
   "outputs": [
    {
     "name": "stdout",
     "output_type": "stream",
     "text": [
      "['RM' 'LSTAT']\n"
     ]
    }
   ],
   "source": [
    "important_names = feature_names[importances > np.mean(importances)]\n",
    "print(important_names)"
   ],
   "metadata": {
    "collapsed": false,
    "pycharm": {
     "name": "#%%\n"
    }
   }
  },
  {
   "cell_type": "markdown",
   "source": [
    "* По проверкам двух блоков выше, мы видим, что сумма всех показателей важности равна 1\n",
    "* Самыми важными из всех являются RM (количество комнат в доме) и LSTAT (процент\n",
    "    населения низкого статуса)"
   ],
   "metadata": {
    "collapsed": false,
    "pycharm": {
     "name": "#%% md\n"
    }
   }
  },
  {
   "cell_type": "markdown",
   "source": [
    "## *Задание 4\n",
    "В этом задании мы будем работать с датасетом, с которым мы уже знакомы по домашнему\n",
    "заданию по библиотеке Matplotlib, это датасет Credit Card Fraud Detection.\n",
    "\n",
    "Для этого датасета мы будем решать задачу классификации - будем определять,\n",
    "какие из транзакциции по кредитной карте являются мошенническими.\n",
    "\n",
    "Данный датасет сильно несбалансирован (так как случаи мошенничества относительно редки),\n",
    "так что применение метрики accuracy не принесет пользы и не поможет выбрать лучшую модель.\n",
    "\n",
    "Мы будем вычислять AUC, то есть площадь под кривой ROC.\n",
    "\n",
    "Импортируйте из соответствующих модулей RandomForestClassifier, GridSearchCV и train_test_split.\n",
    "\n",
    "Загрузите датасет creditcard.csv и создайте датафрейм df.\n",
    "\n",
    "С помощью метода value_counts с аргументом normalize=True убедитесь в том, что выборка\n",
    "несбалансирована.\n",
    "\n",
    "Используя метод info, проверьте, все ли столбцы содержат числовые данные и нет ли в них пропусков.\n",
    "\n",
    "Примените следующую настройку, чтобы можно было просматривать все столбцы датафрейма:\n",
    "'pd.options.display.max_columns = 100'.\n",
    "\n",
    "Просмотрите первые 10 строк датафрейма df.\n",
    "\n",
    "Создайте датафрейм X из датафрейма df, исключив столбец Class.\n",
    "\n",
    "Создайте объект Series под названием y из столбца Class.\n",
    "\n",
    "Разбейте X и y на тренировочный и тестовый наборы данных при помощи функции train_test_split,\n",
    "используя аргументы: test_size=0.3, random_state=100, stratify=y.\n",
    "У вас должны получиться объекты X_train, X_test, y_train и y_test.\n",
    "Просмотрите информацию о их форме.\n",
    "\n",
    "Для поиска по сетке параметров задайте такие параметры:\n",
    "`parameters = [{'n_estimators': [10, 15],\n",
    "'max_features': np.arange(3, 5),\n",
    "'max_depth': np.arange(4, 7)}]`\n",
    "\n",
    "Создайте модель GridSearchCV со следующими аргументами:\n",
    "* estimator=RandomForestClassifier(random_state=100),\n",
    "* param_grid=parameters,\n",
    "* scoring='roc_auc',\n",
    "* cv=3.\n",
    "\n",
    "Обучите модель на тренировочном наборе данных (может занять несколько минут).\n",
    "\n",
    "Просмотрите параметры лучшей модели с помощью атрибута best_params_.\n",
    "\n",
    "Предскажите вероятности классов с помощью полученнной модели и метода predict_proba.\n",
    "\n",
    "Из полученного результата (массив Numpy) выберите столбец с индексом 1 (вероятность класса 1)\n",
    "    и запишите в массив y_pred_proba.\n",
    "\n",
    "Из модуля sklearn.metrics импортируйте метрику roc_auc_score.\n",
    "\n",
    "Вычислите AUC на тестовых данных и сравните с результатом, полученным на тренировочных данных,\n",
    "используя в качестве аргументов массивы y_test и y_pred_proba."
   ],
   "metadata": {
    "collapsed": false
   }
  },
  {
   "cell_type": "code",
   "execution_count": null,
   "outputs": [],
   "source": [],
   "metadata": {
    "collapsed": false,
    "pycharm": {
     "name": "#%%\n"
    }
   }
  },
  {
   "cell_type": "markdown",
   "source": [
    "# **Задание на повторение материала"
   ],
   "metadata": {
    "collapsed": false
   }
  },
  {
   "cell_type": "markdown",
   "source": [
    "1. Загрузите датасет Wine из встроенных датасетов sklearn.datasets с помощью функции\n",
    "load_wine в переменную data."
   ],
   "metadata": {
    "collapsed": false
   }
  },
  {
   "cell_type": "code",
   "execution_count": 45,
   "outputs": [
    {
     "data": {
      "text/plain": "dict_keys(['data', 'target', 'frame', 'target_names', 'DESCR', 'feature_names'])"
     },
     "execution_count": 45,
     "metadata": {},
     "output_type": "execute_result"
    }
   ],
   "source": [
    "from sklearn.datasets import load_wine\n",
    "wine = load_wine()\n",
    "wine.keys()"
   ],
   "metadata": {
    "collapsed": false,
    "pycharm": {
     "name": "#%%\n"
    }
   }
  },
  {
   "cell_type": "markdown",
   "source": [
    "2. Полученный датасет не является датафреймом. Это структура данных, имеющая ключи аналогично\n",
    "словарю. Просмотрите тип данных этой структуры данных и создайте список data_keys, содержащий ее ключи."
   ],
   "metadata": {
    "collapsed": false
   }
  },
  {
   "cell_type": "code",
   "execution_count": 55,
   "outputs": [
    {
     "data": {
      "text/plain": "dict_keys(['data', 'target', 'frame', 'target_names', 'DESCR', 'feature_names'])"
     },
     "execution_count": 55,
     "metadata": {},
     "output_type": "execute_result"
    }
   ],
   "source": [
    "data = wine[\"data\"]\n",
    "data_keys = wine.keys()\n",
    "data_keys"
   ],
   "metadata": {
    "collapsed": false,
    "pycharm": {
     "name": "#%%\n"
    }
   }
  },
  {
   "cell_type": "code",
   "execution_count": 56,
   "outputs": [
    {
     "data": {
      "text/plain": "(178, 13)"
     },
     "execution_count": 56,
     "metadata": {},
     "output_type": "execute_result"
    }
   ],
   "source": [
    "data.shape"
   ],
   "metadata": {
    "collapsed": false,
    "pycharm": {
     "name": "#%%\n"
    }
   }
  },
  {
   "cell_type": "code",
   "execution_count": 60,
   "outputs": [
    {
     "data": {
      "text/plain": "   alcohol  malic_acid   ash  alcalinity_of_ash  magnesium  total_phenols  \\\n0    14.23        1.71  2.43               15.6      127.0           2.80   \n1    13.20        1.78  2.14               11.2      100.0           2.65   \n2    13.16        2.36  2.67               18.6      101.0           2.80   \n3    14.37        1.95  2.50               16.8      113.0           3.85   \n4    13.24        2.59  2.87               21.0      118.0           2.80   \n\n   flavanoids  nonflavanoid_phenols  proanthocyanins  color_intensity   hue  \\\n0        3.06                  0.28             2.29             5.64  1.04   \n1        2.76                  0.26             1.28             4.38  1.05   \n2        3.24                  0.30             2.81             5.68  1.03   \n3        3.49                  0.24             2.18             7.80  0.86   \n4        2.69                  0.39             1.82             4.32  1.04   \n\n   od280/od315_of_diluted_wines  proline  \n0                          3.92   1065.0  \n1                          3.40   1050.0  \n2                          3.17   1185.0  \n3                          3.45   1480.0  \n4                          2.93    735.0  ",
      "text/html": "<div>\n<style scoped>\n    .dataframe tbody tr th:only-of-type {\n        vertical-align: middle;\n    }\n\n    .dataframe tbody tr th {\n        vertical-align: top;\n    }\n\n    .dataframe thead th {\n        text-align: right;\n    }\n</style>\n<table border=\"1\" class=\"dataframe\">\n  <thead>\n    <tr style=\"text-align: right;\">\n      <th></th>\n      <th>alcohol</th>\n      <th>malic_acid</th>\n      <th>ash</th>\n      <th>alcalinity_of_ash</th>\n      <th>magnesium</th>\n      <th>total_phenols</th>\n      <th>flavanoids</th>\n      <th>nonflavanoid_phenols</th>\n      <th>proanthocyanins</th>\n      <th>color_intensity</th>\n      <th>hue</th>\n      <th>od280/od315_of_diluted_wines</th>\n      <th>proline</th>\n    </tr>\n  </thead>\n  <tbody>\n    <tr>\n      <th>0</th>\n      <td>14.23</td>\n      <td>1.71</td>\n      <td>2.43</td>\n      <td>15.6</td>\n      <td>127.0</td>\n      <td>2.80</td>\n      <td>3.06</td>\n      <td>0.28</td>\n      <td>2.29</td>\n      <td>5.64</td>\n      <td>1.04</td>\n      <td>3.92</td>\n      <td>1065.0</td>\n    </tr>\n    <tr>\n      <th>1</th>\n      <td>13.20</td>\n      <td>1.78</td>\n      <td>2.14</td>\n      <td>11.2</td>\n      <td>100.0</td>\n      <td>2.65</td>\n      <td>2.76</td>\n      <td>0.26</td>\n      <td>1.28</td>\n      <td>4.38</td>\n      <td>1.05</td>\n      <td>3.40</td>\n      <td>1050.0</td>\n    </tr>\n    <tr>\n      <th>2</th>\n      <td>13.16</td>\n      <td>2.36</td>\n      <td>2.67</td>\n      <td>18.6</td>\n      <td>101.0</td>\n      <td>2.80</td>\n      <td>3.24</td>\n      <td>0.30</td>\n      <td>2.81</td>\n      <td>5.68</td>\n      <td>1.03</td>\n      <td>3.17</td>\n      <td>1185.0</td>\n    </tr>\n    <tr>\n      <th>3</th>\n      <td>14.37</td>\n      <td>1.95</td>\n      <td>2.50</td>\n      <td>16.8</td>\n      <td>113.0</td>\n      <td>3.85</td>\n      <td>3.49</td>\n      <td>0.24</td>\n      <td>2.18</td>\n      <td>7.80</td>\n      <td>0.86</td>\n      <td>3.45</td>\n      <td>1480.0</td>\n    </tr>\n    <tr>\n      <th>4</th>\n      <td>13.24</td>\n      <td>2.59</td>\n      <td>2.87</td>\n      <td>21.0</td>\n      <td>118.0</td>\n      <td>2.80</td>\n      <td>2.69</td>\n      <td>0.39</td>\n      <td>1.82</td>\n      <td>4.32</td>\n      <td>1.04</td>\n      <td>2.93</td>\n      <td>735.0</td>\n    </tr>\n  </tbody>\n</table>\n</div>"
     },
     "execution_count": 60,
     "metadata": {},
     "output_type": "execute_result"
    }
   ],
   "source": [
    "feature_names = wine['feature_names']\n",
    "X = pd.DataFrame(data, columns=feature_names)\n",
    "X.head()"
   ],
   "metadata": {
    "collapsed": false,
    "pycharm": {
     "name": "#%%\n"
    }
   }
  },
  {
   "cell_type": "code",
   "execution_count": 64,
   "outputs": [
    {
     "data": {
      "text/plain": "array([0, 0, 0, 0, 0, 0, 0, 0, 0, 0, 0, 0, 0, 0, 0, 0, 0, 0, 0, 0, 0, 0,\n       0, 0, 0, 0, 0, 0, 0, 0, 0, 0, 0, 0, 0, 0, 0, 0, 0, 0, 0, 0, 0, 0,\n       0, 0, 0, 0, 0, 0, 0, 0, 0, 0, 0, 0, 0, 0, 0, 1, 1, 1, 1, 1, 1, 1,\n       1, 1, 1, 1, 1, 1, 1, 1, 1, 1, 1, 1, 1, 1, 1, 1, 1, 1, 1, 1, 1, 1,\n       1, 1, 1, 1, 1, 1, 1, 1, 1, 1, 1, 1, 1, 1, 1, 1, 1, 1, 1, 1, 1, 1,\n       1, 1, 1, 1, 1, 1, 1, 1, 1, 1, 1, 1, 1, 1, 1, 1, 1, 1, 1, 1, 2, 2,\n       2, 2, 2, 2, 2, 2, 2, 2, 2, 2, 2, 2, 2, 2, 2, 2, 2, 2, 2, 2, 2, 2,\n       2, 2, 2, 2, 2, 2, 2, 2, 2, 2, 2, 2, 2, 2, 2, 2, 2, 2, 2, 2, 2, 2,\n       2, 2])"
     },
     "execution_count": 64,
     "metadata": {},
     "output_type": "execute_result"
    }
   ],
   "source": [
    "target = wine[\"target\"]\n",
    "target"
   ],
   "metadata": {
    "collapsed": false,
    "pycharm": {
     "name": "#%%\n"
    }
   }
  },
  {
   "cell_type": "markdown",
   "source": [
    "3. Просмотрите данные, описание и названия признаков в датасете. Описание нужно вывести в виде\n",
    "привычного, аккуратно оформленного текста, без обозначений переноса строки, но с самими переносами\n",
    "и т.д."
   ],
   "metadata": {
    "collapsed": false
   }
  },
  {
   "cell_type": "code",
   "execution_count": 52,
   "outputs": [
    {
     "name": "stdout",
     "output_type": "stream",
     "text": [
      ".. _wine_dataset:\n",
      "\n",
      "Wine recognition dataset\n",
      "------------------------\n",
      "\n",
      "**Data Set Characteristics:**\n",
      "\n",
      "    :Number of Instances: 178 (50 in each of three classes)\n",
      "    :Number of Attributes: 13 numeric, predictive attributes and the class\n",
      "    :Attribute Information:\n",
      " \t\t- Alcohol\n",
      " \t\t- Malic acid\n",
      " \t\t- Ash\n",
      "\t\t- Alcalinity of ash  \n",
      " \t\t- Magnesium\n",
      "\t\t- Total phenols\n",
      " \t\t- Flavanoids\n",
      " \t\t- Nonflavanoid phenols\n",
      " \t\t- Proanthocyanins\n",
      "\t\t- Color intensity\n",
      " \t\t- Hue\n",
      " \t\t- OD280/OD315 of diluted wines\n",
      " \t\t- Proline\n",
      "\n",
      "    - class:\n",
      "            - class_0\n",
      "            - class_1\n",
      "            - class_2\n",
      "\t\t\n",
      "    :Summary Statistics:\n",
      "    \n",
      "    ============================= ==== ===== ======= =====\n",
      "                                   Min   Max   Mean     SD\n",
      "    ============================= ==== ===== ======= =====\n",
      "    Alcohol:                      11.0  14.8    13.0   0.8\n",
      "    Malic Acid:                   0.74  5.80    2.34  1.12\n",
      "    Ash:                          1.36  3.23    2.36  0.27\n",
      "    Alcalinity of Ash:            10.6  30.0    19.5   3.3\n",
      "    Magnesium:                    70.0 162.0    99.7  14.3\n",
      "    Total Phenols:                0.98  3.88    2.29  0.63\n",
      "    Flavanoids:                   0.34  5.08    2.03  1.00\n",
      "    Nonflavanoid Phenols:         0.13  0.66    0.36  0.12\n",
      "    Proanthocyanins:              0.41  3.58    1.59  0.57\n",
      "    Colour Intensity:              1.3  13.0     5.1   2.3\n",
      "    Hue:                          0.48  1.71    0.96  0.23\n",
      "    OD280/OD315 of diluted wines: 1.27  4.00    2.61  0.71\n",
      "    Proline:                       278  1680     746   315\n",
      "    ============================= ==== ===== ======= =====\n",
      "\n",
      "    :Missing Attribute Values: None\n",
      "    :Class Distribution: class_0 (59), class_1 (71), class_2 (48)\n",
      "    :Creator: R.A. Fisher\n",
      "    :Donor: Michael Marshall (MARSHALL%PLU@io.arc.nasa.gov)\n",
      "    :Date: July, 1988\n",
      "\n",
      "This is a copy of UCI ML Wine recognition datasets.\n",
      "https://archive.ics.uci.edu/ml/machine-learning-databases/wine/wine.data\n",
      "\n",
      "The data is the results of a chemical analysis of wines grown in the same\n",
      "region in Italy by three different cultivators. There are thirteen different\n",
      "measurements taken for different constituents found in the three types of\n",
      "wine.\n",
      "\n",
      "Original Owners: \n",
      "\n",
      "Forina, M. et al, PARVUS - \n",
      "An Extendible Package for Data Exploration, Classification and Correlation. \n",
      "Institute of Pharmaceutical and Food Analysis and Technologies,\n",
      "Via Brigata Salerno, 16147 Genoa, Italy.\n",
      "\n",
      "Citation:\n",
      "\n",
      "Lichman, M. (2013). UCI Machine Learning Repository\n",
      "[https://archive.ics.uci.edu/ml]. Irvine, CA: University of California,\n",
      "School of Information and Computer Science. \n",
      "\n",
      ".. topic:: References\n",
      "\n",
      "  (1) S. Aeberhard, D. Coomans and O. de Vel, \n",
      "  Comparison of Classifiers in High Dimensional Settings, \n",
      "  Tech. Rep. no. 92-02, (1992), Dept. of Computer Science and Dept. of  \n",
      "  Mathematics and Statistics, James Cook University of North Queensland. \n",
      "  (Also submitted to Technometrics). \n",
      "\n",
      "  The data was used with many others for comparing various \n",
      "  classifiers. The classes are separable, though only RDA \n",
      "  has achieved 100% correct classification. \n",
      "  (RDA : 100%, QDA 99.4%, LDA 98.9%, 1NN 96.1% (z-transformed data)) \n",
      "  (All results using the leave-one-out technique) \n",
      "\n",
      "  (2) S. Aeberhard, D. Coomans and O. de Vel, \n",
      "  \"THE CLASSIFICATION PERFORMANCE OF RDA\" \n",
      "  Tech. Rep. no. 92-01, (1992), Dept. of Computer Science and Dept. of \n",
      "  Mathematics and Statistics, James Cook University of North Queensland. \n",
      "  (Also submitted to Journal of Chemometrics).\n",
      "\n"
     ]
    }
   ],
   "source": [
    "print(wine[\"DESCR\"])"
   ],
   "metadata": {
    "collapsed": false,
    "pycharm": {
     "name": "#%%\n"
    }
   }
  },
  {
   "cell_type": "code",
   "execution_count": 66,
   "outputs": [
    {
     "name": "stdout",
     "output_type": "stream",
     "text": [
      "<class 'pandas.core.frame.DataFrame'>\n",
      "RangeIndex: 178 entries, 0 to 177\n",
      "Data columns (total 13 columns):\n",
      " #   Column                        Non-Null Count  Dtype  \n",
      "---  ------                        --------------  -----  \n",
      " 0   alcohol                       178 non-null    float64\n",
      " 1   malic_acid                    178 non-null    float64\n",
      " 2   ash                           178 non-null    float64\n",
      " 3   alcalinity_of_ash             178 non-null    float64\n",
      " 4   magnesium                     178 non-null    float64\n",
      " 5   total_phenols                 178 non-null    float64\n",
      " 6   flavanoids                    178 non-null    float64\n",
      " 7   nonflavanoid_phenols          178 non-null    float64\n",
      " 8   proanthocyanins               178 non-null    float64\n",
      " 9   color_intensity               178 non-null    float64\n",
      " 10  hue                           178 non-null    float64\n",
      " 11  od280/od315_of_diluted_wines  178 non-null    float64\n",
      " 12  proline                       178 non-null    float64\n",
      "dtypes: float64(13)\n",
      "memory usage: 18.2 KB\n"
     ]
    }
   ],
   "source": [
    "X.info()"
   ],
   "metadata": {
    "collapsed": false,
    "pycharm": {
     "name": "#%%\n"
    }
   }
  },
  {
   "cell_type": "markdown",
   "source": [
    "4. Сколько классов содержит целевая переменная датасета? Выведите названия классов."
   ],
   "metadata": {
    "collapsed": false,
    "pycharm": {
     "name": "#%% md\n"
    }
   }
  },
  {
   "cell_type": "code",
   "execution_count": 68,
   "outputs": [
    {
     "data": {
      "text/plain": "array(['class_0', 'class_1', 'class_2'], dtype='<U7')"
     },
     "execution_count": 68,
     "metadata": {},
     "output_type": "execute_result"
    }
   ],
   "source": [
    "wine[\"target_names\"]"
   ],
   "metadata": {
    "collapsed": false,
    "pycharm": {
     "name": "#%%\n"
    }
   }
  },
  {
   "cell_type": "markdown",
   "source": [
    "5. На основе данных датасета (они содержатся в двумерном массиве Numpy) и названий признаков\n",
    "создайте датафрейм под названием X."
   ],
   "metadata": {
    "collapsed": false
   }
  },
  {
   "cell_type": "code",
   "execution_count": 69,
   "outputs": [
    {
     "data": {
      "text/plain": "     alcohol  malic_acid   ash  alcalinity_of_ash  magnesium  total_phenols  \\\n0      14.23        1.71  2.43               15.6      127.0           2.80   \n1      13.20        1.78  2.14               11.2      100.0           2.65   \n2      13.16        2.36  2.67               18.6      101.0           2.80   \n3      14.37        1.95  2.50               16.8      113.0           3.85   \n4      13.24        2.59  2.87               21.0      118.0           2.80   \n..       ...         ...   ...                ...        ...            ...   \n173    13.71        5.65  2.45               20.5       95.0           1.68   \n174    13.40        3.91  2.48               23.0      102.0           1.80   \n175    13.27        4.28  2.26               20.0      120.0           1.59   \n176    13.17        2.59  2.37               20.0      120.0           1.65   \n177    14.13        4.10  2.74               24.5       96.0           2.05   \n\n     flavanoids  nonflavanoid_phenols  proanthocyanins  color_intensity   hue  \\\n0          3.06                  0.28             2.29             5.64  1.04   \n1          2.76                  0.26             1.28             4.38  1.05   \n2          3.24                  0.30             2.81             5.68  1.03   \n3          3.49                  0.24             2.18             7.80  0.86   \n4          2.69                  0.39             1.82             4.32  1.04   \n..          ...                   ...              ...              ...   ...   \n173        0.61                  0.52             1.06             7.70  0.64   \n174        0.75                  0.43             1.41             7.30  0.70   \n175        0.69                  0.43             1.35            10.20  0.59   \n176        0.68                  0.53             1.46             9.30  0.60   \n177        0.76                  0.56             1.35             9.20  0.61   \n\n     od280/od315_of_diluted_wines  proline  \n0                            3.92   1065.0  \n1                            3.40   1050.0  \n2                            3.17   1185.0  \n3                            3.45   1480.0  \n4                            2.93    735.0  \n..                            ...      ...  \n173                          1.74    740.0  \n174                          1.56    750.0  \n175                          1.56    835.0  \n176                          1.62    840.0  \n177                          1.60    560.0  \n\n[178 rows x 13 columns]",
      "text/html": "<div>\n<style scoped>\n    .dataframe tbody tr th:only-of-type {\n        vertical-align: middle;\n    }\n\n    .dataframe tbody tr th {\n        vertical-align: top;\n    }\n\n    .dataframe thead th {\n        text-align: right;\n    }\n</style>\n<table border=\"1\" class=\"dataframe\">\n  <thead>\n    <tr style=\"text-align: right;\">\n      <th></th>\n      <th>alcohol</th>\n      <th>malic_acid</th>\n      <th>ash</th>\n      <th>alcalinity_of_ash</th>\n      <th>magnesium</th>\n      <th>total_phenols</th>\n      <th>flavanoids</th>\n      <th>nonflavanoid_phenols</th>\n      <th>proanthocyanins</th>\n      <th>color_intensity</th>\n      <th>hue</th>\n      <th>od280/od315_of_diluted_wines</th>\n      <th>proline</th>\n    </tr>\n  </thead>\n  <tbody>\n    <tr>\n      <th>0</th>\n      <td>14.23</td>\n      <td>1.71</td>\n      <td>2.43</td>\n      <td>15.6</td>\n      <td>127.0</td>\n      <td>2.80</td>\n      <td>3.06</td>\n      <td>0.28</td>\n      <td>2.29</td>\n      <td>5.64</td>\n      <td>1.04</td>\n      <td>3.92</td>\n      <td>1065.0</td>\n    </tr>\n    <tr>\n      <th>1</th>\n      <td>13.20</td>\n      <td>1.78</td>\n      <td>2.14</td>\n      <td>11.2</td>\n      <td>100.0</td>\n      <td>2.65</td>\n      <td>2.76</td>\n      <td>0.26</td>\n      <td>1.28</td>\n      <td>4.38</td>\n      <td>1.05</td>\n      <td>3.40</td>\n      <td>1050.0</td>\n    </tr>\n    <tr>\n      <th>2</th>\n      <td>13.16</td>\n      <td>2.36</td>\n      <td>2.67</td>\n      <td>18.6</td>\n      <td>101.0</td>\n      <td>2.80</td>\n      <td>3.24</td>\n      <td>0.30</td>\n      <td>2.81</td>\n      <td>5.68</td>\n      <td>1.03</td>\n      <td>3.17</td>\n      <td>1185.0</td>\n    </tr>\n    <tr>\n      <th>3</th>\n      <td>14.37</td>\n      <td>1.95</td>\n      <td>2.50</td>\n      <td>16.8</td>\n      <td>113.0</td>\n      <td>3.85</td>\n      <td>3.49</td>\n      <td>0.24</td>\n      <td>2.18</td>\n      <td>7.80</td>\n      <td>0.86</td>\n      <td>3.45</td>\n      <td>1480.0</td>\n    </tr>\n    <tr>\n      <th>4</th>\n      <td>13.24</td>\n      <td>2.59</td>\n      <td>2.87</td>\n      <td>21.0</td>\n      <td>118.0</td>\n      <td>2.80</td>\n      <td>2.69</td>\n      <td>0.39</td>\n      <td>1.82</td>\n      <td>4.32</td>\n      <td>1.04</td>\n      <td>2.93</td>\n      <td>735.0</td>\n    </tr>\n    <tr>\n      <th>...</th>\n      <td>...</td>\n      <td>...</td>\n      <td>...</td>\n      <td>...</td>\n      <td>...</td>\n      <td>...</td>\n      <td>...</td>\n      <td>...</td>\n      <td>...</td>\n      <td>...</td>\n      <td>...</td>\n      <td>...</td>\n      <td>...</td>\n    </tr>\n    <tr>\n      <th>173</th>\n      <td>13.71</td>\n      <td>5.65</td>\n      <td>2.45</td>\n      <td>20.5</td>\n      <td>95.0</td>\n      <td>1.68</td>\n      <td>0.61</td>\n      <td>0.52</td>\n      <td>1.06</td>\n      <td>7.70</td>\n      <td>0.64</td>\n      <td>1.74</td>\n      <td>740.0</td>\n    </tr>\n    <tr>\n      <th>174</th>\n      <td>13.40</td>\n      <td>3.91</td>\n      <td>2.48</td>\n      <td>23.0</td>\n      <td>102.0</td>\n      <td>1.80</td>\n      <td>0.75</td>\n      <td>0.43</td>\n      <td>1.41</td>\n      <td>7.30</td>\n      <td>0.70</td>\n      <td>1.56</td>\n      <td>750.0</td>\n    </tr>\n    <tr>\n      <th>175</th>\n      <td>13.27</td>\n      <td>4.28</td>\n      <td>2.26</td>\n      <td>20.0</td>\n      <td>120.0</td>\n      <td>1.59</td>\n      <td>0.69</td>\n      <td>0.43</td>\n      <td>1.35</td>\n      <td>10.20</td>\n      <td>0.59</td>\n      <td>1.56</td>\n      <td>835.0</td>\n    </tr>\n    <tr>\n      <th>176</th>\n      <td>13.17</td>\n      <td>2.59</td>\n      <td>2.37</td>\n      <td>20.0</td>\n      <td>120.0</td>\n      <td>1.65</td>\n      <td>0.68</td>\n      <td>0.53</td>\n      <td>1.46</td>\n      <td>9.30</td>\n      <td>0.60</td>\n      <td>1.62</td>\n      <td>840.0</td>\n    </tr>\n    <tr>\n      <th>177</th>\n      <td>14.13</td>\n      <td>4.10</td>\n      <td>2.74</td>\n      <td>24.5</td>\n      <td>96.0</td>\n      <td>2.05</td>\n      <td>0.76</td>\n      <td>0.56</td>\n      <td>1.35</td>\n      <td>9.20</td>\n      <td>0.61</td>\n      <td>1.60</td>\n      <td>560.0</td>\n    </tr>\n  </tbody>\n</table>\n<p>178 rows × 13 columns</p>\n</div>"
     },
     "execution_count": 69,
     "metadata": {},
     "output_type": "execute_result"
    }
   ],
   "source": [
    "X"
   ],
   "metadata": {
    "collapsed": false,
    "pycharm": {
     "name": "#%%\n"
    }
   }
  },
  {
   "cell_type": "markdown",
   "source": [
    "6. Выясните размер датафрейма X и установите, имеются ли в нем пропущенные значения."
   ],
   "metadata": {
    "collapsed": false
   }
  },
  {
   "cell_type": "code",
   "execution_count": 70,
   "outputs": [
    {
     "data": {
      "text/plain": "(178, 13)"
     },
     "execution_count": 70,
     "metadata": {},
     "output_type": "execute_result"
    }
   ],
   "source": [
    "X.shape"
   ],
   "metadata": {
    "collapsed": false,
    "pycharm": {
     "name": "#%%\n"
    }
   }
  },
  {
   "cell_type": "code",
   "execution_count": 71,
   "outputs": [
    {
     "name": "stdout",
     "output_type": "stream",
     "text": [
      "<class 'pandas.core.frame.DataFrame'>\n",
      "RangeIndex: 178 entries, 0 to 177\n",
      "Data columns (total 13 columns):\n",
      " #   Column                        Non-Null Count  Dtype  \n",
      "---  ------                        --------------  -----  \n",
      " 0   alcohol                       178 non-null    float64\n",
      " 1   malic_acid                    178 non-null    float64\n",
      " 2   ash                           178 non-null    float64\n",
      " 3   alcalinity_of_ash             178 non-null    float64\n",
      " 4   magnesium                     178 non-null    float64\n",
      " 5   total_phenols                 178 non-null    float64\n",
      " 6   flavanoids                    178 non-null    float64\n",
      " 7   nonflavanoid_phenols          178 non-null    float64\n",
      " 8   proanthocyanins               178 non-null    float64\n",
      " 9   color_intensity               178 non-null    float64\n",
      " 10  hue                           178 non-null    float64\n",
      " 11  od280/od315_of_diluted_wines  178 non-null    float64\n",
      " 12  proline                       178 non-null    float64\n",
      "dtypes: float64(13)\n",
      "memory usage: 18.2 KB\n"
     ]
    }
   ],
   "source": [
    "X.info()"
   ],
   "metadata": {
    "collapsed": false,
    "pycharm": {
     "name": "#%%\n"
    }
   }
  },
  {
   "cell_type": "markdown",
   "source": [
    "7. Добавьте в датафрейм поле с классами вин в виде чисел, имеющих тип данных numpy.int64.\n",
    "Название поля - 'target'."
   ],
   "metadata": {
    "collapsed": false
   }
  },
  {
   "cell_type": "code",
   "execution_count": null,
   "outputs": [],
   "source": [],
   "metadata": {
    "collapsed": false,
    "pycharm": {
     "name": "#%%\n"
    }
   }
  },
  {
   "cell_type": "markdown",
   "source": [
    "8. Постройте матрицу корреляций для всех полей X. Дайте полученному датафрейму название X_corr."
   ],
   "metadata": {
    "collapsed": false
   }
  },
  {
   "cell_type": "code",
   "execution_count": 74,
   "outputs": [
    {
     "data": {
      "text/plain": "<Figure size 576x720 with 2 Axes>",
      "image/svg+xml": "<?xml version=\"1.0\" encoding=\"utf-8\" standalone=\"no\"?>\n<!DOCTYPE svg PUBLIC \"-//W3C//DTD SVG 1.1//EN\"\n  \"http://www.w3.org/Graphics/SVG/1.1/DTD/svg11.dtd\">\n<svg height=\"702.19925pt\" version=\"1.1\" viewBox=\"0 0 579.2195 702.19925\" width=\"579.2195pt\" xmlns=\"http://www.w3.org/2000/svg\" xmlns:xlink=\"http://www.w3.org/1999/xlink\">\n <metadata>\n  <rdf:RDF xmlns:cc=\"http://creativecommons.org/ns#\" xmlns:dc=\"http://purl.org/dc/elements/1.1/\" xmlns:rdf=\"http://www.w3.org/1999/02/22-rdf-syntax-ns#\">\n   <cc:Work>\n    <dc:type rdf:resource=\"http://purl.org/dc/dcmitype/StillImage\"/>\n    <dc:date>2021-06-16T23:12:27.092980</dc:date>\n    <dc:format>image/svg+xml</dc:format>\n    <dc:creator>\n     <cc:Agent>\n      <dc:title>Matplotlib v3.4.2, https://matplotlib.org/</dc:title>\n     </cc:Agent>\n    </dc:creator>\n   </cc:Work>\n  </rdf:RDF>\n </metadata>\n <defs>\n  <style type=\"text/css\">*{stroke-linecap:butt;stroke-linejoin:round;}</style>\n </defs>\n <g id=\"figure_1\">\n  <g id=\"patch_1\">\n   <path d=\"M 0 702.19925 \nL 579.2195 702.19925 \nL 579.2195 0 \nL 0 0 \nz\n\" style=\"fill:#ffffff;\"/>\n  </g>\n  <g id=\"axes_1\">\n   <g id=\"patch_2\">\n    <path d=\"M 138.52775 563.6715 \nL 495.64775 563.6715 \nL 495.64775 20.0715 \nL 138.52775 20.0715 \nz\n\" style=\"fill:#eaeaf2;\"/>\n   </g>\n   <g id=\"matplotlib.axis_1\">\n    <g id=\"xtick_1\">\n     <g id=\"text_1\">\n      <!-- alcohol -->\n      <g style=\"fill:#262626;\" transform=\"translate(154.538072 601.0565)rotate(-90)scale(0.088 -0.088)\">\n       <defs>\n        <path d=\"M 2588 409 \nQ 2275 144 1986 34 \nQ 1697 -75 1366 -75 \nQ 819 -75 525 192 \nQ 231 459 231 875 \nQ 231 1119 342 1320 \nQ 453 1522 633 1644 \nQ 813 1766 1038 1828 \nQ 1203 1872 1538 1913 \nQ 2219 1994 2541 2106 \nQ 2544 2222 2544 2253 \nQ 2544 2597 2384 2738 \nQ 2169 2928 1744 2928 \nQ 1347 2928 1158 2789 \nQ 969 2650 878 2297 \nL 328 2372 \nQ 403 2725 575 2942 \nQ 747 3159 1072 3276 \nQ 1397 3394 1825 3394 \nQ 2250 3394 2515 3294 \nQ 2781 3194 2906 3042 \nQ 3031 2891 3081 2659 \nQ 3109 2516 3109 2141 \nL 3109 1391 \nQ 3109 606 3145 398 \nQ 3181 191 3288 0 \nL 2700 0 \nQ 2613 175 2588 409 \nz\nM 2541 1666 \nQ 2234 1541 1622 1453 \nQ 1275 1403 1131 1340 \nQ 988 1278 909 1158 \nQ 831 1038 831 891 \nQ 831 666 1001 516 \nQ 1172 366 1500 366 \nQ 1825 366 2078 508 \nQ 2331 650 2450 897 \nQ 2541 1088 2541 1459 \nL 2541 1666 \nz\n\" id=\"ArialMT-61\" transform=\"scale(0.015625)\"/>\n        <path d=\"M 409 0 \nL 409 4581 \nL 972 4581 \nL 972 0 \nL 409 0 \nz\n\" id=\"ArialMT-6c\" transform=\"scale(0.015625)\"/>\n        <path d=\"M 2588 1216 \nL 3141 1144 \nQ 3050 572 2676 248 \nQ 2303 -75 1759 -75 \nQ 1078 -75 664 370 \nQ 250 816 250 1647 \nQ 250 2184 428 2587 \nQ 606 2991 970 3192 \nQ 1334 3394 1763 3394 \nQ 2303 3394 2647 3120 \nQ 2991 2847 3088 2344 \nL 2541 2259 \nQ 2463 2594 2264 2762 \nQ 2066 2931 1784 2931 \nQ 1359 2931 1093 2626 \nQ 828 2322 828 1663 \nQ 828 994 1084 691 \nQ 1341 388 1753 388 \nQ 2084 388 2306 591 \nQ 2528 794 2588 1216 \nz\n\" id=\"ArialMT-63\" transform=\"scale(0.015625)\"/>\n        <path d=\"M 213 1659 \nQ 213 2581 725 3025 \nQ 1153 3394 1769 3394 \nQ 2453 3394 2887 2945 \nQ 3322 2497 3322 1706 \nQ 3322 1066 3130 698 \nQ 2938 331 2570 128 \nQ 2203 -75 1769 -75 \nQ 1072 -75 642 372 \nQ 213 819 213 1659 \nz\nM 791 1659 \nQ 791 1022 1069 705 \nQ 1347 388 1769 388 \nQ 2188 388 2466 706 \nQ 2744 1025 2744 1678 \nQ 2744 2294 2464 2611 \nQ 2184 2928 1769 2928 \nQ 1347 2928 1069 2612 \nQ 791 2297 791 1659 \nz\n\" id=\"ArialMT-6f\" transform=\"scale(0.015625)\"/>\n        <path d=\"M 422 0 \nL 422 4581 \nL 984 4581 \nL 984 2938 \nQ 1378 3394 1978 3394 \nQ 2347 3394 2619 3248 \nQ 2891 3103 3008 2847 \nQ 3125 2591 3125 2103 \nL 3125 0 \nL 2563 0 \nL 2563 2103 \nQ 2563 2525 2380 2717 \nQ 2197 2909 1863 2909 \nQ 1613 2909 1392 2779 \nQ 1172 2650 1078 2428 \nQ 984 2206 984 1816 \nL 984 0 \nL 422 0 \nz\n\" id=\"ArialMT-68\" transform=\"scale(0.015625)\"/>\n       </defs>\n       <use xlink:href=\"#ArialMT-61\"/>\n       <use x=\"55.615234\" xlink:href=\"#ArialMT-6c\"/>\n       <use x=\"77.832031\" xlink:href=\"#ArialMT-63\"/>\n       <use x=\"127.832031\" xlink:href=\"#ArialMT-6f\"/>\n       <use x=\"183.447266\" xlink:href=\"#ArialMT-68\"/>\n       <use x=\"239.0625\" xlink:href=\"#ArialMT-6f\"/>\n       <use x=\"294.677734\" xlink:href=\"#ArialMT-6c\"/>\n      </g>\n     </g>\n    </g>\n    <g id=\"xtick_2\">\n     <g id=\"text_2\">\n      <!-- malic_acid -->\n      <g style=\"fill:#262626;\" transform=\"translate(182.008841 614.741875)rotate(-90)scale(0.088 -0.088)\">\n       <defs>\n        <path d=\"M 422 0 \nL 422 3319 \nL 925 3319 \nL 925 2853 \nQ 1081 3097 1340 3245 \nQ 1600 3394 1931 3394 \nQ 2300 3394 2536 3241 \nQ 2772 3088 2869 2813 \nQ 3263 3394 3894 3394 \nQ 4388 3394 4653 3120 \nQ 4919 2847 4919 2278 \nL 4919 0 \nL 4359 0 \nL 4359 2091 \nQ 4359 2428 4304 2576 \nQ 4250 2725 4106 2815 \nQ 3963 2906 3769 2906 \nQ 3419 2906 3187 2673 \nQ 2956 2441 2956 1928 \nL 2956 0 \nL 2394 0 \nL 2394 2156 \nQ 2394 2531 2256 2718 \nQ 2119 2906 1806 2906 \nQ 1569 2906 1367 2781 \nQ 1166 2656 1075 2415 \nQ 984 2175 984 1722 \nL 984 0 \nL 422 0 \nz\n\" id=\"ArialMT-6d\" transform=\"scale(0.015625)\"/>\n        <path d=\"M 425 3934 \nL 425 4581 \nL 988 4581 \nL 988 3934 \nL 425 3934 \nz\nM 425 0 \nL 425 3319 \nL 988 3319 \nL 988 0 \nL 425 0 \nz\n\" id=\"ArialMT-69\" transform=\"scale(0.015625)\"/>\n        <path d=\"M -97 -1272 \nL -97 -866 \nL 3631 -866 \nL 3631 -1272 \nL -97 -1272 \nz\n\" id=\"ArialMT-5f\" transform=\"scale(0.015625)\"/>\n        <path d=\"M 2575 0 \nL 2575 419 \nQ 2259 -75 1647 -75 \nQ 1250 -75 917 144 \nQ 584 363 401 755 \nQ 219 1147 219 1656 \nQ 219 2153 384 2558 \nQ 550 2963 881 3178 \nQ 1213 3394 1622 3394 \nQ 1922 3394 2156 3267 \nQ 2391 3141 2538 2938 \nL 2538 4581 \nL 3097 4581 \nL 3097 0 \nL 2575 0 \nz\nM 797 1656 \nQ 797 1019 1065 703 \nQ 1334 388 1700 388 \nQ 2069 388 2326 689 \nQ 2584 991 2584 1609 \nQ 2584 2291 2321 2609 \nQ 2059 2928 1675 2928 \nQ 1300 2928 1048 2622 \nQ 797 2316 797 1656 \nz\n\" id=\"ArialMT-64\" transform=\"scale(0.015625)\"/>\n       </defs>\n       <use xlink:href=\"#ArialMT-6d\"/>\n       <use x=\"83.300781\" xlink:href=\"#ArialMT-61\"/>\n       <use x=\"138.916016\" xlink:href=\"#ArialMT-6c\"/>\n       <use x=\"161.132812\" xlink:href=\"#ArialMT-69\"/>\n       <use x=\"183.349609\" xlink:href=\"#ArialMT-63\"/>\n       <use x=\"233.349609\" xlink:href=\"#ArialMT-5f\"/>\n       <use x=\"288.964844\" xlink:href=\"#ArialMT-61\"/>\n       <use x=\"344.580078\" xlink:href=\"#ArialMT-63\"/>\n       <use x=\"394.580078\" xlink:href=\"#ArialMT-69\"/>\n       <use x=\"416.796875\" xlink:href=\"#ArialMT-64\"/>\n      </g>\n     </g>\n    </g>\n    <g id=\"xtick_3\">\n     <g id=\"text_3\">\n      <!-- ash -->\n      <g style=\"fill:#262626;\" transform=\"translate(209.479611 587.35875)rotate(-90)scale(0.088 -0.088)\">\n       <defs>\n        <path d=\"M 197 991 \nL 753 1078 \nQ 800 744 1014 566 \nQ 1228 388 1613 388 \nQ 2000 388 2187 545 \nQ 2375 703 2375 916 \nQ 2375 1106 2209 1216 \nQ 2094 1291 1634 1406 \nQ 1016 1563 777 1677 \nQ 538 1791 414 1992 \nQ 291 2194 291 2438 \nQ 291 2659 392 2848 \nQ 494 3038 669 3163 \nQ 800 3259 1026 3326 \nQ 1253 3394 1513 3394 \nQ 1903 3394 2198 3281 \nQ 2494 3169 2634 2976 \nQ 2775 2784 2828 2463 \nL 2278 2388 \nQ 2241 2644 2061 2787 \nQ 1881 2931 1553 2931 \nQ 1166 2931 1000 2803 \nQ 834 2675 834 2503 \nQ 834 2394 903 2306 \nQ 972 2216 1119 2156 \nQ 1203 2125 1616 2013 \nQ 2213 1853 2448 1751 \nQ 2684 1650 2818 1456 \nQ 2953 1263 2953 975 \nQ 2953 694 2789 445 \nQ 2625 197 2315 61 \nQ 2006 -75 1616 -75 \nQ 969 -75 630 194 \nQ 291 463 197 991 \nz\n\" id=\"ArialMT-73\" transform=\"scale(0.015625)\"/>\n       </defs>\n       <use xlink:href=\"#ArialMT-61\"/>\n       <use x=\"55.615234\" xlink:href=\"#ArialMT-73\"/>\n       <use x=\"105.615234\" xlink:href=\"#ArialMT-68\"/>\n      </g>\n     </g>\n    </g>\n    <g id=\"xtick_4\">\n     <g id=\"text_4\">\n      <!-- alcalinity_of_ash -->\n      <g style=\"fill:#262626;\" transform=\"translate(236.952442 638.231)rotate(-90)scale(0.088 -0.088)\">\n       <defs>\n        <path d=\"M 422 0 \nL 422 3319 \nL 928 3319 \nL 928 2847 \nQ 1294 3394 1984 3394 \nQ 2284 3394 2536 3286 \nQ 2788 3178 2913 3003 \nQ 3038 2828 3088 2588 \nQ 3119 2431 3119 2041 \nL 3119 0 \nL 2556 0 \nL 2556 2019 \nQ 2556 2363 2490 2533 \nQ 2425 2703 2258 2804 \nQ 2091 2906 1866 2906 \nQ 1506 2906 1245 2678 \nQ 984 2450 984 1813 \nL 984 0 \nL 422 0 \nz\n\" id=\"ArialMT-6e\" transform=\"scale(0.015625)\"/>\n        <path d=\"M 1650 503 \nL 1731 6 \nQ 1494 -44 1306 -44 \nQ 1000 -44 831 53 \nQ 663 150 594 308 \nQ 525 466 525 972 \nL 525 2881 \nL 113 2881 \nL 113 3319 \nL 525 3319 \nL 525 4141 \nL 1084 4478 \nL 1084 3319 \nL 1650 3319 \nL 1650 2881 \nL 1084 2881 \nL 1084 941 \nQ 1084 700 1114 631 \nQ 1144 563 1211 522 \nQ 1278 481 1403 481 \nQ 1497 481 1650 503 \nz\n\" id=\"ArialMT-74\" transform=\"scale(0.015625)\"/>\n        <path d=\"M 397 -1278 \nL 334 -750 \nQ 519 -800 656 -800 \nQ 844 -800 956 -737 \nQ 1069 -675 1141 -563 \nQ 1194 -478 1313 -144 \nQ 1328 -97 1363 -6 \nL 103 3319 \nL 709 3319 \nL 1400 1397 \nQ 1534 1031 1641 628 \nQ 1738 1016 1872 1384 \nL 2581 3319 \nL 3144 3319 \nL 1881 -56 \nQ 1678 -603 1566 -809 \nQ 1416 -1088 1222 -1217 \nQ 1028 -1347 759 -1347 \nQ 597 -1347 397 -1278 \nz\n\" id=\"ArialMT-79\" transform=\"scale(0.015625)\"/>\n        <path d=\"M 556 0 \nL 556 2881 \nL 59 2881 \nL 59 3319 \nL 556 3319 \nL 556 3672 \nQ 556 4006 616 4169 \nQ 697 4388 901 4523 \nQ 1106 4659 1475 4659 \nQ 1713 4659 2000 4603 \nL 1916 4113 \nQ 1741 4144 1584 4144 \nQ 1328 4144 1222 4034 \nQ 1116 3925 1116 3625 \nL 1116 3319 \nL 1763 3319 \nL 1763 2881 \nL 1116 2881 \nL 1116 0 \nL 556 0 \nz\n\" id=\"ArialMT-66\" transform=\"scale(0.015625)\"/>\n       </defs>\n       <use xlink:href=\"#ArialMT-61\"/>\n       <use x=\"55.615234\" xlink:href=\"#ArialMT-6c\"/>\n       <use x=\"77.832031\" xlink:href=\"#ArialMT-63\"/>\n       <use x=\"127.832031\" xlink:href=\"#ArialMT-61\"/>\n       <use x=\"183.447266\" xlink:href=\"#ArialMT-6c\"/>\n       <use x=\"205.664062\" xlink:href=\"#ArialMT-69\"/>\n       <use x=\"227.880859\" xlink:href=\"#ArialMT-6e\"/>\n       <use x=\"283.496094\" xlink:href=\"#ArialMT-69\"/>\n       <use x=\"305.712891\" xlink:href=\"#ArialMT-74\"/>\n       <use x=\"333.496094\" xlink:href=\"#ArialMT-79\"/>\n       <use x=\"383.496094\" xlink:href=\"#ArialMT-5f\"/>\n       <use x=\"439.111328\" xlink:href=\"#ArialMT-6f\"/>\n       <use x=\"494.726562\" xlink:href=\"#ArialMT-66\"/>\n       <use x=\"522.509766\" xlink:href=\"#ArialMT-5f\"/>\n       <use x=\"578.125\" xlink:href=\"#ArialMT-61\"/>\n       <use x=\"633.740234\" xlink:href=\"#ArialMT-73\"/>\n       <use x=\"683.740234\" xlink:href=\"#ArialMT-68\"/>\n      </g>\n     </g>\n    </g>\n    <g id=\"xtick_5\">\n     <g id=\"text_5\">\n      <!-- magnesium -->\n      <g style=\"fill:#262626;\" transform=\"translate(264.369587 618.655125)rotate(-90)scale(0.088 -0.088)\">\n       <defs>\n        <path d=\"M 319 -275 \nL 866 -356 \nQ 900 -609 1056 -725 \nQ 1266 -881 1628 -881 \nQ 2019 -881 2231 -725 \nQ 2444 -569 2519 -288 \nQ 2563 -116 2559 434 \nQ 2191 0 1641 0 \nQ 956 0 581 494 \nQ 206 988 206 1678 \nQ 206 2153 378 2554 \nQ 550 2956 876 3175 \nQ 1203 3394 1644 3394 \nQ 2231 3394 2613 2919 \nL 2613 3319 \nL 3131 3319 \nL 3131 450 \nQ 3131 -325 2973 -648 \nQ 2816 -972 2473 -1159 \nQ 2131 -1347 1631 -1347 \nQ 1038 -1347 672 -1080 \nQ 306 -813 319 -275 \nz\nM 784 1719 \nQ 784 1066 1043 766 \nQ 1303 466 1694 466 \nQ 2081 466 2343 764 \nQ 2606 1063 2606 1700 \nQ 2606 2309 2336 2618 \nQ 2066 2928 1684 2928 \nQ 1309 2928 1046 2623 \nQ 784 2319 784 1719 \nz\n\" id=\"ArialMT-67\" transform=\"scale(0.015625)\"/>\n        <path d=\"M 2694 1069 \nL 3275 997 \nQ 3138 488 2766 206 \nQ 2394 -75 1816 -75 \nQ 1088 -75 661 373 \nQ 234 822 234 1631 \nQ 234 2469 665 2931 \nQ 1097 3394 1784 3394 \nQ 2450 3394 2872 2941 \nQ 3294 2488 3294 1666 \nQ 3294 1616 3291 1516 \nL 816 1516 \nQ 847 969 1125 678 \nQ 1403 388 1819 388 \nQ 2128 388 2347 550 \nQ 2566 713 2694 1069 \nz\nM 847 1978 \nL 2700 1978 \nQ 2663 2397 2488 2606 \nQ 2219 2931 1791 2931 \nQ 1403 2931 1139 2672 \nQ 875 2413 847 1978 \nz\n\" id=\"ArialMT-65\" transform=\"scale(0.015625)\"/>\n        <path d=\"M 2597 0 \nL 2597 488 \nQ 2209 -75 1544 -75 \nQ 1250 -75 995 37 \nQ 741 150 617 320 \nQ 494 491 444 738 \nQ 409 903 409 1263 \nL 409 3319 \nL 972 3319 \nL 972 1478 \nQ 972 1038 1006 884 \nQ 1059 663 1231 536 \nQ 1403 409 1656 409 \nQ 1909 409 2131 539 \nQ 2353 669 2445 892 \nQ 2538 1116 2538 1541 \nL 2538 3319 \nL 3100 3319 \nL 3100 0 \nL 2597 0 \nz\n\" id=\"ArialMT-75\" transform=\"scale(0.015625)\"/>\n       </defs>\n       <use xlink:href=\"#ArialMT-6d\"/>\n       <use x=\"83.300781\" xlink:href=\"#ArialMT-61\"/>\n       <use x=\"138.916016\" xlink:href=\"#ArialMT-67\"/>\n       <use x=\"194.53125\" xlink:href=\"#ArialMT-6e\"/>\n       <use x=\"250.146484\" xlink:href=\"#ArialMT-65\"/>\n       <use x=\"305.761719\" xlink:href=\"#ArialMT-73\"/>\n       <use x=\"355.761719\" xlink:href=\"#ArialMT-69\"/>\n       <use x=\"377.978516\" xlink:href=\"#ArialMT-75\"/>\n       <use x=\"433.59375\" xlink:href=\"#ArialMT-6d\"/>\n      </g>\n     </g>\n    </g>\n    <g id=\"xtick_6\">\n     <g id=\"text_6\">\n      <!-- total_phenols -->\n      <g style=\"fill:#262626;\" transform=\"translate(291.891918 625.5205)rotate(-90)scale(0.088 -0.088)\">\n       <defs>\n        <path d=\"M 422 -1272 \nL 422 3319 \nL 934 3319 \nL 934 2888 \nQ 1116 3141 1344 3267 \nQ 1572 3394 1897 3394 \nQ 2322 3394 2647 3175 \nQ 2972 2956 3137 2557 \nQ 3303 2159 3303 1684 \nQ 3303 1175 3120 767 \nQ 2938 359 2589 142 \nQ 2241 -75 1856 -75 \nQ 1575 -75 1351 44 \nQ 1128 163 984 344 \nL 984 -1272 \nL 422 -1272 \nz\nM 931 1641 \nQ 931 1000 1190 694 \nQ 1450 388 1819 388 \nQ 2194 388 2461 705 \nQ 2728 1022 2728 1688 \nQ 2728 2322 2467 2637 \nQ 2206 2953 1844 2953 \nQ 1484 2953 1207 2617 \nQ 931 2281 931 1641 \nz\n\" id=\"ArialMT-70\" transform=\"scale(0.015625)\"/>\n       </defs>\n       <use xlink:href=\"#ArialMT-74\"/>\n       <use x=\"27.783203\" xlink:href=\"#ArialMT-6f\"/>\n       <use x=\"83.398438\" xlink:href=\"#ArialMT-74\"/>\n       <use x=\"111.181641\" xlink:href=\"#ArialMT-61\"/>\n       <use x=\"166.796875\" xlink:href=\"#ArialMT-6c\"/>\n       <use x=\"189.013672\" xlink:href=\"#ArialMT-5f\"/>\n       <use x=\"244.628906\" xlink:href=\"#ArialMT-70\"/>\n       <use x=\"300.244141\" xlink:href=\"#ArialMT-68\"/>\n       <use x=\"355.859375\" xlink:href=\"#ArialMT-65\"/>\n       <use x=\"411.474609\" xlink:href=\"#ArialMT-6e\"/>\n       <use x=\"467.089844\" xlink:href=\"#ArialMT-6f\"/>\n       <use x=\"522.705078\" xlink:href=\"#ArialMT-6c\"/>\n       <use x=\"544.921875\" xlink:href=\"#ArialMT-73\"/>\n      </g>\n     </g>\n    </g>\n    <g id=\"xtick_7\">\n     <g id=\"text_7\">\n      <!-- flavanoids -->\n      <g style=\"fill:#262626;\" transform=\"translate(319.362688 612.794875)rotate(-90)scale(0.088 -0.088)\">\n       <defs>\n        <path d=\"M 1344 0 \nL 81 3319 \nL 675 3319 \nL 1388 1331 \nQ 1503 1009 1600 663 \nQ 1675 925 1809 1294 \nL 2547 3319 \nL 3125 3319 \nL 1869 0 \nL 1344 0 \nz\n\" id=\"ArialMT-76\" transform=\"scale(0.015625)\"/>\n       </defs>\n       <use xlink:href=\"#ArialMT-66\"/>\n       <use x=\"27.783203\" xlink:href=\"#ArialMT-6c\"/>\n       <use x=\"50\" xlink:href=\"#ArialMT-61\"/>\n       <use x=\"105.615234\" xlink:href=\"#ArialMT-76\"/>\n       <use x=\"155.615234\" xlink:href=\"#ArialMT-61\"/>\n       <use x=\"211.230469\" xlink:href=\"#ArialMT-6e\"/>\n       <use x=\"266.845703\" xlink:href=\"#ArialMT-6f\"/>\n       <use x=\"322.460938\" xlink:href=\"#ArialMT-69\"/>\n       <use x=\"344.677734\" xlink:href=\"#ArialMT-64\"/>\n       <use x=\"400.292969\" xlink:href=\"#ArialMT-73\"/>\n      </g>\n     </g>\n    </g>\n    <g id=\"xtick_8\">\n     <g id=\"text_8\">\n      <!-- nonflavanoid_phenols -->\n      <g style=\"fill:#262626;\" transform=\"translate(346.887082 658.79275)rotate(-90)scale(0.088 -0.088)\">\n       <use xlink:href=\"#ArialMT-6e\"/>\n       <use x=\"55.615234\" xlink:href=\"#ArialMT-6f\"/>\n       <use x=\"111.230469\" xlink:href=\"#ArialMT-6e\"/>\n       <use x=\"166.845703\" xlink:href=\"#ArialMT-66\"/>\n       <use x=\"194.628906\" xlink:href=\"#ArialMT-6c\"/>\n       <use x=\"216.845703\" xlink:href=\"#ArialMT-61\"/>\n       <use x=\"272.460938\" xlink:href=\"#ArialMT-76\"/>\n       <use x=\"322.460938\" xlink:href=\"#ArialMT-61\"/>\n       <use x=\"378.076172\" xlink:href=\"#ArialMT-6e\"/>\n       <use x=\"433.691406\" xlink:href=\"#ArialMT-6f\"/>\n       <use x=\"489.306641\" xlink:href=\"#ArialMT-69\"/>\n       <use x=\"511.523438\" xlink:href=\"#ArialMT-64\"/>\n       <use x=\"567.138672\" xlink:href=\"#ArialMT-5f\"/>\n       <use x=\"622.753906\" xlink:href=\"#ArialMT-70\"/>\n       <use x=\"678.369141\" xlink:href=\"#ArialMT-68\"/>\n       <use x=\"733.984375\" xlink:href=\"#ArialMT-65\"/>\n       <use x=\"789.599609\" xlink:href=\"#ArialMT-6e\"/>\n       <use x=\"845.214844\" xlink:href=\"#ArialMT-6f\"/>\n       <use x=\"900.830078\" xlink:href=\"#ArialMT-6c\"/>\n       <use x=\"923.046875\" xlink:href=\"#ArialMT-73\"/>\n      </g>\n     </g>\n    </g>\n    <g id=\"xtick_9\">\n     <g id=\"text_9\">\n      <!-- proanthocyanins -->\n      <g style=\"fill:#262626;\" transform=\"translate(374.252663 637.74425)rotate(-90)scale(0.088 -0.088)\">\n       <defs>\n        <path d=\"M 416 0 \nL 416 3319 \nL 922 3319 \nL 922 2816 \nQ 1116 3169 1280 3281 \nQ 1444 3394 1641 3394 \nQ 1925 3394 2219 3213 \nL 2025 2691 \nQ 1819 2813 1613 2813 \nQ 1428 2813 1281 2702 \nQ 1134 2591 1072 2394 \nQ 978 2094 978 1738 \nL 978 0 \nL 416 0 \nz\n\" id=\"ArialMT-72\" transform=\"scale(0.015625)\"/>\n       </defs>\n       <use xlink:href=\"#ArialMT-70\"/>\n       <use x=\"55.615234\" xlink:href=\"#ArialMT-72\"/>\n       <use x=\"88.916016\" xlink:href=\"#ArialMT-6f\"/>\n       <use x=\"144.53125\" xlink:href=\"#ArialMT-61\"/>\n       <use x=\"200.146484\" xlink:href=\"#ArialMT-6e\"/>\n       <use x=\"255.761719\" xlink:href=\"#ArialMT-74\"/>\n       <use x=\"283.544922\" xlink:href=\"#ArialMT-68\"/>\n       <use x=\"339.160156\" xlink:href=\"#ArialMT-6f\"/>\n       <use x=\"394.775391\" xlink:href=\"#ArialMT-63\"/>\n       <use x=\"444.775391\" xlink:href=\"#ArialMT-79\"/>\n       <use x=\"494.775391\" xlink:href=\"#ArialMT-61\"/>\n       <use x=\"550.390625\" xlink:href=\"#ArialMT-6e\"/>\n       <use x=\"606.005859\" xlink:href=\"#ArialMT-69\"/>\n       <use x=\"628.222656\" xlink:href=\"#ArialMT-6e\"/>\n       <use x=\"683.837891\" xlink:href=\"#ArialMT-73\"/>\n      </g>\n     </g>\n    </g>\n    <g id=\"xtick_10\">\n     <g id=\"text_10\">\n      <!-- color_intensity -->\n      <g style=\"fill:#262626;\" transform=\"translate(401.723433 629.418625)rotate(-90)scale(0.088 -0.088)\">\n       <use xlink:href=\"#ArialMT-63\"/>\n       <use x=\"50\" xlink:href=\"#ArialMT-6f\"/>\n       <use x=\"105.615234\" xlink:href=\"#ArialMT-6c\"/>\n       <use x=\"127.832031\" xlink:href=\"#ArialMT-6f\"/>\n       <use x=\"183.447266\" xlink:href=\"#ArialMT-72\"/>\n       <use x=\"216.748047\" xlink:href=\"#ArialMT-5f\"/>\n       <use x=\"272.363281\" xlink:href=\"#ArialMT-69\"/>\n       <use x=\"294.580078\" xlink:href=\"#ArialMT-6e\"/>\n       <use x=\"350.195312\" xlink:href=\"#ArialMT-74\"/>\n       <use x=\"377.978516\" xlink:href=\"#ArialMT-65\"/>\n       <use x=\"433.59375\" xlink:href=\"#ArialMT-6e\"/>\n       <use x=\"489.208984\" xlink:href=\"#ArialMT-73\"/>\n       <use x=\"539.208984\" xlink:href=\"#ArialMT-69\"/>\n       <use x=\"561.425781\" xlink:href=\"#ArialMT-74\"/>\n       <use x=\"589.208984\" xlink:href=\"#ArialMT-79\"/>\n      </g>\n     </g>\n    </g>\n    <g id=\"xtick_11\">\n     <g id=\"text_11\">\n      <!-- hue -->\n      <g style=\"fill:#262626;\" transform=\"translate(429.245764 587.852375)rotate(-90)scale(0.088 -0.088)\">\n       <use xlink:href=\"#ArialMT-68\"/>\n       <use x=\"55.615234\" xlink:href=\"#ArialMT-75\"/>\n       <use x=\"111.230469\" xlink:href=\"#ArialMT-65\"/>\n      </g>\n     </g>\n    </g>\n    <g id=\"xtick_12\">\n     <g id=\"text_12\">\n      <!-- od280/od315_of_diluted_wines -->\n      <g style=\"fill:#262626;\" transform=\"translate(456.770159 694.99925)rotate(-90)scale(0.088 -0.088)\">\n       <defs>\n        <path d=\"M 3222 541 \nL 3222 0 \nL 194 0 \nQ 188 203 259 391 \nQ 375 700 629 1000 \nQ 884 1300 1366 1694 \nQ 2113 2306 2375 2664 \nQ 2638 3022 2638 3341 \nQ 2638 3675 2398 3904 \nQ 2159 4134 1775 4134 \nQ 1369 4134 1125 3890 \nQ 881 3647 878 3216 \nL 300 3275 \nQ 359 3922 746 4261 \nQ 1134 4600 1788 4600 \nQ 2447 4600 2831 4234 \nQ 3216 3869 3216 3328 \nQ 3216 3053 3103 2787 \nQ 2991 2522 2730 2228 \nQ 2469 1934 1863 1422 \nQ 1356 997 1212 845 \nQ 1069 694 975 541 \nL 3222 541 \nz\n\" id=\"ArialMT-32\" transform=\"scale(0.015625)\"/>\n        <path d=\"M 1131 2484 \nQ 781 2613 612 2850 \nQ 444 3088 444 3419 \nQ 444 3919 803 4259 \nQ 1163 4600 1759 4600 \nQ 2359 4600 2725 4251 \nQ 3091 3903 3091 3403 \nQ 3091 3084 2923 2848 \nQ 2756 2613 2416 2484 \nQ 2838 2347 3058 2040 \nQ 3278 1734 3278 1309 \nQ 3278 722 2862 322 \nQ 2447 -78 1769 -78 \nQ 1091 -78 675 323 \nQ 259 725 259 1325 \nQ 259 1772 486 2073 \nQ 713 2375 1131 2484 \nz\nM 1019 3438 \nQ 1019 3113 1228 2906 \nQ 1438 2700 1772 2700 \nQ 2097 2700 2305 2904 \nQ 2513 3109 2513 3406 \nQ 2513 3716 2298 3927 \nQ 2084 4138 1766 4138 \nQ 1444 4138 1231 3931 \nQ 1019 3725 1019 3438 \nz\nM 838 1322 \nQ 838 1081 952 856 \nQ 1066 631 1291 507 \nQ 1516 384 1775 384 \nQ 2178 384 2440 643 \nQ 2703 903 2703 1303 \nQ 2703 1709 2433 1975 \nQ 2163 2241 1756 2241 \nQ 1359 2241 1098 1978 \nQ 838 1716 838 1322 \nz\n\" id=\"ArialMT-38\" transform=\"scale(0.015625)\"/>\n        <path d=\"M 266 2259 \nQ 266 3072 433 3567 \nQ 600 4063 929 4331 \nQ 1259 4600 1759 4600 \nQ 2128 4600 2406 4451 \nQ 2684 4303 2865 4023 \nQ 3047 3744 3150 3342 \nQ 3253 2941 3253 2259 \nQ 3253 1453 3087 958 \nQ 2922 463 2592 192 \nQ 2263 -78 1759 -78 \nQ 1097 -78 719 397 \nQ 266 969 266 2259 \nz\nM 844 2259 \nQ 844 1131 1108 757 \nQ 1372 384 1759 384 \nQ 2147 384 2411 759 \nQ 2675 1134 2675 2259 \nQ 2675 3391 2411 3762 \nQ 2147 4134 1753 4134 \nQ 1366 4134 1134 3806 \nQ 844 3388 844 2259 \nz\n\" id=\"ArialMT-30\" transform=\"scale(0.015625)\"/>\n        <path d=\"M 0 -78 \nL 1328 4659 \nL 1778 4659 \nL 453 -78 \nL 0 -78 \nz\n\" id=\"ArialMT-2f\" transform=\"scale(0.015625)\"/>\n        <path d=\"M 269 1209 \nL 831 1284 \nQ 928 806 1161 595 \nQ 1394 384 1728 384 \nQ 2125 384 2398 659 \nQ 2672 934 2672 1341 \nQ 2672 1728 2419 1979 \nQ 2166 2231 1775 2231 \nQ 1616 2231 1378 2169 \nL 1441 2663 \nQ 1497 2656 1531 2656 \nQ 1891 2656 2178 2843 \nQ 2466 3031 2466 3422 \nQ 2466 3731 2256 3934 \nQ 2047 4138 1716 4138 \nQ 1388 4138 1169 3931 \nQ 950 3725 888 3313 \nL 325 3413 \nQ 428 3978 793 4289 \nQ 1159 4600 1703 4600 \nQ 2078 4600 2393 4439 \nQ 2709 4278 2876 4000 \nQ 3044 3722 3044 3409 \nQ 3044 3113 2884 2869 \nQ 2725 2625 2413 2481 \nQ 2819 2388 3044 2092 \nQ 3269 1797 3269 1353 \nQ 3269 753 2831 336 \nQ 2394 -81 1725 -81 \nQ 1122 -81 723 278 \nQ 325 638 269 1209 \nz\n\" id=\"ArialMT-33\" transform=\"scale(0.015625)\"/>\n        <path d=\"M 2384 0 \nL 1822 0 \nL 1822 3584 \nQ 1619 3391 1289 3197 \nQ 959 3003 697 2906 \nL 697 3450 \nQ 1169 3672 1522 3987 \nQ 1875 4303 2022 4600 \nL 2384 4600 \nL 2384 0 \nz\n\" id=\"ArialMT-31\" transform=\"scale(0.015625)\"/>\n        <path d=\"M 266 1200 \nL 856 1250 \nQ 922 819 1161 601 \nQ 1400 384 1738 384 \nQ 2144 384 2425 690 \nQ 2706 997 2706 1503 \nQ 2706 1984 2436 2262 \nQ 2166 2541 1728 2541 \nQ 1456 2541 1237 2417 \nQ 1019 2294 894 2097 \nL 366 2166 \nL 809 4519 \nL 3088 4519 \nL 3088 3981 \nL 1259 3981 \nL 1013 2750 \nQ 1425 3038 1878 3038 \nQ 2478 3038 2890 2622 \nQ 3303 2206 3303 1553 \nQ 3303 931 2941 478 \nQ 2500 -78 1738 -78 \nQ 1113 -78 717 272 \nQ 322 622 266 1200 \nz\n\" id=\"ArialMT-35\" transform=\"scale(0.015625)\"/>\n        <path d=\"M 1034 0 \nL 19 3319 \nL 600 3319 \nL 1128 1403 \nL 1325 691 \nQ 1338 744 1497 1375 \nL 2025 3319 \nL 2603 3319 \nL 3100 1394 \nL 3266 759 \nL 3456 1400 \nL 4025 3319 \nL 4572 3319 \nL 3534 0 \nL 2950 0 \nL 2422 1988 \nL 2294 2553 \nL 1622 0 \nL 1034 0 \nz\n\" id=\"ArialMT-77\" transform=\"scale(0.015625)\"/>\n       </defs>\n       <use xlink:href=\"#ArialMT-6f\"/>\n       <use x=\"55.615234\" xlink:href=\"#ArialMT-64\"/>\n       <use x=\"111.230469\" xlink:href=\"#ArialMT-32\"/>\n       <use x=\"166.845703\" xlink:href=\"#ArialMT-38\"/>\n       <use x=\"222.460938\" xlink:href=\"#ArialMT-30\"/>\n       <use x=\"278.076172\" xlink:href=\"#ArialMT-2f\"/>\n       <use x=\"305.859375\" xlink:href=\"#ArialMT-6f\"/>\n       <use x=\"361.474609\" xlink:href=\"#ArialMT-64\"/>\n       <use x=\"417.089844\" xlink:href=\"#ArialMT-33\"/>\n       <use x=\"472.705078\" xlink:href=\"#ArialMT-31\"/>\n       <use x=\"528.320312\" xlink:href=\"#ArialMT-35\"/>\n       <use x=\"583.935547\" xlink:href=\"#ArialMT-5f\"/>\n       <use x=\"639.550781\" xlink:href=\"#ArialMT-6f\"/>\n       <use x=\"695.166016\" xlink:href=\"#ArialMT-66\"/>\n       <use x=\"722.949219\" xlink:href=\"#ArialMT-5f\"/>\n       <use x=\"778.564453\" xlink:href=\"#ArialMT-64\"/>\n       <use x=\"834.179688\" xlink:href=\"#ArialMT-69\"/>\n       <use x=\"856.396484\" xlink:href=\"#ArialMT-6c\"/>\n       <use x=\"878.613281\" xlink:href=\"#ArialMT-75\"/>\n       <use x=\"934.228516\" xlink:href=\"#ArialMT-74\"/>\n       <use x=\"962.011719\" xlink:href=\"#ArialMT-65\"/>\n       <use x=\"1017.626953\" xlink:href=\"#ArialMT-64\"/>\n       <use x=\"1073.242188\" xlink:href=\"#ArialMT-5f\"/>\n       <use x=\"1128.857422\" xlink:href=\"#ArialMT-77\"/>\n       <use x=\"1201.074219\" xlink:href=\"#ArialMT-69\"/>\n       <use x=\"1223.291016\" xlink:href=\"#ArialMT-6e\"/>\n       <use x=\"1278.90625\" xlink:href=\"#ArialMT-65\"/>\n       <use x=\"1334.521484\" xlink:href=\"#ArialMT-73\"/>\n      </g>\n     </g>\n    </g>\n    <g id=\"xtick_13\">\n     <g id=\"text_13\">\n      <!-- proline -->\n      <g style=\"fill:#262626;\" transform=\"translate(484.187303 599.586625)rotate(-90)scale(0.088 -0.088)\">\n       <use xlink:href=\"#ArialMT-70\"/>\n       <use x=\"55.615234\" xlink:href=\"#ArialMT-72\"/>\n       <use x=\"88.916016\" xlink:href=\"#ArialMT-6f\"/>\n       <use x=\"144.53125\" xlink:href=\"#ArialMT-6c\"/>\n       <use x=\"166.748047\" xlink:href=\"#ArialMT-69\"/>\n       <use x=\"188.964844\" xlink:href=\"#ArialMT-6e\"/>\n       <use x=\"244.580078\" xlink:href=\"#ArialMT-65\"/>\n      </g>\n     </g>\n    </g>\n   </g>\n   <g id=\"matplotlib.axis_2\">\n    <g id=\"ytick_1\">\n     <g id=\"text_14\">\n      <!-- alcohol -->\n      <g style=\"fill:#262626;\" transform=\"translate(101.14275 44.12863)scale(0.088 -0.088)\">\n       <use xlink:href=\"#ArialMT-61\"/>\n       <use x=\"55.615234\" xlink:href=\"#ArialMT-6c\"/>\n       <use x=\"77.832031\" xlink:href=\"#ArialMT-63\"/>\n       <use x=\"127.832031\" xlink:href=\"#ArialMT-6f\"/>\n       <use x=\"183.447266\" xlink:href=\"#ArialMT-68\"/>\n       <use x=\"239.0625\" xlink:href=\"#ArialMT-6f\"/>\n       <use x=\"294.677734\" xlink:href=\"#ArialMT-6c\"/>\n      </g>\n     </g>\n    </g>\n    <g id=\"ytick_2\">\n     <g id=\"text_15\">\n      <!-- malic_acid -->\n      <g style=\"fill:#262626;\" transform=\"translate(87.457375 85.944014)scale(0.088 -0.088)\">\n       <use xlink:href=\"#ArialMT-6d\"/>\n       <use x=\"83.300781\" xlink:href=\"#ArialMT-61\"/>\n       <use x=\"138.916016\" xlink:href=\"#ArialMT-6c\"/>\n       <use x=\"161.132812\" xlink:href=\"#ArialMT-69\"/>\n       <use x=\"183.349609\" xlink:href=\"#ArialMT-63\"/>\n       <use x=\"233.349609\" xlink:href=\"#ArialMT-5f\"/>\n       <use x=\"288.964844\" xlink:href=\"#ArialMT-61\"/>\n       <use x=\"344.580078\" xlink:href=\"#ArialMT-63\"/>\n       <use x=\"394.580078\" xlink:href=\"#ArialMT-69\"/>\n       <use x=\"416.796875\" xlink:href=\"#ArialMT-64\"/>\n      </g>\n     </g>\n    </g>\n    <g id=\"ytick_3\">\n     <g id=\"text_16\">\n      <!-- ash -->\n      <g style=\"fill:#262626;\" transform=\"translate(114.8405 127.759399)scale(0.088 -0.088)\">\n       <use xlink:href=\"#ArialMT-61\"/>\n       <use x=\"55.615234\" xlink:href=\"#ArialMT-73\"/>\n       <use x=\"105.615234\" xlink:href=\"#ArialMT-68\"/>\n      </g>\n     </g>\n    </g>\n    <g id=\"ytick_4\">\n     <g id=\"text_17\">\n      <!-- alcalinity_of_ash -->\n      <g style=\"fill:#262626;\" transform=\"translate(63.96825 169.628409)scale(0.088 -0.088)\">\n       <use xlink:href=\"#ArialMT-61\"/>\n       <use x=\"55.615234\" xlink:href=\"#ArialMT-6c\"/>\n       <use x=\"77.832031\" xlink:href=\"#ArialMT-63\"/>\n       <use x=\"127.832031\" xlink:href=\"#ArialMT-61\"/>\n       <use x=\"183.447266\" xlink:href=\"#ArialMT-6c\"/>\n       <use x=\"205.664062\" xlink:href=\"#ArialMT-69\"/>\n       <use x=\"227.880859\" xlink:href=\"#ArialMT-6e\"/>\n       <use x=\"283.496094\" xlink:href=\"#ArialMT-69\"/>\n       <use x=\"305.712891\" xlink:href=\"#ArialMT-74\"/>\n       <use x=\"333.496094\" xlink:href=\"#ArialMT-79\"/>\n       <use x=\"383.496094\" xlink:href=\"#ArialMT-5f\"/>\n       <use x=\"439.111328\" xlink:href=\"#ArialMT-6f\"/>\n       <use x=\"494.726562\" xlink:href=\"#ArialMT-66\"/>\n       <use x=\"522.509766\" xlink:href=\"#ArialMT-5f\"/>\n       <use x=\"578.125\" xlink:href=\"#ArialMT-61\"/>\n       <use x=\"633.740234\" xlink:href=\"#ArialMT-73\"/>\n       <use x=\"683.740234\" xlink:href=\"#ArialMT-68\"/>\n      </g>\n     </g>\n    </g>\n    <g id=\"ytick_5\">\n     <g id=\"text_18\">\n      <!-- magnesium -->\n      <g style=\"fill:#262626;\" transform=\"translate(83.544125 211.390168)scale(0.088 -0.088)\">\n       <use xlink:href=\"#ArialMT-6d\"/>\n       <use x=\"83.300781\" xlink:href=\"#ArialMT-61\"/>\n       <use x=\"138.916016\" xlink:href=\"#ArialMT-67\"/>\n       <use x=\"194.53125\" xlink:href=\"#ArialMT-6e\"/>\n       <use x=\"250.146484\" xlink:href=\"#ArialMT-65\"/>\n       <use x=\"305.761719\" xlink:href=\"#ArialMT-73\"/>\n       <use x=\"355.761719\" xlink:href=\"#ArialMT-69\"/>\n       <use x=\"377.978516\" xlink:href=\"#ArialMT-75\"/>\n       <use x=\"433.59375\" xlink:href=\"#ArialMT-6d\"/>\n      </g>\n     </g>\n    </g>\n    <g id=\"ytick_6\">\n     <g id=\"text_19\">\n      <!-- total_phenols -->\n      <g style=\"fill:#262626;\" transform=\"translate(76.67875 253.205553)scale(0.088 -0.088)\">\n       <use xlink:href=\"#ArialMT-74\"/>\n       <use x=\"27.783203\" xlink:href=\"#ArialMT-6f\"/>\n       <use x=\"83.398438\" xlink:href=\"#ArialMT-74\"/>\n       <use x=\"111.181641\" xlink:href=\"#ArialMT-61\"/>\n       <use x=\"166.796875\" xlink:href=\"#ArialMT-6c\"/>\n       <use x=\"189.013672\" xlink:href=\"#ArialMT-5f\"/>\n       <use x=\"244.628906\" xlink:href=\"#ArialMT-70\"/>\n       <use x=\"300.244141\" xlink:href=\"#ArialMT-68\"/>\n       <use x=\"355.859375\" xlink:href=\"#ArialMT-65\"/>\n       <use x=\"411.474609\" xlink:href=\"#ArialMT-6e\"/>\n       <use x=\"467.089844\" xlink:href=\"#ArialMT-6f\"/>\n       <use x=\"522.705078\" xlink:href=\"#ArialMT-6c\"/>\n       <use x=\"544.921875\" xlink:href=\"#ArialMT-73\"/>\n      </g>\n     </g>\n    </g>\n    <g id=\"ytick_7\">\n     <g id=\"text_20\">\n      <!-- flavanoids -->\n      <g style=\"fill:#262626;\" transform=\"translate(89.404375 295.020937)scale(0.088 -0.088)\">\n       <use xlink:href=\"#ArialMT-66\"/>\n       <use x=\"27.783203\" xlink:href=\"#ArialMT-6c\"/>\n       <use x=\"50\" xlink:href=\"#ArialMT-61\"/>\n       <use x=\"105.615234\" xlink:href=\"#ArialMT-76\"/>\n       <use x=\"155.615234\" xlink:href=\"#ArialMT-61\"/>\n       <use x=\"211.230469\" xlink:href=\"#ArialMT-6e\"/>\n       <use x=\"266.845703\" xlink:href=\"#ArialMT-6f\"/>\n       <use x=\"322.460938\" xlink:href=\"#ArialMT-69\"/>\n       <use x=\"344.677734\" xlink:href=\"#ArialMT-64\"/>\n       <use x=\"400.292969\" xlink:href=\"#ArialMT-73\"/>\n      </g>\n     </g>\n    </g>\n    <g id=\"ytick_8\">\n     <g id=\"text_21\">\n      <!-- nonflavanoid_phenols -->\n      <g style=\"fill:#262626;\" transform=\"translate(43.4065 336.889947)scale(0.088 -0.088)\">\n       <use xlink:href=\"#ArialMT-6e\"/>\n       <use x=\"55.615234\" xlink:href=\"#ArialMT-6f\"/>\n       <use x=\"111.230469\" xlink:href=\"#ArialMT-6e\"/>\n       <use x=\"166.845703\" xlink:href=\"#ArialMT-66\"/>\n       <use x=\"194.628906\" xlink:href=\"#ArialMT-6c\"/>\n       <use x=\"216.845703\" xlink:href=\"#ArialMT-61\"/>\n       <use x=\"272.460938\" xlink:href=\"#ArialMT-76\"/>\n       <use x=\"322.460938\" xlink:href=\"#ArialMT-61\"/>\n       <use x=\"378.076172\" xlink:href=\"#ArialMT-6e\"/>\n       <use x=\"433.691406\" xlink:href=\"#ArialMT-6f\"/>\n       <use x=\"489.306641\" xlink:href=\"#ArialMT-69\"/>\n       <use x=\"511.523438\" xlink:href=\"#ArialMT-64\"/>\n       <use x=\"567.138672\" xlink:href=\"#ArialMT-5f\"/>\n       <use x=\"622.753906\" xlink:href=\"#ArialMT-70\"/>\n       <use x=\"678.369141\" xlink:href=\"#ArialMT-68\"/>\n       <use x=\"733.984375\" xlink:href=\"#ArialMT-65\"/>\n       <use x=\"789.599609\" xlink:href=\"#ArialMT-6e\"/>\n       <use x=\"845.214844\" xlink:href=\"#ArialMT-6f\"/>\n       <use x=\"900.830078\" xlink:href=\"#ArialMT-6c\"/>\n       <use x=\"923.046875\" xlink:href=\"#ArialMT-73\"/>\n      </g>\n     </g>\n    </g>\n    <g id=\"ytick_9\">\n     <g id=\"text_22\">\n      <!-- proanthocyanins -->\n      <g style=\"fill:#262626;\" transform=\"translate(64.455 378.651707)scale(0.088 -0.088)\">\n       <use xlink:href=\"#ArialMT-70\"/>\n       <use x=\"55.615234\" xlink:href=\"#ArialMT-72\"/>\n       <use x=\"88.916016\" xlink:href=\"#ArialMT-6f\"/>\n       <use x=\"144.53125\" xlink:href=\"#ArialMT-61\"/>\n       <use x=\"200.146484\" xlink:href=\"#ArialMT-6e\"/>\n       <use x=\"255.761719\" xlink:href=\"#ArialMT-74\"/>\n       <use x=\"283.544922\" xlink:href=\"#ArialMT-68\"/>\n       <use x=\"339.160156\" xlink:href=\"#ArialMT-6f\"/>\n       <use x=\"394.775391\" xlink:href=\"#ArialMT-63\"/>\n       <use x=\"444.775391\" xlink:href=\"#ArialMT-79\"/>\n       <use x=\"494.775391\" xlink:href=\"#ArialMT-61\"/>\n       <use x=\"550.390625\" xlink:href=\"#ArialMT-6e\"/>\n       <use x=\"606.005859\" xlink:href=\"#ArialMT-69\"/>\n       <use x=\"628.222656\" xlink:href=\"#ArialMT-6e\"/>\n       <use x=\"683.837891\" xlink:href=\"#ArialMT-73\"/>\n      </g>\n     </g>\n    </g>\n    <g id=\"ytick_10\">\n     <g id=\"text_23\">\n      <!-- color_intensity -->\n      <g style=\"fill:#262626;\" transform=\"translate(72.780625 420.467091)scale(0.088 -0.088)\">\n       <use xlink:href=\"#ArialMT-63\"/>\n       <use x=\"50\" xlink:href=\"#ArialMT-6f\"/>\n       <use x=\"105.615234\" xlink:href=\"#ArialMT-6c\"/>\n       <use x=\"127.832031\" xlink:href=\"#ArialMT-6f\"/>\n       <use x=\"183.447266\" xlink:href=\"#ArialMT-72\"/>\n       <use x=\"216.748047\" xlink:href=\"#ArialMT-5f\"/>\n       <use x=\"272.363281\" xlink:href=\"#ArialMT-69\"/>\n       <use x=\"294.580078\" xlink:href=\"#ArialMT-6e\"/>\n       <use x=\"350.195312\" xlink:href=\"#ArialMT-74\"/>\n       <use x=\"377.978516\" xlink:href=\"#ArialMT-65\"/>\n       <use x=\"433.59375\" xlink:href=\"#ArialMT-6e\"/>\n       <use x=\"489.208984\" xlink:href=\"#ArialMT-73\"/>\n       <use x=\"539.208984\" xlink:href=\"#ArialMT-69\"/>\n       <use x=\"561.425781\" xlink:href=\"#ArialMT-74\"/>\n       <use x=\"589.208984\" xlink:href=\"#ArialMT-79\"/>\n      </g>\n     </g>\n    </g>\n    <g id=\"ytick_11\">\n     <g id=\"text_24\">\n      <!-- hue -->\n      <g style=\"fill:#262626;\" transform=\"translate(114.346875 462.282476)scale(0.088 -0.088)\">\n       <use xlink:href=\"#ArialMT-68\"/>\n       <use x=\"55.615234\" xlink:href=\"#ArialMT-75\"/>\n       <use x=\"111.230469\" xlink:href=\"#ArialMT-65\"/>\n      </g>\n     </g>\n    </g>\n    <g id=\"ytick_12\">\n     <g id=\"text_25\">\n      <!-- od280/od315_of_diluted_wines -->\n      <g style=\"fill:#262626;\" transform=\"translate(7.2 504.151486)scale(0.088 -0.088)\">\n       <use xlink:href=\"#ArialMT-6f\"/>\n       <use x=\"55.615234\" xlink:href=\"#ArialMT-64\"/>\n       <use x=\"111.230469\" xlink:href=\"#ArialMT-32\"/>\n       <use x=\"166.845703\" xlink:href=\"#ArialMT-38\"/>\n       <use x=\"222.460938\" xlink:href=\"#ArialMT-30\"/>\n       <use x=\"278.076172\" xlink:href=\"#ArialMT-2f\"/>\n       <use x=\"305.859375\" xlink:href=\"#ArialMT-6f\"/>\n       <use x=\"361.474609\" xlink:href=\"#ArialMT-64\"/>\n       <use x=\"417.089844\" xlink:href=\"#ArialMT-33\"/>\n       <use x=\"472.705078\" xlink:href=\"#ArialMT-31\"/>\n       <use x=\"528.320312\" xlink:href=\"#ArialMT-35\"/>\n       <use x=\"583.935547\" xlink:href=\"#ArialMT-5f\"/>\n       <use x=\"639.550781\" xlink:href=\"#ArialMT-6f\"/>\n       <use x=\"695.166016\" xlink:href=\"#ArialMT-66\"/>\n       <use x=\"722.949219\" xlink:href=\"#ArialMT-5f\"/>\n       <use x=\"778.564453\" xlink:href=\"#ArialMT-64\"/>\n       <use x=\"834.179688\" xlink:href=\"#ArialMT-69\"/>\n       <use x=\"856.396484\" xlink:href=\"#ArialMT-6c\"/>\n       <use x=\"878.613281\" xlink:href=\"#ArialMT-75\"/>\n       <use x=\"934.228516\" xlink:href=\"#ArialMT-74\"/>\n       <use x=\"962.011719\" xlink:href=\"#ArialMT-65\"/>\n       <use x=\"1017.626953\" xlink:href=\"#ArialMT-64\"/>\n       <use x=\"1073.242188\" xlink:href=\"#ArialMT-5f\"/>\n       <use x=\"1128.857422\" xlink:href=\"#ArialMT-77\"/>\n       <use x=\"1201.074219\" xlink:href=\"#ArialMT-69\"/>\n       <use x=\"1223.291016\" xlink:href=\"#ArialMT-6e\"/>\n       <use x=\"1278.90625\" xlink:href=\"#ArialMT-65\"/>\n       <use x=\"1334.521484\" xlink:href=\"#ArialMT-73\"/>\n      </g>\n     </g>\n    </g>\n    <g id=\"ytick_13\">\n     <g id=\"text_26\">\n      <!-- proline -->\n      <g style=\"fill:#262626;\" transform=\"translate(102.612625 545.913245)scale(0.088 -0.088)\">\n       <use xlink:href=\"#ArialMT-70\"/>\n       <use x=\"55.615234\" xlink:href=\"#ArialMT-72\"/>\n       <use x=\"88.916016\" xlink:href=\"#ArialMT-6f\"/>\n       <use x=\"144.53125\" xlink:href=\"#ArialMT-6c\"/>\n       <use x=\"166.748047\" xlink:href=\"#ArialMT-69\"/>\n       <use x=\"188.964844\" xlink:href=\"#ArialMT-6e\"/>\n       <use x=\"244.580078\" xlink:href=\"#ArialMT-65\"/>\n      </g>\n     </g>\n    </g>\n   </g>\n   <g id=\"QuadMesh_1\">\n    <path clip-path=\"url(#pac730ba19d)\" d=\"M 138.52775 20.0715 \nL 165.998519 20.0715 \nL 165.998519 61.886885 \nL 138.52775 61.886885 \nL 138.52775 20.0715 \n\" style=\"fill:#b40426;stroke:#ffffff;stroke-width:0.5;\"/>\n    <path clip-path=\"url(#pac730ba19d)\" d=\"M 165.998519 20.0715 \nL 193.469288 20.0715 \nL 193.469288 61.886885 \nL 165.998519 61.886885 \nL 165.998519 20.0715 \n\" style=\"fill:#b2ccfb;stroke:#ffffff;stroke-width:0.5;\"/>\n    <path clip-path=\"url(#pac730ba19d)\" d=\"M 193.469288 20.0715 \nL 220.940058 20.0715 \nL 220.940058 61.886885 \nL 193.469288 61.886885 \nL 193.469288 20.0715 \n\" style=\"fill:#b2ccfb;stroke:#ffffff;stroke-width:0.5;\"/>\n    <path clip-path=\"url(#pac730ba19d)\" d=\"M 220.940058 20.0715 \nL 248.410827 20.0715 \nL 248.410827 61.886885 \nL 220.940058 61.886885 \nL 220.940058 20.0715 \n\" style=\"fill:#6e90f2;stroke:#ffffff;stroke-width:0.5;\"/>\n    <path clip-path=\"url(#pac730ba19d)\" d=\"M 248.410827 20.0715 \nL 275.881596 20.0715 \nL 275.881596 61.886885 \nL 248.410827 61.886885 \nL 248.410827 20.0715 \n\" style=\"fill:#b2ccfb;stroke:#ffffff;stroke-width:0.5;\"/>\n    <path clip-path=\"url(#pac730ba19d)\" d=\"M 275.881596 20.0715 \nL 303.352365 20.0715 \nL 303.352365 61.886885 \nL 275.881596 61.886885 \nL 275.881596 20.0715 \n\" style=\"fill:#b2ccfb;stroke:#ffffff;stroke-width:0.5;\"/>\n    <path clip-path=\"url(#pac730ba19d)\" d=\"M 303.352365 20.0715 \nL 330.823135 20.0715 \nL 330.823135 61.886885 \nL 303.352365 61.886885 \nL 303.352365 20.0715 \n\" style=\"fill:#b2ccfb;stroke:#ffffff;stroke-width:0.5;\"/>\n    <path clip-path=\"url(#pac730ba19d)\" d=\"M 330.823135 20.0715 \nL 358.293904 20.0715 \nL 358.293904 61.886885 \nL 330.823135 61.886885 \nL 330.823135 20.0715 \n\" style=\"fill:#b2ccfb;stroke:#ffffff;stroke-width:0.5;\"/>\n    <path clip-path=\"url(#pac730ba19d)\" d=\"M 358.293904 20.0715 \nL 385.764673 20.0715 \nL 385.764673 61.886885 \nL 358.293904 61.886885 \nL 358.293904 20.0715 \n\" style=\"fill:#b2ccfb;stroke:#ffffff;stroke-width:0.5;\"/>\n    <path clip-path=\"url(#pac730ba19d)\" d=\"M 385.764673 20.0715 \nL 413.235442 20.0715 \nL 413.235442 61.886885 \nL 385.764673 61.886885 \nL 385.764673 20.0715 \n\" style=\"fill:#f7a889;stroke:#ffffff;stroke-width:0.5;\"/>\n    <path clip-path=\"url(#pac730ba19d)\" d=\"M 413.235442 20.0715 \nL 440.706212 20.0715 \nL 440.706212 61.886885 \nL 413.235442 61.886885 \nL 413.235442 20.0715 \n\" style=\"fill:#b2ccfb;stroke:#ffffff;stroke-width:0.5;\"/>\n    <path clip-path=\"url(#pac730ba19d)\" d=\"M 440.706212 20.0715 \nL 468.176981 20.0715 \nL 468.176981 61.886885 \nL 440.706212 61.886885 \nL 440.706212 20.0715 \n\" style=\"fill:#b2ccfb;stroke:#ffffff;stroke-width:0.5;\"/>\n    <path clip-path=\"url(#pac730ba19d)\" d=\"M 468.176981 20.0715 \nL 495.64775 20.0715 \nL 495.64775 61.886885 \nL 468.176981 61.886885 \nL 468.176981 20.0715 \n\" style=\"fill:#f29274;stroke:#ffffff;stroke-width:0.5;\"/>\n    <path clip-path=\"url(#pac730ba19d)\" d=\"M 138.52775 61.886885 \nL 165.998519 61.886885 \nL 165.998519 103.702269 \nL 138.52775 103.702269 \nL 138.52775 61.886885 \n\" style=\"fill:#b2ccfb;stroke:#ffffff;stroke-width:0.5;\"/>\n    <path clip-path=\"url(#pac730ba19d)\" d=\"M 165.998519 61.886885 \nL 193.469288 61.886885 \nL 193.469288 103.702269 \nL 165.998519 103.702269 \nL 165.998519 61.886885 \n\" style=\"fill:#b40426;stroke:#ffffff;stroke-width:0.5;\"/>\n    <path clip-path=\"url(#pac730ba19d)\" d=\"M 193.469288 61.886885 \nL 220.940058 61.886885 \nL 220.940058 103.702269 \nL 193.469288 103.702269 \nL 193.469288 61.886885 \n\" style=\"fill:#b2ccfb;stroke:#ffffff;stroke-width:0.5;\"/>\n    <path clip-path=\"url(#pac730ba19d)\" d=\"M 220.940058 61.886885 \nL 248.410827 61.886885 \nL 248.410827 103.702269 \nL 220.940058 103.702269 \nL 220.940058 61.886885 \n\" style=\"fill:#b2ccfb;stroke:#ffffff;stroke-width:0.5;\"/>\n    <path clip-path=\"url(#pac730ba19d)\" d=\"M 248.410827 61.886885 \nL 275.881596 61.886885 \nL 275.881596 103.702269 \nL 248.410827 103.702269 \nL 248.410827 61.886885 \n\" style=\"fill:#b2ccfb;stroke:#ffffff;stroke-width:0.5;\"/>\n    <path clip-path=\"url(#pac730ba19d)\" d=\"M 275.881596 61.886885 \nL 303.352365 61.886885 \nL 303.352365 103.702269 \nL 275.881596 103.702269 \nL 275.881596 61.886885 \n\" style=\"fill:#6788ee;stroke:#ffffff;stroke-width:0.5;\"/>\n    <path clip-path=\"url(#pac730ba19d)\" d=\"M 303.352365 61.886885 \nL 330.823135 61.886885 \nL 330.823135 103.702269 \nL 303.352365 103.702269 \nL 303.352365 61.886885 \n\" style=\"fill:#5875e1;stroke:#ffffff;stroke-width:0.5;\"/>\n    <path clip-path=\"url(#pac730ba19d)\" d=\"M 330.823135 61.886885 \nL 358.293904 61.886885 \nL 358.293904 103.702269 \nL 330.823135 103.702269 \nL 330.823135 61.886885 \n\" style=\"fill:#b2ccfb;stroke:#ffffff;stroke-width:0.5;\"/>\n    <path clip-path=\"url(#pac730ba19d)\" d=\"M 358.293904 61.886885 \nL 385.764673 61.886885 \nL 385.764673 103.702269 \nL 358.293904 103.702269 \nL 358.293904 61.886885 \n\" style=\"fill:#b2ccfb;stroke:#ffffff;stroke-width:0.5;\"/>\n    <path clip-path=\"url(#pac730ba19d)\" d=\"M 385.764673 61.886885 \nL 413.235442 61.886885 \nL 413.235442 103.702269 \nL 385.764673 103.702269 \nL 385.764673 61.886885 \n\" style=\"fill:#b2ccfb;stroke:#ffffff;stroke-width:0.5;\"/>\n    <path clip-path=\"url(#pac730ba19d)\" d=\"M 413.235442 61.886885 \nL 440.706212 61.886885 \nL 440.706212 103.702269 \nL 413.235442 103.702269 \nL 413.235442 61.886885 \n\" style=\"fill:#3b4cc0;stroke:#ffffff;stroke-width:0.5;\"/>\n    <path clip-path=\"url(#pac730ba19d)\" d=\"M 440.706212 61.886885 \nL 468.176981 61.886885 \nL 468.176981 103.702269 \nL 440.706212 103.702269 \nL 440.706212 61.886885 \n\" style=\"fill:#6180e9;stroke:#ffffff;stroke-width:0.5;\"/>\n    <path clip-path=\"url(#pac730ba19d)\" d=\"M 468.176981 61.886885 \nL 495.64775 61.886885 \nL 495.64775 103.702269 \nL 468.176981 103.702269 \nL 468.176981 61.886885 \n\" style=\"fill:#b2ccfb;stroke:#ffffff;stroke-width:0.5;\"/>\n    <path clip-path=\"url(#pac730ba19d)\" d=\"M 138.52775 103.702269 \nL 165.998519 103.702269 \nL 165.998519 145.517654 \nL 138.52775 145.517654 \nL 138.52775 103.702269 \n\" style=\"fill:#b2ccfb;stroke:#ffffff;stroke-width:0.5;\"/>\n    <path clip-path=\"url(#pac730ba19d)\" d=\"M 165.998519 103.702269 \nL 193.469288 103.702269 \nL 193.469288 145.517654 \nL 165.998519 145.517654 \nL 165.998519 103.702269 \n\" style=\"fill:#b2ccfb;stroke:#ffffff;stroke-width:0.5;\"/>\n    <path clip-path=\"url(#pac730ba19d)\" d=\"M 193.469288 103.702269 \nL 220.940058 103.702269 \nL 220.940058 145.517654 \nL 193.469288 145.517654 \nL 193.469288 103.702269 \n\" style=\"fill:#b40426;stroke:#ffffff;stroke-width:0.5;\"/>\n    <path clip-path=\"url(#pac730ba19d)\" d=\"M 220.940058 103.702269 \nL 248.410827 103.702269 \nL 248.410827 145.517654 \nL 220.940058 145.517654 \nL 220.940058 103.702269 \n\" style=\"fill:#f6bfa6;stroke:#ffffff;stroke-width:0.5;\"/>\n    <path clip-path=\"url(#pac730ba19d)\" d=\"M 248.410827 103.702269 \nL 275.881596 103.702269 \nL 275.881596 145.517654 \nL 248.410827 145.517654 \nL 248.410827 103.702269 \n\" style=\"fill:#b2ccfb;stroke:#ffffff;stroke-width:0.5;\"/>\n    <path clip-path=\"url(#pac730ba19d)\" d=\"M 275.881596 103.702269 \nL 303.352365 103.702269 \nL 303.352365 145.517654 \nL 275.881596 145.517654 \nL 275.881596 103.702269 \n\" style=\"fill:#b2ccfb;stroke:#ffffff;stroke-width:0.5;\"/>\n    <path clip-path=\"url(#pac730ba19d)\" d=\"M 303.352365 103.702269 \nL 330.823135 103.702269 \nL 330.823135 145.517654 \nL 303.352365 145.517654 \nL 303.352365 103.702269 \n\" style=\"fill:#b2ccfb;stroke:#ffffff;stroke-width:0.5;\"/>\n    <path clip-path=\"url(#pac730ba19d)\" d=\"M 330.823135 103.702269 \nL 358.293904 103.702269 \nL 358.293904 145.517654 \nL 330.823135 145.517654 \nL 330.823135 103.702269 \n\" style=\"fill:#b2ccfb;stroke:#ffffff;stroke-width:0.5;\"/>\n    <path clip-path=\"url(#pac730ba19d)\" d=\"M 358.293904 103.702269 \nL 385.764673 103.702269 \nL 385.764673 145.517654 \nL 358.293904 145.517654 \nL 358.293904 103.702269 \n\" style=\"fill:#b2ccfb;stroke:#ffffff;stroke-width:0.5;\"/>\n    <path clip-path=\"url(#pac730ba19d)\" d=\"M 385.764673 103.702269 \nL 413.235442 103.702269 \nL 413.235442 145.517654 \nL 385.764673 145.517654 \nL 385.764673 103.702269 \n\" style=\"fill:#b2ccfb;stroke:#ffffff;stroke-width:0.5;\"/>\n    <path clip-path=\"url(#pac730ba19d)\" d=\"M 413.235442 103.702269 \nL 440.706212 103.702269 \nL 440.706212 145.517654 \nL 413.235442 145.517654 \nL 413.235442 103.702269 \n\" style=\"fill:#b2ccfb;stroke:#ffffff;stroke-width:0.5;\"/>\n    <path clip-path=\"url(#pac730ba19d)\" d=\"M 440.706212 103.702269 \nL 468.176981 103.702269 \nL 468.176981 145.517654 \nL 440.706212 145.517654 \nL 440.706212 103.702269 \n\" style=\"fill:#b2ccfb;stroke:#ffffff;stroke-width:0.5;\"/>\n    <path clip-path=\"url(#pac730ba19d)\" d=\"M 468.176981 103.702269 \nL 495.64775 103.702269 \nL 495.64775 145.517654 \nL 468.176981 145.517654 \nL 468.176981 103.702269 \n\" style=\"fill:#b2ccfb;stroke:#ffffff;stroke-width:0.5;\"/>\n    <path clip-path=\"url(#pac730ba19d)\" d=\"M 138.52775 145.517654 \nL 165.998519 145.517654 \nL 165.998519 187.333038 \nL 138.52775 187.333038 \nL 138.52775 145.517654 \n\" style=\"fill:#6e90f2;stroke:#ffffff;stroke-width:0.5;\"/>\n    <path clip-path=\"url(#pac730ba19d)\" d=\"M 165.998519 145.517654 \nL 193.469288 145.517654 \nL 193.469288 187.333038 \nL 165.998519 187.333038 \nL 165.998519 145.517654 \n\" style=\"fill:#b2ccfb;stroke:#ffffff;stroke-width:0.5;\"/>\n    <path clip-path=\"url(#pac730ba19d)\" d=\"M 193.469288 145.517654 \nL 220.940058 145.517654 \nL 220.940058 187.333038 \nL 193.469288 187.333038 \nL 193.469288 145.517654 \n\" style=\"fill:#f6bfa6;stroke:#ffffff;stroke-width:0.5;\"/>\n    <path clip-path=\"url(#pac730ba19d)\" d=\"M 220.940058 145.517654 \nL 248.410827 145.517654 \nL 248.410827 187.333038 \nL 220.940058 187.333038 \nL 220.940058 145.517654 \n\" style=\"fill:#b40426;stroke:#ffffff;stroke-width:0.5;\"/>\n    <path clip-path=\"url(#pac730ba19d)\" d=\"M 248.410827 145.517654 \nL 275.881596 145.517654 \nL 275.881596 187.333038 \nL 248.410827 187.333038 \nL 248.410827 145.517654 \n\" style=\"fill:#b2ccfb;stroke:#ffffff;stroke-width:0.5;\"/>\n    <path clip-path=\"url(#pac730ba19d)\" d=\"M 275.881596 145.517654 \nL 303.352365 145.517654 \nL 303.352365 187.333038 \nL 275.881596 187.333038 \nL 275.881596 145.517654 \n\" style=\"fill:#6b8df0;stroke:#ffffff;stroke-width:0.5;\"/>\n    <path clip-path=\"url(#pac730ba19d)\" d=\"M 303.352365 145.517654 \nL 330.823135 145.517654 \nL 330.823135 187.333038 \nL 303.352365 187.333038 \nL 303.352365 145.517654 \n\" style=\"fill:#6485ec;stroke:#ffffff;stroke-width:0.5;\"/>\n    <path clip-path=\"url(#pac730ba19d)\" d=\"M 330.823135 145.517654 \nL 358.293904 145.517654 \nL 358.293904 187.333038 \nL 330.823135 187.333038 \nL 330.823135 145.517654 \n\" style=\"fill:#f0cdbb;stroke:#ffffff;stroke-width:0.5;\"/>\n    <path clip-path=\"url(#pac730ba19d)\" d=\"M 358.293904 145.517654 \nL 385.764673 145.517654 \nL 385.764673 187.333038 \nL 358.293904 187.333038 \nL 358.293904 145.517654 \n\" style=\"fill:#b2ccfb;stroke:#ffffff;stroke-width:0.5;\"/>\n    <path clip-path=\"url(#pac730ba19d)\" d=\"M 385.764673 145.517654 \nL 413.235442 145.517654 \nL 413.235442 187.333038 \nL 385.764673 187.333038 \nL 385.764673 145.517654 \n\" style=\"fill:#b2ccfb;stroke:#ffffff;stroke-width:0.5;\"/>\n    <path clip-path=\"url(#pac730ba19d)\" d=\"M 413.235442 145.517654 \nL 440.706212 145.517654 \nL 440.706212 187.333038 \nL 413.235442 187.333038 \nL 413.235442 145.517654 \n\" style=\"fill:#b2ccfb;stroke:#ffffff;stroke-width:0.5;\"/>\n    <path clip-path=\"url(#pac730ba19d)\" d=\"M 440.706212 145.517654 \nL 468.176981 145.517654 \nL 468.176981 187.333038 \nL 440.706212 187.333038 \nL 440.706212 145.517654 \n\" style=\"fill:#b2ccfb;stroke:#ffffff;stroke-width:0.5;\"/>\n    <path clip-path=\"url(#pac730ba19d)\" d=\"M 468.176981 145.517654 \nL 495.64775 145.517654 \nL 495.64775 187.333038 \nL 468.176981 187.333038 \nL 468.176981 145.517654 \n\" style=\"fill:#516ddb;stroke:#ffffff;stroke-width:0.5;\"/>\n    <path clip-path=\"url(#pac730ba19d)\" d=\"M 138.52775 187.333038 \nL 165.998519 187.333038 \nL 165.998519 229.148423 \nL 138.52775 229.148423 \nL 138.52775 187.333038 \n\" style=\"fill:#b2ccfb;stroke:#ffffff;stroke-width:0.5;\"/>\n    <path clip-path=\"url(#pac730ba19d)\" d=\"M 165.998519 187.333038 \nL 193.469288 187.333038 \nL 193.469288 229.148423 \nL 165.998519 229.148423 \nL 165.998519 187.333038 \n\" style=\"fill:#b2ccfb;stroke:#ffffff;stroke-width:0.5;\"/>\n    <path clip-path=\"url(#pac730ba19d)\" d=\"M 193.469288 187.333038 \nL 220.940058 187.333038 \nL 220.940058 229.148423 \nL 193.469288 229.148423 \nL 193.469288 187.333038 \n\" style=\"fill:#b2ccfb;stroke:#ffffff;stroke-width:0.5;\"/>\n    <path clip-path=\"url(#pac730ba19d)\" d=\"M 220.940058 187.333038 \nL 248.410827 187.333038 \nL 248.410827 229.148423 \nL 220.940058 229.148423 \nL 220.940058 187.333038 \n\" style=\"fill:#b2ccfb;stroke:#ffffff;stroke-width:0.5;\"/>\n    <path clip-path=\"url(#pac730ba19d)\" d=\"M 248.410827 187.333038 \nL 275.881596 187.333038 \nL 275.881596 229.148423 \nL 248.410827 229.148423 \nL 248.410827 187.333038 \n\" style=\"fill:#b40426;stroke:#ffffff;stroke-width:0.5;\"/>\n    <path clip-path=\"url(#pac730ba19d)\" d=\"M 275.881596 187.333038 \nL 303.352365 187.333038 \nL 303.352365 229.148423 \nL 275.881596 229.148423 \nL 275.881596 187.333038 \n\" style=\"fill:#b2ccfb;stroke:#ffffff;stroke-width:0.5;\"/>\n    <path clip-path=\"url(#pac730ba19d)\" d=\"M 303.352365 187.333038 \nL 330.823135 187.333038 \nL 330.823135 229.148423 \nL 303.352365 229.148423 \nL 303.352365 187.333038 \n\" style=\"fill:#b2ccfb;stroke:#ffffff;stroke-width:0.5;\"/>\n    <path clip-path=\"url(#pac730ba19d)\" d=\"M 330.823135 187.333038 \nL 358.293904 187.333038 \nL 358.293904 229.148423 \nL 330.823135 229.148423 \nL 330.823135 187.333038 \n\" style=\"fill:#b2ccfb;stroke:#ffffff;stroke-width:0.5;\"/>\n    <path clip-path=\"url(#pac730ba19d)\" d=\"M 358.293904 187.333038 \nL 385.764673 187.333038 \nL 385.764673 229.148423 \nL 358.293904 229.148423 \nL 358.293904 187.333038 \n\" style=\"fill:#b2ccfb;stroke:#ffffff;stroke-width:0.5;\"/>\n    <path clip-path=\"url(#pac730ba19d)\" d=\"M 385.764673 187.333038 \nL 413.235442 187.333038 \nL 413.235442 229.148423 \nL 385.764673 229.148423 \nL 385.764673 187.333038 \n\" style=\"fill:#b2ccfb;stroke:#ffffff;stroke-width:0.5;\"/>\n    <path clip-path=\"url(#pac730ba19d)\" d=\"M 413.235442 187.333038 \nL 440.706212 187.333038 \nL 440.706212 229.148423 \nL 413.235442 229.148423 \nL 413.235442 187.333038 \n\" style=\"fill:#b2ccfb;stroke:#ffffff;stroke-width:0.5;\"/>\n    <path clip-path=\"url(#pac730ba19d)\" d=\"M 440.706212 187.333038 \nL 468.176981 187.333038 \nL 468.176981 229.148423 \nL 440.706212 229.148423 \nL 440.706212 187.333038 \n\" style=\"fill:#b2ccfb;stroke:#ffffff;stroke-width:0.5;\"/>\n    <path clip-path=\"url(#pac730ba19d)\" d=\"M 468.176981 187.333038 \nL 495.64775 187.333038 \nL 495.64775 229.148423 \nL 468.176981 229.148423 \nL 468.176981 187.333038 \n\" style=\"fill:#f2c9b4;stroke:#ffffff;stroke-width:0.5;\"/>\n    <path clip-path=\"url(#pac730ba19d)\" d=\"M 138.52775 229.148423 \nL 165.998519 229.148423 \nL 165.998519 270.963808 \nL 138.52775 270.963808 \nL 138.52775 229.148423 \n\" style=\"fill:#b2ccfb;stroke:#ffffff;stroke-width:0.5;\"/>\n    <path clip-path=\"url(#pac730ba19d)\" d=\"M 165.998519 229.148423 \nL 193.469288 229.148423 \nL 193.469288 270.963808 \nL 165.998519 270.963808 \nL 165.998519 229.148423 \n\" style=\"fill:#6788ee;stroke:#ffffff;stroke-width:0.5;\"/>\n    <path clip-path=\"url(#pac730ba19d)\" d=\"M 193.469288 229.148423 \nL 220.940058 229.148423 \nL 220.940058 270.963808 \nL 193.469288 270.963808 \nL 193.469288 229.148423 \n\" style=\"fill:#b2ccfb;stroke:#ffffff;stroke-width:0.5;\"/>\n    <path clip-path=\"url(#pac730ba19d)\" d=\"M 220.940058 229.148423 \nL 248.410827 229.148423 \nL 248.410827 270.963808 \nL 220.940058 270.963808 \nL 220.940058 229.148423 \n\" style=\"fill:#6b8df0;stroke:#ffffff;stroke-width:0.5;\"/>\n    <path clip-path=\"url(#pac730ba19d)\" d=\"M 248.410827 229.148423 \nL 275.881596 229.148423 \nL 275.881596 270.963808 \nL 248.410827 270.963808 \nL 248.410827 229.148423 \n\" style=\"fill:#b2ccfb;stroke:#ffffff;stroke-width:0.5;\"/>\n    <path clip-path=\"url(#pac730ba19d)\" d=\"M 275.881596 229.148423 \nL 303.352365 229.148423 \nL 303.352365 270.963808 \nL 275.881596 270.963808 \nL 275.881596 229.148423 \n\" style=\"fill:#b40426;stroke:#ffffff;stroke-width:0.5;\"/>\n    <path clip-path=\"url(#pac730ba19d)\" d=\"M 303.352365 229.148423 \nL 330.823135 229.148423 \nL 330.823135 270.963808 \nL 303.352365 270.963808 \nL 303.352365 229.148423 \n\" style=\"fill:#d24b40;stroke:#ffffff;stroke-width:0.5;\"/>\n    <path clip-path=\"url(#pac730ba19d)\" d=\"M 330.823135 229.148423 \nL 358.293904 229.148423 \nL 358.293904 270.963808 \nL 330.823135 270.963808 \nL 330.823135 229.148423 \n\" style=\"fill:#506bda;stroke:#ffffff;stroke-width:0.5;\"/>\n    <path clip-path=\"url(#pac730ba19d)\" d=\"M 358.293904 229.148423 \nL 385.764673 229.148423 \nL 385.764673 270.963808 \nL 358.293904 270.963808 \nL 358.293904 229.148423 \n\" style=\"fill:#f49a7b;stroke:#ffffff;stroke-width:0.5;\"/>\n    <path clip-path=\"url(#pac730ba19d)\" d=\"M 385.764673 229.148423 \nL 413.235442 229.148423 \nL 413.235442 270.963808 \nL 385.764673 270.963808 \nL 385.764673 229.148423 \n\" style=\"fill:#b2ccfb;stroke:#ffffff;stroke-width:0.5;\"/>\n    <path clip-path=\"url(#pac730ba19d)\" d=\"M 413.235442 229.148423 \nL 440.706212 229.148423 \nL 440.706212 270.963808 \nL 413.235442 270.963808 \nL 413.235442 229.148423 \n\" style=\"fill:#f5c1a9;stroke:#ffffff;stroke-width:0.5;\"/>\n    <path clip-path=\"url(#pac730ba19d)\" d=\"M 440.706212 229.148423 \nL 468.176981 229.148423 \nL 468.176981 270.963808 \nL 440.706212 270.963808 \nL 440.706212 229.148423 \n\" style=\"fill:#ec8165;stroke:#ffffff;stroke-width:0.5;\"/>\n    <path clip-path=\"url(#pac730ba19d)\" d=\"M 468.176981 229.148423 \nL 495.64775 229.148423 \nL 495.64775 270.963808 \nL 468.176981 270.963808 \nL 468.176981 229.148423 \n\" style=\"fill:#f7b497;stroke:#ffffff;stroke-width:0.5;\"/>\n    <path clip-path=\"url(#pac730ba19d)\" d=\"M 138.52775 270.963808 \nL 165.998519 270.963808 \nL 165.998519 312.779192 \nL 138.52775 312.779192 \nL 138.52775 270.963808 \n\" style=\"fill:#b2ccfb;stroke:#ffffff;stroke-width:0.5;\"/>\n    <path clip-path=\"url(#pac730ba19d)\" d=\"M 165.998519 270.963808 \nL 193.469288 270.963808 \nL 193.469288 312.779192 \nL 165.998519 312.779192 \nL 165.998519 270.963808 \n\" style=\"fill:#5875e1;stroke:#ffffff;stroke-width:0.5;\"/>\n    <path clip-path=\"url(#pac730ba19d)\" d=\"M 193.469288 270.963808 \nL 220.940058 270.963808 \nL 220.940058 312.779192 \nL 193.469288 312.779192 \nL 193.469288 270.963808 \n\" style=\"fill:#b2ccfb;stroke:#ffffff;stroke-width:0.5;\"/>\n    <path clip-path=\"url(#pac730ba19d)\" d=\"M 220.940058 270.963808 \nL 248.410827 270.963808 \nL 248.410827 312.779192 \nL 220.940058 312.779192 \nL 220.940058 270.963808 \n\" style=\"fill:#6485ec;stroke:#ffffff;stroke-width:0.5;\"/>\n    <path clip-path=\"url(#pac730ba19d)\" d=\"M 248.410827 270.963808 \nL 275.881596 270.963808 \nL 275.881596 312.779192 \nL 248.410827 312.779192 \nL 248.410827 270.963808 \n\" style=\"fill:#b2ccfb;stroke:#ffffff;stroke-width:0.5;\"/>\n    <path clip-path=\"url(#pac730ba19d)\" d=\"M 275.881596 270.963808 \nL 303.352365 270.963808 \nL 303.352365 312.779192 \nL 275.881596 312.779192 \nL 275.881596 270.963808 \n\" style=\"fill:#d24b40;stroke:#ffffff;stroke-width:0.5;\"/>\n    <path clip-path=\"url(#pac730ba19d)\" d=\"M 303.352365 270.963808 \nL 330.823135 270.963808 \nL 330.823135 312.779192 \nL 303.352365 312.779192 \nL 303.352365 270.963808 \n\" style=\"fill:#b40426;stroke:#ffffff;stroke-width:0.5;\"/>\n    <path clip-path=\"url(#pac730ba19d)\" d=\"M 330.823135 270.963808 \nL 358.293904 270.963808 \nL 358.293904 312.779192 \nL 330.823135 312.779192 \nL 330.823135 270.963808 \n\" style=\"fill:#3e51c5;stroke:#ffffff;stroke-width:0.5;\"/>\n    <path clip-path=\"url(#pac730ba19d)\" d=\"M 358.293904 270.963808 \nL 385.764673 270.963808 \nL 385.764673 312.779192 \nL 358.293904 312.779192 \nL 358.293904 270.963808 \n\" style=\"fill:#f18f71;stroke:#ffffff;stroke-width:0.5;\"/>\n    <path clip-path=\"url(#pac730ba19d)\" d=\"M 385.764673 270.963808 \nL 413.235442 270.963808 \nL 413.235442 312.779192 \nL 385.764673 312.779192 \nL 385.764673 270.963808 \n\" style=\"fill:#b2ccfb;stroke:#ffffff;stroke-width:0.5;\"/>\n    <path clip-path=\"url(#pac730ba19d)\" d=\"M 413.235442 270.963808 \nL 440.706212 270.963808 \nL 440.706212 312.779192 \nL 413.235442 312.779192 \nL 413.235442 270.963808 \n\" style=\"fill:#f7aa8c;stroke:#ffffff;stroke-width:0.5;\"/>\n    <path clip-path=\"url(#pac730ba19d)\" d=\"M 440.706212 270.963808 \nL 468.176981 270.963808 \nL 468.176981 312.779192 \nL 440.706212 312.779192 \nL 440.706212 270.963808 \n\" style=\"fill:#e0654f;stroke:#ffffff;stroke-width:0.5;\"/>\n    <path clip-path=\"url(#pac730ba19d)\" d=\"M 468.176981 270.963808 \nL 495.64775 270.963808 \nL 495.64775 312.779192 \nL 468.176981 312.779192 \nL 468.176981 270.963808 \n\" style=\"fill:#f7b599;stroke:#ffffff;stroke-width:0.5;\"/>\n    <path clip-path=\"url(#pac730ba19d)\" d=\"M 138.52775 312.779192 \nL 165.998519 312.779192 \nL 165.998519 354.594577 \nL 138.52775 354.594577 \nL 138.52775 312.779192 \n\" style=\"fill:#b2ccfb;stroke:#ffffff;stroke-width:0.5;\"/>\n    <path clip-path=\"url(#pac730ba19d)\" d=\"M 165.998519 312.779192 \nL 193.469288 312.779192 \nL 193.469288 354.594577 \nL 165.998519 354.594577 \nL 165.998519 312.779192 \n\" style=\"fill:#b2ccfb;stroke:#ffffff;stroke-width:0.5;\"/>\n    <path clip-path=\"url(#pac730ba19d)\" d=\"M 193.469288 312.779192 \nL 220.940058 312.779192 \nL 220.940058 354.594577 \nL 193.469288 354.594577 \nL 193.469288 312.779192 \n\" style=\"fill:#b2ccfb;stroke:#ffffff;stroke-width:0.5;\"/>\n    <path clip-path=\"url(#pac730ba19d)\" d=\"M 220.940058 312.779192 \nL 248.410827 312.779192 \nL 248.410827 354.594577 \nL 220.940058 354.594577 \nL 220.940058 312.779192 \n\" style=\"fill:#f0cdbb;stroke:#ffffff;stroke-width:0.5;\"/>\n    <path clip-path=\"url(#pac730ba19d)\" d=\"M 248.410827 312.779192 \nL 275.881596 312.779192 \nL 275.881596 354.594577 \nL 248.410827 354.594577 \nL 248.410827 312.779192 \n\" style=\"fill:#b2ccfb;stroke:#ffffff;stroke-width:0.5;\"/>\n    <path clip-path=\"url(#pac730ba19d)\" d=\"M 275.881596 312.779192 \nL 303.352365 312.779192 \nL 303.352365 354.594577 \nL 275.881596 354.594577 \nL 275.881596 312.779192 \n\" style=\"fill:#506bda;stroke:#ffffff;stroke-width:0.5;\"/>\n    <path clip-path=\"url(#pac730ba19d)\" d=\"M 303.352365 312.779192 \nL 330.823135 312.779192 \nL 330.823135 354.594577 \nL 303.352365 354.594577 \nL 303.352365 312.779192 \n\" style=\"fill:#3e51c5;stroke:#ffffff;stroke-width:0.5;\"/>\n    <path clip-path=\"url(#pac730ba19d)\" d=\"M 330.823135 312.779192 \nL 358.293904 312.779192 \nL 358.293904 354.594577 \nL 330.823135 354.594577 \nL 330.823135 312.779192 \n\" style=\"fill:#b40426;stroke:#ffffff;stroke-width:0.5;\"/>\n    <path clip-path=\"url(#pac730ba19d)\" d=\"M 358.293904 312.779192 \nL 385.764673 312.779192 \nL 385.764673 354.594577 \nL 358.293904 354.594577 \nL 358.293904 312.779192 \n\" style=\"fill:#6180e9;stroke:#ffffff;stroke-width:0.5;\"/>\n    <path clip-path=\"url(#pac730ba19d)\" d=\"M 385.764673 312.779192 \nL 413.235442 312.779192 \nL 413.235442 354.594577 \nL 385.764673 354.594577 \nL 385.764673 312.779192 \n\" style=\"fill:#b2ccfb;stroke:#ffffff;stroke-width:0.5;\"/>\n    <path clip-path=\"url(#pac730ba19d)\" d=\"M 413.235442 312.779192 \nL 440.706212 312.779192 \nL 440.706212 354.594577 \nL 413.235442 354.594577 \nL 413.235442 312.779192 \n\" style=\"fill:#b2ccfb;stroke:#ffffff;stroke-width:0.5;\"/>\n    <path clip-path=\"url(#pac730ba19d)\" d=\"M 440.706212 312.779192 \nL 468.176981 312.779192 \nL 468.176981 354.594577 \nL 440.706212 354.594577 \nL 440.706212 312.779192 \n\" style=\"fill:#455cce;stroke:#ffffff;stroke-width:0.5;\"/>\n    <path clip-path=\"url(#pac730ba19d)\" d=\"M 468.176981 312.779192 \nL 495.64775 312.779192 \nL 495.64775 354.594577 \nL 468.176981 354.594577 \nL 468.176981 312.779192 \n\" style=\"fill:#6e90f2;stroke:#ffffff;stroke-width:0.5;\"/>\n    <path clip-path=\"url(#pac730ba19d)\" d=\"M 138.52775 354.594577 \nL 165.998519 354.594577 \nL 165.998519 396.409962 \nL 138.52775 396.409962 \nL 138.52775 354.594577 \n\" style=\"fill:#b2ccfb;stroke:#ffffff;stroke-width:0.5;\"/>\n    <path clip-path=\"url(#pac730ba19d)\" d=\"M 165.998519 354.594577 \nL 193.469288 354.594577 \nL 193.469288 396.409962 \nL 165.998519 396.409962 \nL 165.998519 354.594577 \n\" style=\"fill:#b2ccfb;stroke:#ffffff;stroke-width:0.5;\"/>\n    <path clip-path=\"url(#pac730ba19d)\" d=\"M 193.469288 354.594577 \nL 220.940058 354.594577 \nL 220.940058 396.409962 \nL 193.469288 396.409962 \nL 193.469288 354.594577 \n\" style=\"fill:#b2ccfb;stroke:#ffffff;stroke-width:0.5;\"/>\n    <path clip-path=\"url(#pac730ba19d)\" d=\"M 220.940058 354.594577 \nL 248.410827 354.594577 \nL 248.410827 396.409962 \nL 220.940058 396.409962 \nL 220.940058 354.594577 \n\" style=\"fill:#b2ccfb;stroke:#ffffff;stroke-width:0.5;\"/>\n    <path clip-path=\"url(#pac730ba19d)\" d=\"M 248.410827 354.594577 \nL 275.881596 354.594577 \nL 275.881596 396.409962 \nL 248.410827 396.409962 \nL 248.410827 354.594577 \n\" style=\"fill:#b2ccfb;stroke:#ffffff;stroke-width:0.5;\"/>\n    <path clip-path=\"url(#pac730ba19d)\" d=\"M 275.881596 354.594577 \nL 303.352365 354.594577 \nL 303.352365 396.409962 \nL 275.881596 396.409962 \nL 275.881596 354.594577 \n\" style=\"fill:#f49a7b;stroke:#ffffff;stroke-width:0.5;\"/>\n    <path clip-path=\"url(#pac730ba19d)\" d=\"M 303.352365 354.594577 \nL 330.823135 354.594577 \nL 330.823135 396.409962 \nL 303.352365 396.409962 \nL 303.352365 354.594577 \n\" style=\"fill:#f18f71;stroke:#ffffff;stroke-width:0.5;\"/>\n    <path clip-path=\"url(#pac730ba19d)\" d=\"M 330.823135 354.594577 \nL 358.293904 354.594577 \nL 358.293904 396.409962 \nL 330.823135 396.409962 \nL 330.823135 354.594577 \n\" style=\"fill:#6180e9;stroke:#ffffff;stroke-width:0.5;\"/>\n    <path clip-path=\"url(#pac730ba19d)\" d=\"M 358.293904 354.594577 \nL 385.764673 354.594577 \nL 385.764673 396.409962 \nL 358.293904 396.409962 \nL 358.293904 354.594577 \n\" style=\"fill:#b40426;stroke:#ffffff;stroke-width:0.5;\"/>\n    <path clip-path=\"url(#pac730ba19d)\" d=\"M 385.764673 354.594577 \nL 413.235442 354.594577 \nL 413.235442 396.409962 \nL 385.764673 396.409962 \nL 385.764673 354.594577 \n\" style=\"fill:#b2ccfb;stroke:#ffffff;stroke-width:0.5;\"/>\n    <path clip-path=\"url(#pac730ba19d)\" d=\"M 413.235442 354.594577 \nL 440.706212 354.594577 \nL 440.706212 396.409962 \nL 413.235442 396.409962 \nL 413.235442 354.594577 \n\" style=\"fill:#ead5c9;stroke:#ffffff;stroke-width:0.5;\"/>\n    <path clip-path=\"url(#pac730ba19d)\" d=\"M 440.706212 354.594577 \nL 468.176981 354.594577 \nL 468.176981 396.409962 \nL 440.706212 396.409962 \nL 440.706212 354.594577 \n\" style=\"fill:#f7af91;stroke:#ffffff;stroke-width:0.5;\"/>\n    <path clip-path=\"url(#pac730ba19d)\" d=\"M 468.176981 354.594577 \nL 495.64775 354.594577 \nL 495.64775 396.409962 \nL 468.176981 396.409962 \nL 468.176981 354.594577 \n\" style=\"fill:#edd1c2;stroke:#ffffff;stroke-width:0.5;\"/>\n    <path clip-path=\"url(#pac730ba19d)\" d=\"M 138.52775 396.409962 \nL 165.998519 396.409962 \nL 165.998519 438.225346 \nL 138.52775 438.225346 \nL 138.52775 396.409962 \n\" style=\"fill:#f7a889;stroke:#ffffff;stroke-width:0.5;\"/>\n    <path clip-path=\"url(#pac730ba19d)\" d=\"M 165.998519 396.409962 \nL 193.469288 396.409962 \nL 193.469288 438.225346 \nL 165.998519 438.225346 \nL 165.998519 396.409962 \n\" style=\"fill:#b2ccfb;stroke:#ffffff;stroke-width:0.5;\"/>\n    <path clip-path=\"url(#pac730ba19d)\" d=\"M 193.469288 396.409962 \nL 220.940058 396.409962 \nL 220.940058 438.225346 \nL 193.469288 438.225346 \nL 193.469288 396.409962 \n\" style=\"fill:#b2ccfb;stroke:#ffffff;stroke-width:0.5;\"/>\n    <path clip-path=\"url(#pac730ba19d)\" d=\"M 220.940058 396.409962 \nL 248.410827 396.409962 \nL 248.410827 438.225346 \nL 220.940058 438.225346 \nL 220.940058 396.409962 \n\" style=\"fill:#b2ccfb;stroke:#ffffff;stroke-width:0.5;\"/>\n    <path clip-path=\"url(#pac730ba19d)\" d=\"M 248.410827 396.409962 \nL 275.881596 396.409962 \nL 275.881596 438.225346 \nL 248.410827 438.225346 \nL 248.410827 396.409962 \n\" style=\"fill:#b2ccfb;stroke:#ffffff;stroke-width:0.5;\"/>\n    <path clip-path=\"url(#pac730ba19d)\" d=\"M 275.881596 396.409962 \nL 303.352365 396.409962 \nL 303.352365 438.225346 \nL 275.881596 438.225346 \nL 275.881596 396.409962 \n\" style=\"fill:#b2ccfb;stroke:#ffffff;stroke-width:0.5;\"/>\n    <path clip-path=\"url(#pac730ba19d)\" d=\"M 303.352365 396.409962 \nL 330.823135 396.409962 \nL 330.823135 438.225346 \nL 303.352365 438.225346 \nL 303.352365 396.409962 \n\" style=\"fill:#b2ccfb;stroke:#ffffff;stroke-width:0.5;\"/>\n    <path clip-path=\"url(#pac730ba19d)\" d=\"M 330.823135 396.409962 \nL 358.293904 396.409962 \nL 358.293904 438.225346 \nL 330.823135 438.225346 \nL 330.823135 396.409962 \n\" style=\"fill:#b2ccfb;stroke:#ffffff;stroke-width:0.5;\"/>\n    <path clip-path=\"url(#pac730ba19d)\" d=\"M 358.293904 396.409962 \nL 385.764673 396.409962 \nL 385.764673 438.225346 \nL 358.293904 438.225346 \nL 358.293904 396.409962 \n\" style=\"fill:#b2ccfb;stroke:#ffffff;stroke-width:0.5;\"/>\n    <path clip-path=\"url(#pac730ba19d)\" d=\"M 385.764673 396.409962 \nL 413.235442 396.409962 \nL 413.235442 438.225346 \nL 385.764673 438.225346 \nL 385.764673 396.409962 \n\" style=\"fill:#b40426;stroke:#ffffff;stroke-width:0.5;\"/>\n    <path clip-path=\"url(#pac730ba19d)\" d=\"M 413.235442 396.409962 \nL 440.706212 396.409962 \nL 440.706212 438.225346 \nL 413.235442 438.225346 \nL 413.235442 396.409962 \n\" style=\"fill:#4257c9;stroke:#ffffff;stroke-width:0.5;\"/>\n    <path clip-path=\"url(#pac730ba19d)\" d=\"M 440.706212 396.409962 \nL 468.176981 396.409962 \nL 468.176981 438.225346 \nL 440.706212 438.225346 \nL 440.706212 396.409962 \n\" style=\"fill:#5470de;stroke:#ffffff;stroke-width:0.5;\"/>\n    <path clip-path=\"url(#pac730ba19d)\" d=\"M 468.176981 396.409962 \nL 495.64775 396.409962 \nL 495.64775 438.225346 \nL 468.176981 438.225346 \nL 468.176981 396.409962 \n\" style=\"fill:#ecd3c5;stroke:#ffffff;stroke-width:0.5;\"/>\n    <path clip-path=\"url(#pac730ba19d)\" d=\"M 138.52775 438.225346 \nL 165.998519 438.225346 \nL 165.998519 480.040731 \nL 138.52775 480.040731 \nL 138.52775 438.225346 \n\" style=\"fill:#b2ccfb;stroke:#ffffff;stroke-width:0.5;\"/>\n    <path clip-path=\"url(#pac730ba19d)\" d=\"M 165.998519 438.225346 \nL 193.469288 438.225346 \nL 193.469288 480.040731 \nL 165.998519 480.040731 \nL 165.998519 438.225346 \n\" style=\"fill:#3b4cc0;stroke:#ffffff;stroke-width:0.5;\"/>\n    <path clip-path=\"url(#pac730ba19d)\" d=\"M 193.469288 438.225346 \nL 220.940058 438.225346 \nL 220.940058 480.040731 \nL 193.469288 480.040731 \nL 193.469288 438.225346 \n\" style=\"fill:#b2ccfb;stroke:#ffffff;stroke-width:0.5;\"/>\n    <path clip-path=\"url(#pac730ba19d)\" d=\"M 220.940058 438.225346 \nL 248.410827 438.225346 \nL 248.410827 480.040731 \nL 220.940058 480.040731 \nL 220.940058 438.225346 \n\" style=\"fill:#b2ccfb;stroke:#ffffff;stroke-width:0.5;\"/>\n    <path clip-path=\"url(#pac730ba19d)\" d=\"M 248.410827 438.225346 \nL 275.881596 438.225346 \nL 275.881596 480.040731 \nL 248.410827 480.040731 \nL 248.410827 438.225346 \n\" style=\"fill:#b2ccfb;stroke:#ffffff;stroke-width:0.5;\"/>\n    <path clip-path=\"url(#pac730ba19d)\" d=\"M 275.881596 438.225346 \nL 303.352365 438.225346 \nL 303.352365 480.040731 \nL 275.881596 480.040731 \nL 275.881596 438.225346 \n\" style=\"fill:#f5c1a9;stroke:#ffffff;stroke-width:0.5;\"/>\n    <path clip-path=\"url(#pac730ba19d)\" d=\"M 303.352365 438.225346 \nL 330.823135 438.225346 \nL 330.823135 480.040731 \nL 303.352365 480.040731 \nL 303.352365 438.225346 \n\" style=\"fill:#f7aa8c;stroke:#ffffff;stroke-width:0.5;\"/>\n    <path clip-path=\"url(#pac730ba19d)\" d=\"M 330.823135 438.225346 \nL 358.293904 438.225346 \nL 358.293904 480.040731 \nL 330.823135 480.040731 \nL 330.823135 438.225346 \n\" style=\"fill:#b2ccfb;stroke:#ffffff;stroke-width:0.5;\"/>\n    <path clip-path=\"url(#pac730ba19d)\" d=\"M 358.293904 438.225346 \nL 385.764673 438.225346 \nL 385.764673 480.040731 \nL 358.293904 480.040731 \nL 358.293904 438.225346 \n\" style=\"fill:#ead5c9;stroke:#ffffff;stroke-width:0.5;\"/>\n    <path clip-path=\"url(#pac730ba19d)\" d=\"M 385.764673 438.225346 \nL 413.235442 438.225346 \nL 413.235442 480.040731 \nL 385.764673 480.040731 \nL 385.764673 438.225346 \n\" style=\"fill:#4257c9;stroke:#ffffff;stroke-width:0.5;\"/>\n    <path clip-path=\"url(#pac730ba19d)\" d=\"M 413.235442 438.225346 \nL 440.706212 438.225346 \nL 440.706212 480.040731 \nL 413.235442 480.040731 \nL 413.235442 438.225346 \n\" style=\"fill:#b40426;stroke:#ffffff;stroke-width:0.5;\"/>\n    <path clip-path=\"url(#pac730ba19d)\" d=\"M 440.706212 438.225346 \nL 468.176981 438.225346 \nL 468.176981 480.040731 \nL 440.706212 480.040731 \nL 440.706212 438.225346 \n\" style=\"fill:#f6a385;stroke:#ffffff;stroke-width:0.5;\"/>\n    <path clip-path=\"url(#pac730ba19d)\" d=\"M 468.176981 438.225346 \nL 495.64775 438.225346 \nL 495.64775 480.040731 \nL 468.176981 480.040731 \nL 468.176981 438.225346 \n\" style=\"fill:#b2ccfb;stroke:#ffffff;stroke-width:0.5;\"/>\n    <path clip-path=\"url(#pac730ba19d)\" d=\"M 138.52775 480.040731 \nL 165.998519 480.040731 \nL 165.998519 521.856115 \nL 138.52775 521.856115 \nL 138.52775 480.040731 \n\" style=\"fill:#b2ccfb;stroke:#ffffff;stroke-width:0.5;\"/>\n    <path clip-path=\"url(#pac730ba19d)\" d=\"M 165.998519 480.040731 \nL 193.469288 480.040731 \nL 193.469288 521.856115 \nL 165.998519 521.856115 \nL 165.998519 480.040731 \n\" style=\"fill:#6180e9;stroke:#ffffff;stroke-width:0.5;\"/>\n    <path clip-path=\"url(#pac730ba19d)\" d=\"M 193.469288 480.040731 \nL 220.940058 480.040731 \nL 220.940058 521.856115 \nL 193.469288 521.856115 \nL 193.469288 480.040731 \n\" style=\"fill:#b2ccfb;stroke:#ffffff;stroke-width:0.5;\"/>\n    <path clip-path=\"url(#pac730ba19d)\" d=\"M 220.940058 480.040731 \nL 248.410827 480.040731 \nL 248.410827 521.856115 \nL 220.940058 521.856115 \nL 220.940058 480.040731 \n\" style=\"fill:#b2ccfb;stroke:#ffffff;stroke-width:0.5;\"/>\n    <path clip-path=\"url(#pac730ba19d)\" d=\"M 248.410827 480.040731 \nL 275.881596 480.040731 \nL 275.881596 521.856115 \nL 248.410827 521.856115 \nL 248.410827 480.040731 \n\" style=\"fill:#b2ccfb;stroke:#ffffff;stroke-width:0.5;\"/>\n    <path clip-path=\"url(#pac730ba19d)\" d=\"M 275.881596 480.040731 \nL 303.352365 480.040731 \nL 303.352365 521.856115 \nL 275.881596 521.856115 \nL 275.881596 480.040731 \n\" style=\"fill:#ec8165;stroke:#ffffff;stroke-width:0.5;\"/>\n    <path clip-path=\"url(#pac730ba19d)\" d=\"M 303.352365 480.040731 \nL 330.823135 480.040731 \nL 330.823135 521.856115 \nL 303.352365 521.856115 \nL 303.352365 480.040731 \n\" style=\"fill:#e0654f;stroke:#ffffff;stroke-width:0.5;\"/>\n    <path clip-path=\"url(#pac730ba19d)\" d=\"M 330.823135 480.040731 \nL 358.293904 480.040731 \nL 358.293904 521.856115 \nL 330.823135 521.856115 \nL 330.823135 480.040731 \n\" style=\"fill:#455cce;stroke:#ffffff;stroke-width:0.5;\"/>\n    <path clip-path=\"url(#pac730ba19d)\" d=\"M 358.293904 480.040731 \nL 385.764673 480.040731 \nL 385.764673 521.856115 \nL 358.293904 521.856115 \nL 358.293904 480.040731 \n\" style=\"fill:#f7af91;stroke:#ffffff;stroke-width:0.5;\"/>\n    <path clip-path=\"url(#pac730ba19d)\" d=\"M 385.764673 480.040731 \nL 413.235442 480.040731 \nL 413.235442 521.856115 \nL 385.764673 521.856115 \nL 385.764673 480.040731 \n\" style=\"fill:#5470de;stroke:#ffffff;stroke-width:0.5;\"/>\n    <path clip-path=\"url(#pac730ba19d)\" d=\"M 413.235442 480.040731 \nL 440.706212 480.040731 \nL 440.706212 521.856115 \nL 413.235442 521.856115 \nL 413.235442 480.040731 \n\" style=\"fill:#f6a385;stroke:#ffffff;stroke-width:0.5;\"/>\n    <path clip-path=\"url(#pac730ba19d)\" d=\"M 440.706212 480.040731 \nL 468.176981 480.040731 \nL 468.176981 521.856115 \nL 440.706212 521.856115 \nL 440.706212 480.040731 \n\" style=\"fill:#b40426;stroke:#ffffff;stroke-width:0.5;\"/>\n    <path clip-path=\"url(#pac730ba19d)\" d=\"M 468.176981 480.040731 \nL 495.64775 480.040731 \nL 495.64775 521.856115 \nL 468.176981 521.856115 \nL 468.176981 480.040731 \n\" style=\"fill:#ead4c8;stroke:#ffffff;stroke-width:0.5;\"/>\n    <path clip-path=\"url(#pac730ba19d)\" d=\"M 138.52775 521.856115 \nL 165.998519 521.856115 \nL 165.998519 563.6715 \nL 138.52775 563.6715 \nL 138.52775 521.856115 \n\" style=\"fill:#f29274;stroke:#ffffff;stroke-width:0.5;\"/>\n    <path clip-path=\"url(#pac730ba19d)\" d=\"M 165.998519 521.856115 \nL 193.469288 521.856115 \nL 193.469288 563.6715 \nL 165.998519 563.6715 \nL 165.998519 521.856115 \n\" style=\"fill:#b2ccfb;stroke:#ffffff;stroke-width:0.5;\"/>\n    <path clip-path=\"url(#pac730ba19d)\" d=\"M 193.469288 521.856115 \nL 220.940058 521.856115 \nL 220.940058 563.6715 \nL 193.469288 563.6715 \nL 193.469288 521.856115 \n\" style=\"fill:#b2ccfb;stroke:#ffffff;stroke-width:0.5;\"/>\n    <path clip-path=\"url(#pac730ba19d)\" d=\"M 220.940058 521.856115 \nL 248.410827 521.856115 \nL 248.410827 563.6715 \nL 220.940058 563.6715 \nL 220.940058 521.856115 \n\" style=\"fill:#516ddb;stroke:#ffffff;stroke-width:0.5;\"/>\n    <path clip-path=\"url(#pac730ba19d)\" d=\"M 248.410827 521.856115 \nL 275.881596 521.856115 \nL 275.881596 563.6715 \nL 248.410827 563.6715 \nL 248.410827 521.856115 \n\" style=\"fill:#f2c9b4;stroke:#ffffff;stroke-width:0.5;\"/>\n    <path clip-path=\"url(#pac730ba19d)\" d=\"M 275.881596 521.856115 \nL 303.352365 521.856115 \nL 303.352365 563.6715 \nL 275.881596 563.6715 \nL 275.881596 521.856115 \n\" style=\"fill:#f7b497;stroke:#ffffff;stroke-width:0.5;\"/>\n    <path clip-path=\"url(#pac730ba19d)\" d=\"M 303.352365 521.856115 \nL 330.823135 521.856115 \nL 330.823135 563.6715 \nL 303.352365 563.6715 \nL 303.352365 521.856115 \n\" style=\"fill:#f7b599;stroke:#ffffff;stroke-width:0.5;\"/>\n    <path clip-path=\"url(#pac730ba19d)\" d=\"M 330.823135 521.856115 \nL 358.293904 521.856115 \nL 358.293904 563.6715 \nL 330.823135 563.6715 \nL 330.823135 521.856115 \n\" style=\"fill:#6e90f2;stroke:#ffffff;stroke-width:0.5;\"/>\n    <path clip-path=\"url(#pac730ba19d)\" d=\"M 358.293904 521.856115 \nL 385.764673 521.856115 \nL 385.764673 563.6715 \nL 358.293904 563.6715 \nL 358.293904 521.856115 \n\" style=\"fill:#edd1c2;stroke:#ffffff;stroke-width:0.5;\"/>\n    <path clip-path=\"url(#pac730ba19d)\" d=\"M 385.764673 521.856115 \nL 413.235442 521.856115 \nL 413.235442 563.6715 \nL 385.764673 563.6715 \nL 385.764673 521.856115 \n\" style=\"fill:#ecd3c5;stroke:#ffffff;stroke-width:0.5;\"/>\n    <path clip-path=\"url(#pac730ba19d)\" d=\"M 413.235442 521.856115 \nL 440.706212 521.856115 \nL 440.706212 563.6715 \nL 413.235442 563.6715 \nL 413.235442 521.856115 \n\" style=\"fill:#b2ccfb;stroke:#ffffff;stroke-width:0.5;\"/>\n    <path clip-path=\"url(#pac730ba19d)\" d=\"M 440.706212 521.856115 \nL 468.176981 521.856115 \nL 468.176981 563.6715 \nL 440.706212 563.6715 \nL 440.706212 521.856115 \n\" style=\"fill:#ead4c8;stroke:#ffffff;stroke-width:0.5;\"/>\n    <path clip-path=\"url(#pac730ba19d)\" d=\"M 468.176981 521.856115 \nL 495.64775 521.856115 \nL 495.64775 563.6715 \nL 468.176981 563.6715 \nL 468.176981 521.856115 \n\" style=\"fill:#b40426;stroke:#ffffff;stroke-width:0.5;\"/>\n   </g>\n   <g id=\"text_27\">\n    <!-- 1 -->\n    <g style=\"fill:#ffffff;\" transform=\"translate(149.593885 43.460942)scale(0.096 -0.096)\">\n     <use xlink:href=\"#ArialMT-31\"/>\n    </g>\n   </g>\n   <g id=\"text_28\">\n    <!-- 0 -->\n    <g style=\"fill:#262626;\" transform=\"translate(177.064654 43.460942)scale(0.096 -0.096)\">\n     <use xlink:href=\"#ArialMT-30\"/>\n    </g>\n   </g>\n   <g id=\"text_29\">\n    <!-- 0 -->\n    <g style=\"fill:#262626;\" transform=\"translate(204.535423 43.460942)scale(0.096 -0.096)\">\n     <use xlink:href=\"#ArialMT-30\"/>\n    </g>\n   </g>\n   <g id=\"text_30\">\n    <!-- -0.31 -->\n    <g style=\"fill:#ffffff;\" transform=\"translate(223.735942 43.460942)scale(0.096 -0.096)\">\n     <defs>\n      <path d=\"M 203 1375 \nL 203 1941 \nL 1931 1941 \nL 1931 1375 \nL 203 1375 \nz\n\" id=\"ArialMT-2d\" transform=\"scale(0.015625)\"/>\n      <path d=\"M 581 0 \nL 581 641 \nL 1222 641 \nL 1222 0 \nL 581 0 \nz\n\" id=\"ArialMT-2e\" transform=\"scale(0.015625)\"/>\n     </defs>\n     <use xlink:href=\"#ArialMT-2d\"/>\n     <use x=\"33.300781\" xlink:href=\"#ArialMT-30\"/>\n     <use x=\"88.916016\" xlink:href=\"#ArialMT-2e\"/>\n     <use x=\"116.699219\" xlink:href=\"#ArialMT-33\"/>\n     <use x=\"172.314453\" xlink:href=\"#ArialMT-31\"/>\n    </g>\n   </g>\n   <g id=\"text_31\">\n    <!-- 0 -->\n    <g style=\"fill:#262626;\" transform=\"translate(259.476962 43.460942)scale(0.096 -0.096)\">\n     <use xlink:href=\"#ArialMT-30\"/>\n    </g>\n   </g>\n   <g id=\"text_32\">\n    <!-- 0 -->\n    <g style=\"fill:#262626;\" transform=\"translate(286.947731 43.460942)scale(0.096 -0.096)\">\n     <use xlink:href=\"#ArialMT-30\"/>\n    </g>\n   </g>\n   <g id=\"text_33\">\n    <!-- 0 -->\n    <g style=\"fill:#262626;\" transform=\"translate(314.4185 43.460942)scale(0.096 -0.096)\">\n     <use xlink:href=\"#ArialMT-30\"/>\n    </g>\n   </g>\n   <g id=\"text_34\">\n    <!-- 0 -->\n    <g style=\"fill:#262626;\" transform=\"translate(341.889269 43.460942)scale(0.096 -0.096)\">\n     <use xlink:href=\"#ArialMT-30\"/>\n    </g>\n   </g>\n   <g id=\"text_35\">\n    <!-- 0 -->\n    <g style=\"fill:#262626;\" transform=\"translate(369.360038 43.460942)scale(0.096 -0.096)\">\n     <use xlink:href=\"#ArialMT-30\"/>\n    </g>\n   </g>\n   <g id=\"text_36\">\n    <!-- 0.55 -->\n    <g style=\"fill:#262626;\" transform=\"translate(390.158808 43.460942)scale(0.096 -0.096)\">\n     <use xlink:href=\"#ArialMT-30\"/>\n     <use x=\"55.615234\" xlink:href=\"#ArialMT-2e\"/>\n     <use x=\"83.398438\" xlink:href=\"#ArialMT-35\"/>\n     <use x=\"139.013672\" xlink:href=\"#ArialMT-35\"/>\n    </g>\n   </g>\n   <g id=\"text_37\">\n    <!-- 0 -->\n    <g style=\"fill:#262626;\" transform=\"translate(424.301577 43.460942)scale(0.096 -0.096)\">\n     <use xlink:href=\"#ArialMT-30\"/>\n    </g>\n   </g>\n   <g id=\"text_38\">\n    <!-- 0 -->\n    <g style=\"fill:#262626;\" transform=\"translate(451.772346 43.460942)scale(0.096 -0.096)\">\n     <use xlink:href=\"#ArialMT-30\"/>\n    </g>\n   </g>\n   <g id=\"text_39\">\n    <!-- 0.64 -->\n    <g style=\"fill:#ffffff;\" transform=\"translate(472.571115 43.460942)scale(0.096 -0.096)\">\n     <defs>\n      <path d=\"M 3184 3459 \nL 2625 3416 \nQ 2550 3747 2413 3897 \nQ 2184 4138 1850 4138 \nQ 1581 4138 1378 3988 \nQ 1113 3794 959 3422 \nQ 806 3050 800 2363 \nQ 1003 2672 1297 2822 \nQ 1591 2972 1913 2972 \nQ 2475 2972 2870 2558 \nQ 3266 2144 3266 1488 \nQ 3266 1056 3080 686 \nQ 2894 316 2569 119 \nQ 2244 -78 1831 -78 \nQ 1128 -78 684 439 \nQ 241 956 241 2144 \nQ 241 3472 731 4075 \nQ 1159 4600 1884 4600 \nQ 2425 4600 2770 4297 \nQ 3116 3994 3184 3459 \nz\nM 888 1484 \nQ 888 1194 1011 928 \nQ 1134 663 1356 523 \nQ 1578 384 1822 384 \nQ 2178 384 2434 671 \nQ 2691 959 2691 1453 \nQ 2691 1928 2437 2201 \nQ 2184 2475 1800 2475 \nQ 1419 2475 1153 2201 \nQ 888 1928 888 1484 \nz\n\" id=\"ArialMT-36\" transform=\"scale(0.015625)\"/>\n      <path d=\"M 2069 0 \nL 2069 1097 \nL 81 1097 \nL 81 1613 \nL 2172 4581 \nL 2631 4581 \nL 2631 1613 \nL 3250 1613 \nL 3250 1097 \nL 2631 1097 \nL 2631 0 \nL 2069 0 \nz\nM 2069 1613 \nL 2069 3678 \nL 634 1613 \nL 2069 1613 \nz\n\" id=\"ArialMT-34\" transform=\"scale(0.015625)\"/>\n     </defs>\n     <use xlink:href=\"#ArialMT-30\"/>\n     <use x=\"55.615234\" xlink:href=\"#ArialMT-2e\"/>\n     <use x=\"83.398438\" xlink:href=\"#ArialMT-36\"/>\n     <use x=\"139.013672\" xlink:href=\"#ArialMT-34\"/>\n    </g>\n   </g>\n   <g id=\"text_40\">\n    <!-- 0 -->\n    <g style=\"fill:#262626;\" transform=\"translate(149.593885 85.276327)scale(0.096 -0.096)\">\n     <use xlink:href=\"#ArialMT-30\"/>\n    </g>\n   </g>\n   <g id=\"text_41\">\n    <!-- 1 -->\n    <g style=\"fill:#ffffff;\" transform=\"translate(177.064654 85.276327)scale(0.096 -0.096)\">\n     <use xlink:href=\"#ArialMT-31\"/>\n    </g>\n   </g>\n   <g id=\"text_42\">\n    <!-- 0 -->\n    <g style=\"fill:#262626;\" transform=\"translate(204.535423 85.276327)scale(0.096 -0.096)\">\n     <use xlink:href=\"#ArialMT-30\"/>\n    </g>\n   </g>\n   <g id=\"text_43\">\n    <!-- 0 -->\n    <g style=\"fill:#262626;\" transform=\"translate(232.006192 85.276327)scale(0.096 -0.096)\">\n     <use xlink:href=\"#ArialMT-30\"/>\n    </g>\n   </g>\n   <g id=\"text_44\">\n    <!-- 0 -->\n    <g style=\"fill:#262626;\" transform=\"translate(259.476962 85.276327)scale(0.096 -0.096)\">\n     <use xlink:href=\"#ArialMT-30\"/>\n    </g>\n   </g>\n   <g id=\"text_45\">\n    <!-- -0.34 -->\n    <g style=\"fill:#ffffff;\" transform=\"translate(278.677481 85.276327)scale(0.096 -0.096)\">\n     <use xlink:href=\"#ArialMT-2d\"/>\n     <use x=\"33.300781\" xlink:href=\"#ArialMT-30\"/>\n     <use x=\"88.916016\" xlink:href=\"#ArialMT-2e\"/>\n     <use x=\"116.699219\" xlink:href=\"#ArialMT-33\"/>\n     <use x=\"172.314453\" xlink:href=\"#ArialMT-34\"/>\n    </g>\n   </g>\n   <g id=\"text_46\">\n    <!-- -0.41 -->\n    <g style=\"fill:#ffffff;\" transform=\"translate(306.14825 85.276327)scale(0.096 -0.096)\">\n     <use xlink:href=\"#ArialMT-2d\"/>\n     <use x=\"33.300781\" xlink:href=\"#ArialMT-30\"/>\n     <use x=\"88.916016\" xlink:href=\"#ArialMT-2e\"/>\n     <use x=\"116.699219\" xlink:href=\"#ArialMT-34\"/>\n     <use x=\"172.314453\" xlink:href=\"#ArialMT-31\"/>\n    </g>\n   </g>\n   <g id=\"text_47\">\n    <!-- 0 -->\n    <g style=\"fill:#262626;\" transform=\"translate(341.889269 85.276327)scale(0.096 -0.096)\">\n     <use xlink:href=\"#ArialMT-30\"/>\n    </g>\n   </g>\n   <g id=\"text_48\">\n    <!-- 0 -->\n    <g style=\"fill:#262626;\" transform=\"translate(369.360038 85.276327)scale(0.096 -0.096)\">\n     <use xlink:href=\"#ArialMT-30\"/>\n    </g>\n   </g>\n   <g id=\"text_49\">\n    <!-- 0 -->\n    <g style=\"fill:#262626;\" transform=\"translate(396.830808 85.276327)scale(0.096 -0.096)\">\n     <use xlink:href=\"#ArialMT-30\"/>\n    </g>\n   </g>\n   <g id=\"text_50\">\n    <!-- -0.56 -->\n    <g style=\"fill:#ffffff;\" transform=\"translate(416.031327 85.276327)scale(0.096 -0.096)\">\n     <use xlink:href=\"#ArialMT-2d\"/>\n     <use x=\"33.300781\" xlink:href=\"#ArialMT-30\"/>\n     <use x=\"88.916016\" xlink:href=\"#ArialMT-2e\"/>\n     <use x=\"116.699219\" xlink:href=\"#ArialMT-35\"/>\n     <use x=\"172.314453\" xlink:href=\"#ArialMT-36\"/>\n    </g>\n   </g>\n   <g id=\"text_51\">\n    <!-- -0.37 -->\n    <g style=\"fill:#ffffff;\" transform=\"translate(443.502096 85.276327)scale(0.096 -0.096)\">\n     <defs>\n      <path d=\"M 303 3981 \nL 303 4522 \nL 3269 4522 \nL 3269 4084 \nQ 2831 3619 2401 2847 \nQ 1972 2075 1738 1259 \nQ 1569 684 1522 0 \nL 944 0 \nQ 953 541 1156 1306 \nQ 1359 2072 1739 2783 \nQ 2119 3494 2547 3981 \nL 303 3981 \nz\n\" id=\"ArialMT-37\" transform=\"scale(0.015625)\"/>\n     </defs>\n     <use xlink:href=\"#ArialMT-2d\"/>\n     <use x=\"33.300781\" xlink:href=\"#ArialMT-30\"/>\n     <use x=\"88.916016\" xlink:href=\"#ArialMT-2e\"/>\n     <use x=\"116.699219\" xlink:href=\"#ArialMT-33\"/>\n     <use x=\"172.314453\" xlink:href=\"#ArialMT-37\"/>\n    </g>\n   </g>\n   <g id=\"text_52\">\n    <!-- 0 -->\n    <g style=\"fill:#262626;\" transform=\"translate(479.243115 85.276327)scale(0.096 -0.096)\">\n     <use xlink:href=\"#ArialMT-30\"/>\n    </g>\n   </g>\n   <g id=\"text_53\">\n    <!-- 0 -->\n    <g style=\"fill:#262626;\" transform=\"translate(149.593885 127.091712)scale(0.096 -0.096)\">\n     <use xlink:href=\"#ArialMT-30\"/>\n    </g>\n   </g>\n   <g id=\"text_54\">\n    <!-- 0 -->\n    <g style=\"fill:#262626;\" transform=\"translate(177.064654 127.091712)scale(0.096 -0.096)\">\n     <use xlink:href=\"#ArialMT-30\"/>\n    </g>\n   </g>\n   <g id=\"text_55\">\n    <!-- 1 -->\n    <g style=\"fill:#ffffff;\" transform=\"translate(204.535423 127.091712)scale(0.096 -0.096)\">\n     <use xlink:href=\"#ArialMT-31\"/>\n    </g>\n   </g>\n   <g id=\"text_56\">\n    <!-- 0.44 -->\n    <g style=\"fill:#262626;\" transform=\"translate(225.334192 127.091712)scale(0.096 -0.096)\">\n     <use xlink:href=\"#ArialMT-30\"/>\n     <use x=\"55.615234\" xlink:href=\"#ArialMT-2e\"/>\n     <use x=\"83.398438\" xlink:href=\"#ArialMT-34\"/>\n     <use x=\"139.013672\" xlink:href=\"#ArialMT-34\"/>\n    </g>\n   </g>\n   <g id=\"text_57\">\n    <!-- 0 -->\n    <g style=\"fill:#262626;\" transform=\"translate(259.476962 127.091712)scale(0.096 -0.096)\">\n     <use xlink:href=\"#ArialMT-30\"/>\n    </g>\n   </g>\n   <g id=\"text_58\">\n    <!-- 0 -->\n    <g style=\"fill:#262626;\" transform=\"translate(286.947731 127.091712)scale(0.096 -0.096)\">\n     <use xlink:href=\"#ArialMT-30\"/>\n    </g>\n   </g>\n   <g id=\"text_59\">\n    <!-- 0 -->\n    <g style=\"fill:#262626;\" transform=\"translate(314.4185 127.091712)scale(0.096 -0.096)\">\n     <use xlink:href=\"#ArialMT-30\"/>\n    </g>\n   </g>\n   <g id=\"text_60\">\n    <!-- 0 -->\n    <g style=\"fill:#262626;\" transform=\"translate(341.889269 127.091712)scale(0.096 -0.096)\">\n     <use xlink:href=\"#ArialMT-30\"/>\n    </g>\n   </g>\n   <g id=\"text_61\">\n    <!-- 0 -->\n    <g style=\"fill:#262626;\" transform=\"translate(369.360038 127.091712)scale(0.096 -0.096)\">\n     <use xlink:href=\"#ArialMT-30\"/>\n    </g>\n   </g>\n   <g id=\"text_62\">\n    <!-- 0 -->\n    <g style=\"fill:#262626;\" transform=\"translate(396.830808 127.091712)scale(0.096 -0.096)\">\n     <use xlink:href=\"#ArialMT-30\"/>\n    </g>\n   </g>\n   <g id=\"text_63\">\n    <!-- 0 -->\n    <g style=\"fill:#262626;\" transform=\"translate(424.301577 127.091712)scale(0.096 -0.096)\">\n     <use xlink:href=\"#ArialMT-30\"/>\n    </g>\n   </g>\n   <g id=\"text_64\">\n    <!-- 0 -->\n    <g style=\"fill:#262626;\" transform=\"translate(451.772346 127.091712)scale(0.096 -0.096)\">\n     <use xlink:href=\"#ArialMT-30\"/>\n    </g>\n   </g>\n   <g id=\"text_65\">\n    <!-- 0 -->\n    <g style=\"fill:#262626;\" transform=\"translate(479.243115 127.091712)scale(0.096 -0.096)\">\n     <use xlink:href=\"#ArialMT-30\"/>\n    </g>\n   </g>\n   <g id=\"text_66\">\n    <!-- -0.31 -->\n    <g style=\"fill:#ffffff;\" transform=\"translate(141.323635 168.907096)scale(0.096 -0.096)\">\n     <use xlink:href=\"#ArialMT-2d\"/>\n     <use x=\"33.300781\" xlink:href=\"#ArialMT-30\"/>\n     <use x=\"88.916016\" xlink:href=\"#ArialMT-2e\"/>\n     <use x=\"116.699219\" xlink:href=\"#ArialMT-33\"/>\n     <use x=\"172.314453\" xlink:href=\"#ArialMT-31\"/>\n    </g>\n   </g>\n   <g id=\"text_67\">\n    <!-- 0 -->\n    <g style=\"fill:#262626;\" transform=\"translate(177.064654 168.907096)scale(0.096 -0.096)\">\n     <use xlink:href=\"#ArialMT-30\"/>\n    </g>\n   </g>\n   <g id=\"text_68\">\n    <!-- 0.44 -->\n    <g style=\"fill:#262626;\" transform=\"translate(197.863423 168.907096)scale(0.096 -0.096)\">\n     <use xlink:href=\"#ArialMT-30\"/>\n     <use x=\"55.615234\" xlink:href=\"#ArialMT-2e\"/>\n     <use x=\"83.398438\" xlink:href=\"#ArialMT-34\"/>\n     <use x=\"139.013672\" xlink:href=\"#ArialMT-34\"/>\n    </g>\n   </g>\n   <g id=\"text_69\">\n    <!-- 1 -->\n    <g style=\"fill:#ffffff;\" transform=\"translate(232.006192 168.907096)scale(0.096 -0.096)\">\n     <use xlink:href=\"#ArialMT-31\"/>\n    </g>\n   </g>\n   <g id=\"text_70\">\n    <!-- 0 -->\n    <g style=\"fill:#262626;\" transform=\"translate(259.476962 168.907096)scale(0.096 -0.096)\">\n     <use xlink:href=\"#ArialMT-30\"/>\n    </g>\n   </g>\n   <g id=\"text_71\">\n    <!-- -0.32 -->\n    <g style=\"fill:#ffffff;\" transform=\"translate(278.677481 168.907096)scale(0.096 -0.096)\">\n     <use xlink:href=\"#ArialMT-2d\"/>\n     <use x=\"33.300781\" xlink:href=\"#ArialMT-30\"/>\n     <use x=\"88.916016\" xlink:href=\"#ArialMT-2e\"/>\n     <use x=\"116.699219\" xlink:href=\"#ArialMT-33\"/>\n     <use x=\"172.314453\" xlink:href=\"#ArialMT-32\"/>\n    </g>\n   </g>\n   <g id=\"text_72\">\n    <!-- -0.35 -->\n    <g style=\"fill:#ffffff;\" transform=\"translate(306.14825 168.907096)scale(0.096 -0.096)\">\n     <use xlink:href=\"#ArialMT-2d\"/>\n     <use x=\"33.300781\" xlink:href=\"#ArialMT-30\"/>\n     <use x=\"88.916016\" xlink:href=\"#ArialMT-2e\"/>\n     <use x=\"116.699219\" xlink:href=\"#ArialMT-33\"/>\n     <use x=\"172.314453\" xlink:href=\"#ArialMT-35\"/>\n    </g>\n   </g>\n   <g id=\"text_73\">\n    <!-- 0.36 -->\n    <g style=\"fill:#262626;\" transform=\"translate(335.217269 168.907096)scale(0.096 -0.096)\">\n     <use xlink:href=\"#ArialMT-30\"/>\n     <use x=\"55.615234\" xlink:href=\"#ArialMT-2e\"/>\n     <use x=\"83.398438\" xlink:href=\"#ArialMT-33\"/>\n     <use x=\"139.013672\" xlink:href=\"#ArialMT-36\"/>\n    </g>\n   </g>\n   <g id=\"text_74\">\n    <!-- 0 -->\n    <g style=\"fill:#262626;\" transform=\"translate(369.360038 168.907096)scale(0.096 -0.096)\">\n     <use xlink:href=\"#ArialMT-30\"/>\n    </g>\n   </g>\n   <g id=\"text_75\">\n    <!-- 0 -->\n    <g style=\"fill:#262626;\" transform=\"translate(396.830808 168.907096)scale(0.096 -0.096)\">\n     <use xlink:href=\"#ArialMT-30\"/>\n    </g>\n   </g>\n   <g id=\"text_76\">\n    <!-- 0 -->\n    <g style=\"fill:#262626;\" transform=\"translate(424.301577 168.907096)scale(0.096 -0.096)\">\n     <use xlink:href=\"#ArialMT-30\"/>\n    </g>\n   </g>\n   <g id=\"text_77\">\n    <!-- 0 -->\n    <g style=\"fill:#262626;\" transform=\"translate(451.772346 168.907096)scale(0.096 -0.096)\">\n     <use xlink:href=\"#ArialMT-30\"/>\n    </g>\n   </g>\n   <g id=\"text_78\">\n    <!-- -0.44 -->\n    <g style=\"fill:#ffffff;\" transform=\"translate(470.972865 168.907096)scale(0.096 -0.096)\">\n     <use xlink:href=\"#ArialMT-2d\"/>\n     <use x=\"33.300781\" xlink:href=\"#ArialMT-30\"/>\n     <use x=\"88.916016\" xlink:href=\"#ArialMT-2e\"/>\n     <use x=\"116.699219\" xlink:href=\"#ArialMT-34\"/>\n     <use x=\"172.314453\" xlink:href=\"#ArialMT-34\"/>\n    </g>\n   </g>\n   <g id=\"text_79\">\n    <!-- 0 -->\n    <g style=\"fill:#262626;\" transform=\"translate(149.593885 210.722481)scale(0.096 -0.096)\">\n     <use xlink:href=\"#ArialMT-30\"/>\n    </g>\n   </g>\n   <g id=\"text_80\">\n    <!-- 0 -->\n    <g style=\"fill:#262626;\" transform=\"translate(177.064654 210.722481)scale(0.096 -0.096)\">\n     <use xlink:href=\"#ArialMT-30\"/>\n    </g>\n   </g>\n   <g id=\"text_81\">\n    <!-- 0 -->\n    <g style=\"fill:#262626;\" transform=\"translate(204.535423 210.722481)scale(0.096 -0.096)\">\n     <use xlink:href=\"#ArialMT-30\"/>\n    </g>\n   </g>\n   <g id=\"text_82\">\n    <!-- 0 -->\n    <g style=\"fill:#262626;\" transform=\"translate(232.006192 210.722481)scale(0.096 -0.096)\">\n     <use xlink:href=\"#ArialMT-30\"/>\n    </g>\n   </g>\n   <g id=\"text_83\">\n    <!-- 1 -->\n    <g style=\"fill:#ffffff;\" transform=\"translate(259.476962 210.722481)scale(0.096 -0.096)\">\n     <use xlink:href=\"#ArialMT-31\"/>\n    </g>\n   </g>\n   <g id=\"text_84\">\n    <!-- 0 -->\n    <g style=\"fill:#262626;\" transform=\"translate(286.947731 210.722481)scale(0.096 -0.096)\">\n     <use xlink:href=\"#ArialMT-30\"/>\n    </g>\n   </g>\n   <g id=\"text_85\">\n    <!-- 0 -->\n    <g style=\"fill:#262626;\" transform=\"translate(314.4185 210.722481)scale(0.096 -0.096)\">\n     <use xlink:href=\"#ArialMT-30\"/>\n    </g>\n   </g>\n   <g id=\"text_86\">\n    <!-- 0 -->\n    <g style=\"fill:#262626;\" transform=\"translate(341.889269 210.722481)scale(0.096 -0.096)\">\n     <use xlink:href=\"#ArialMT-30\"/>\n    </g>\n   </g>\n   <g id=\"text_87\">\n    <!-- 0 -->\n    <g style=\"fill:#262626;\" transform=\"translate(369.360038 210.722481)scale(0.096 -0.096)\">\n     <use xlink:href=\"#ArialMT-30\"/>\n    </g>\n   </g>\n   <g id=\"text_88\">\n    <!-- 0 -->\n    <g style=\"fill:#262626;\" transform=\"translate(396.830808 210.722481)scale(0.096 -0.096)\">\n     <use xlink:href=\"#ArialMT-30\"/>\n    </g>\n   </g>\n   <g id=\"text_89\">\n    <!-- 0 -->\n    <g style=\"fill:#262626;\" transform=\"translate(424.301577 210.722481)scale(0.096 -0.096)\">\n     <use xlink:href=\"#ArialMT-30\"/>\n    </g>\n   </g>\n   <g id=\"text_90\">\n    <!-- 0 -->\n    <g style=\"fill:#262626;\" transform=\"translate(451.772346 210.722481)scale(0.096 -0.096)\">\n     <use xlink:href=\"#ArialMT-30\"/>\n    </g>\n   </g>\n   <g id=\"text_91\">\n    <!-- 0.39 -->\n    <g style=\"fill:#262626;\" transform=\"translate(472.571115 210.722481)scale(0.096 -0.096)\">\n     <defs>\n      <path d=\"M 350 1059 \nL 891 1109 \nQ 959 728 1153 556 \nQ 1347 384 1650 384 \nQ 1909 384 2104 503 \nQ 2300 622 2425 820 \nQ 2550 1019 2634 1356 \nQ 2719 1694 2719 2044 \nQ 2719 2081 2716 2156 \nQ 2547 1888 2255 1720 \nQ 1963 1553 1622 1553 \nQ 1053 1553 659 1965 \nQ 266 2378 266 3053 \nQ 266 3750 677 4175 \nQ 1088 4600 1706 4600 \nQ 2153 4600 2523 4359 \nQ 2894 4119 3086 3673 \nQ 3278 3228 3278 2384 \nQ 3278 1506 3087 986 \nQ 2897 466 2520 194 \nQ 2144 -78 1638 -78 \nQ 1100 -78 759 220 \nQ 419 519 350 1059 \nz\nM 2653 3081 \nQ 2653 3566 2395 3850 \nQ 2138 4134 1775 4134 \nQ 1400 4134 1122 3828 \nQ 844 3522 844 3034 \nQ 844 2597 1108 2323 \nQ 1372 2050 1759 2050 \nQ 2150 2050 2401 2323 \nQ 2653 2597 2653 3081 \nz\n\" id=\"ArialMT-39\" transform=\"scale(0.015625)\"/>\n     </defs>\n     <use xlink:href=\"#ArialMT-30\"/>\n     <use x=\"55.615234\" xlink:href=\"#ArialMT-2e\"/>\n     <use x=\"83.398438\" xlink:href=\"#ArialMT-33\"/>\n     <use x=\"139.013672\" xlink:href=\"#ArialMT-39\"/>\n    </g>\n   </g>\n   <g id=\"text_92\">\n    <!-- 0 -->\n    <g style=\"fill:#262626;\" transform=\"translate(149.593885 252.537865)scale(0.096 -0.096)\">\n     <use xlink:href=\"#ArialMT-30\"/>\n    </g>\n   </g>\n   <g id=\"text_93\">\n    <!-- -0.34 -->\n    <g style=\"fill:#ffffff;\" transform=\"translate(168.794404 252.537865)scale(0.096 -0.096)\">\n     <use xlink:href=\"#ArialMT-2d\"/>\n     <use x=\"33.300781\" xlink:href=\"#ArialMT-30\"/>\n     <use x=\"88.916016\" xlink:href=\"#ArialMT-2e\"/>\n     <use x=\"116.699219\" xlink:href=\"#ArialMT-33\"/>\n     <use x=\"172.314453\" xlink:href=\"#ArialMT-34\"/>\n    </g>\n   </g>\n   <g id=\"text_94\">\n    <!-- 0 -->\n    <g style=\"fill:#262626;\" transform=\"translate(204.535423 252.537865)scale(0.096 -0.096)\">\n     <use xlink:href=\"#ArialMT-30\"/>\n    </g>\n   </g>\n   <g id=\"text_95\">\n    <!-- -0.32 -->\n    <g style=\"fill:#ffffff;\" transform=\"translate(223.735942 252.537865)scale(0.096 -0.096)\">\n     <use xlink:href=\"#ArialMT-2d\"/>\n     <use x=\"33.300781\" xlink:href=\"#ArialMT-30\"/>\n     <use x=\"88.916016\" xlink:href=\"#ArialMT-2e\"/>\n     <use x=\"116.699219\" xlink:href=\"#ArialMT-33\"/>\n     <use x=\"172.314453\" xlink:href=\"#ArialMT-32\"/>\n    </g>\n   </g>\n   <g id=\"text_96\">\n    <!-- 0 -->\n    <g style=\"fill:#262626;\" transform=\"translate(259.476962 252.537865)scale(0.096 -0.096)\">\n     <use xlink:href=\"#ArialMT-30\"/>\n    </g>\n   </g>\n   <g id=\"text_97\">\n    <!-- 1 -->\n    <g style=\"fill:#ffffff;\" transform=\"translate(286.947731 252.537865)scale(0.096 -0.096)\">\n     <use xlink:href=\"#ArialMT-31\"/>\n    </g>\n   </g>\n   <g id=\"text_98\">\n    <!-- 0.86 -->\n    <g style=\"fill:#ffffff;\" transform=\"translate(307.7465 252.537865)scale(0.096 -0.096)\">\n     <use xlink:href=\"#ArialMT-30\"/>\n     <use x=\"55.615234\" xlink:href=\"#ArialMT-2e\"/>\n     <use x=\"83.398438\" xlink:href=\"#ArialMT-38\"/>\n     <use x=\"139.013672\" xlink:href=\"#ArialMT-36\"/>\n    </g>\n   </g>\n   <g id=\"text_99\">\n    <!-- -0.45 -->\n    <g style=\"fill:#ffffff;\" transform=\"translate(333.619019 252.537865)scale(0.096 -0.096)\">\n     <use xlink:href=\"#ArialMT-2d\"/>\n     <use x=\"33.300781\" xlink:href=\"#ArialMT-30\"/>\n     <use x=\"88.916016\" xlink:href=\"#ArialMT-2e\"/>\n     <use x=\"116.699219\" xlink:href=\"#ArialMT-34\"/>\n     <use x=\"172.314453\" xlink:href=\"#ArialMT-35\"/>\n    </g>\n   </g>\n   <g id=\"text_100\">\n    <!-- 0.61 -->\n    <g style=\"fill:#262626;\" transform=\"translate(362.688038 252.537865)scale(0.096 -0.096)\">\n     <use xlink:href=\"#ArialMT-30\"/>\n     <use x=\"55.615234\" xlink:href=\"#ArialMT-2e\"/>\n     <use x=\"83.398438\" xlink:href=\"#ArialMT-36\"/>\n     <use x=\"139.013672\" xlink:href=\"#ArialMT-31\"/>\n    </g>\n   </g>\n   <g id=\"text_101\">\n    <!-- 0 -->\n    <g style=\"fill:#262626;\" transform=\"translate(396.830808 252.537865)scale(0.096 -0.096)\">\n     <use xlink:href=\"#ArialMT-30\"/>\n    </g>\n   </g>\n   <g id=\"text_102\">\n    <!-- 0.43 -->\n    <g style=\"fill:#262626;\" transform=\"translate(417.629577 252.537865)scale(0.096 -0.096)\">\n     <use xlink:href=\"#ArialMT-30\"/>\n     <use x=\"55.615234\" xlink:href=\"#ArialMT-2e\"/>\n     <use x=\"83.398438\" xlink:href=\"#ArialMT-34\"/>\n     <use x=\"139.013672\" xlink:href=\"#ArialMT-33\"/>\n    </g>\n   </g>\n   <g id=\"text_103\">\n    <!-- 0.7 -->\n    <g style=\"fill:#ffffff;\" transform=\"translate(447.769596 252.537865)scale(0.096 -0.096)\">\n     <use xlink:href=\"#ArialMT-30\"/>\n     <use x=\"55.615234\" xlink:href=\"#ArialMT-2e\"/>\n     <use x=\"83.398438\" xlink:href=\"#ArialMT-37\"/>\n    </g>\n   </g>\n   <g id=\"text_104\">\n    <!-- 0.5 -->\n    <g style=\"fill:#262626;\" transform=\"translate(475.240365 252.537865)scale(0.096 -0.096)\">\n     <use xlink:href=\"#ArialMT-30\"/>\n     <use x=\"55.615234\" xlink:href=\"#ArialMT-2e\"/>\n     <use x=\"83.398438\" xlink:href=\"#ArialMT-35\"/>\n    </g>\n   </g>\n   <g id=\"text_105\">\n    <!-- 0 -->\n    <g style=\"fill:#262626;\" transform=\"translate(149.593885 294.35325)scale(0.096 -0.096)\">\n     <use xlink:href=\"#ArialMT-30\"/>\n    </g>\n   </g>\n   <g id=\"text_106\">\n    <!-- -0.41 -->\n    <g style=\"fill:#ffffff;\" transform=\"translate(168.794404 294.35325)scale(0.096 -0.096)\">\n     <use xlink:href=\"#ArialMT-2d\"/>\n     <use x=\"33.300781\" xlink:href=\"#ArialMT-30\"/>\n     <use x=\"88.916016\" xlink:href=\"#ArialMT-2e\"/>\n     <use x=\"116.699219\" xlink:href=\"#ArialMT-34\"/>\n     <use x=\"172.314453\" xlink:href=\"#ArialMT-31\"/>\n    </g>\n   </g>\n   <g id=\"text_107\">\n    <!-- 0 -->\n    <g style=\"fill:#262626;\" transform=\"translate(204.535423 294.35325)scale(0.096 -0.096)\">\n     <use xlink:href=\"#ArialMT-30\"/>\n    </g>\n   </g>\n   <g id=\"text_108\">\n    <!-- -0.35 -->\n    <g style=\"fill:#ffffff;\" transform=\"translate(223.735942 294.35325)scale(0.096 -0.096)\">\n     <use xlink:href=\"#ArialMT-2d\"/>\n     <use x=\"33.300781\" xlink:href=\"#ArialMT-30\"/>\n     <use x=\"88.916016\" xlink:href=\"#ArialMT-2e\"/>\n     <use x=\"116.699219\" xlink:href=\"#ArialMT-33\"/>\n     <use x=\"172.314453\" xlink:href=\"#ArialMT-35\"/>\n    </g>\n   </g>\n   <g id=\"text_109\">\n    <!-- 0 -->\n    <g style=\"fill:#262626;\" transform=\"translate(259.476962 294.35325)scale(0.096 -0.096)\">\n     <use xlink:href=\"#ArialMT-30\"/>\n    </g>\n   </g>\n   <g id=\"text_110\">\n    <!-- 0.86 -->\n    <g style=\"fill:#ffffff;\" transform=\"translate(280.275731 294.35325)scale(0.096 -0.096)\">\n     <use xlink:href=\"#ArialMT-30\"/>\n     <use x=\"55.615234\" xlink:href=\"#ArialMT-2e\"/>\n     <use x=\"83.398438\" xlink:href=\"#ArialMT-38\"/>\n     <use x=\"139.013672\" xlink:href=\"#ArialMT-36\"/>\n    </g>\n   </g>\n   <g id=\"text_111\">\n    <!-- 1 -->\n    <g style=\"fill:#ffffff;\" transform=\"translate(314.4185 294.35325)scale(0.096 -0.096)\">\n     <use xlink:href=\"#ArialMT-31\"/>\n    </g>\n   </g>\n   <g id=\"text_112\">\n    <!-- -0.54 -->\n    <g style=\"fill:#ffffff;\" transform=\"translate(333.619019 294.35325)scale(0.096 -0.096)\">\n     <use xlink:href=\"#ArialMT-2d\"/>\n     <use x=\"33.300781\" xlink:href=\"#ArialMT-30\"/>\n     <use x=\"88.916016\" xlink:href=\"#ArialMT-2e\"/>\n     <use x=\"116.699219\" xlink:href=\"#ArialMT-35\"/>\n     <use x=\"172.314453\" xlink:href=\"#ArialMT-34\"/>\n    </g>\n   </g>\n   <g id=\"text_113\">\n    <!-- 0.65 -->\n    <g style=\"fill:#ffffff;\" transform=\"translate(362.688038 294.35325)scale(0.096 -0.096)\">\n     <use xlink:href=\"#ArialMT-30\"/>\n     <use x=\"55.615234\" xlink:href=\"#ArialMT-2e\"/>\n     <use x=\"83.398438\" xlink:href=\"#ArialMT-36\"/>\n     <use x=\"139.013672\" xlink:href=\"#ArialMT-35\"/>\n    </g>\n   </g>\n   <g id=\"text_114\">\n    <!-- 0 -->\n    <g style=\"fill:#262626;\" transform=\"translate(396.830808 294.35325)scale(0.096 -0.096)\">\n     <use xlink:href=\"#ArialMT-30\"/>\n    </g>\n   </g>\n   <g id=\"text_115\">\n    <!-- 0.54 -->\n    <g style=\"fill:#262626;\" transform=\"translate(417.629577 294.35325)scale(0.096 -0.096)\">\n     <use xlink:href=\"#ArialMT-30\"/>\n     <use x=\"55.615234\" xlink:href=\"#ArialMT-2e\"/>\n     <use x=\"83.398438\" xlink:href=\"#ArialMT-35\"/>\n     <use x=\"139.013672\" xlink:href=\"#ArialMT-34\"/>\n    </g>\n   </g>\n   <g id=\"text_116\">\n    <!-- 0.79 -->\n    <g style=\"fill:#ffffff;\" transform=\"translate(445.100346 294.35325)scale(0.096 -0.096)\">\n     <use xlink:href=\"#ArialMT-30\"/>\n     <use x=\"55.615234\" xlink:href=\"#ArialMT-2e\"/>\n     <use x=\"83.398438\" xlink:href=\"#ArialMT-37\"/>\n     <use x=\"139.013672\" xlink:href=\"#ArialMT-39\"/>\n    </g>\n   </g>\n   <g id=\"text_117\">\n    <!-- 0.49 -->\n    <g style=\"fill:#262626;\" transform=\"translate(472.571115 294.35325)scale(0.096 -0.096)\">\n     <use xlink:href=\"#ArialMT-30\"/>\n     <use x=\"55.615234\" xlink:href=\"#ArialMT-2e\"/>\n     <use x=\"83.398438\" xlink:href=\"#ArialMT-34\"/>\n     <use x=\"139.013672\" xlink:href=\"#ArialMT-39\"/>\n    </g>\n   </g>\n   <g id=\"text_118\">\n    <!-- 0 -->\n    <g style=\"fill:#262626;\" transform=\"translate(149.593885 336.168635)scale(0.096 -0.096)\">\n     <use xlink:href=\"#ArialMT-30\"/>\n    </g>\n   </g>\n   <g id=\"text_119\">\n    <!-- 0 -->\n    <g style=\"fill:#262626;\" transform=\"translate(177.064654 336.168635)scale(0.096 -0.096)\">\n     <use xlink:href=\"#ArialMT-30\"/>\n    </g>\n   </g>\n   <g id=\"text_120\">\n    <!-- 0 -->\n    <g style=\"fill:#262626;\" transform=\"translate(204.535423 336.168635)scale(0.096 -0.096)\">\n     <use xlink:href=\"#ArialMT-30\"/>\n    </g>\n   </g>\n   <g id=\"text_121\">\n    <!-- 0.36 -->\n    <g style=\"fill:#262626;\" transform=\"translate(225.334192 336.168635)scale(0.096 -0.096)\">\n     <use xlink:href=\"#ArialMT-30\"/>\n     <use x=\"55.615234\" xlink:href=\"#ArialMT-2e\"/>\n     <use x=\"83.398438\" xlink:href=\"#ArialMT-33\"/>\n     <use x=\"139.013672\" xlink:href=\"#ArialMT-36\"/>\n    </g>\n   </g>\n   <g id=\"text_122\">\n    <!-- 0 -->\n    <g style=\"fill:#262626;\" transform=\"translate(259.476962 336.168635)scale(0.096 -0.096)\">\n     <use xlink:href=\"#ArialMT-30\"/>\n    </g>\n   </g>\n   <g id=\"text_123\">\n    <!-- -0.45 -->\n    <g style=\"fill:#ffffff;\" transform=\"translate(278.677481 336.168635)scale(0.096 -0.096)\">\n     <use xlink:href=\"#ArialMT-2d\"/>\n     <use x=\"33.300781\" xlink:href=\"#ArialMT-30\"/>\n     <use x=\"88.916016\" xlink:href=\"#ArialMT-2e\"/>\n     <use x=\"116.699219\" xlink:href=\"#ArialMT-34\"/>\n     <use x=\"172.314453\" xlink:href=\"#ArialMT-35\"/>\n    </g>\n   </g>\n   <g id=\"text_124\">\n    <!-- -0.54 -->\n    <g style=\"fill:#ffffff;\" transform=\"translate(306.14825 336.168635)scale(0.096 -0.096)\">\n     <use xlink:href=\"#ArialMT-2d\"/>\n     <use x=\"33.300781\" xlink:href=\"#ArialMT-30\"/>\n     <use x=\"88.916016\" xlink:href=\"#ArialMT-2e\"/>\n     <use x=\"116.699219\" xlink:href=\"#ArialMT-35\"/>\n     <use x=\"172.314453\" xlink:href=\"#ArialMT-34\"/>\n    </g>\n   </g>\n   <g id=\"text_125\">\n    <!-- 1 -->\n    <g style=\"fill:#ffffff;\" transform=\"translate(341.889269 336.168635)scale(0.096 -0.096)\">\n     <use xlink:href=\"#ArialMT-31\"/>\n    </g>\n   </g>\n   <g id=\"text_126\">\n    <!-- -0.37 -->\n    <g style=\"fill:#ffffff;\" transform=\"translate(361.089788 336.168635)scale(0.096 -0.096)\">\n     <use xlink:href=\"#ArialMT-2d\"/>\n     <use x=\"33.300781\" xlink:href=\"#ArialMT-30\"/>\n     <use x=\"88.916016\" xlink:href=\"#ArialMT-2e\"/>\n     <use x=\"116.699219\" xlink:href=\"#ArialMT-33\"/>\n     <use x=\"172.314453\" xlink:href=\"#ArialMT-37\"/>\n    </g>\n   </g>\n   <g id=\"text_127\">\n    <!-- 0 -->\n    <g style=\"fill:#262626;\" transform=\"translate(396.830808 336.168635)scale(0.096 -0.096)\">\n     <use xlink:href=\"#ArialMT-30\"/>\n    </g>\n   </g>\n   <g id=\"text_128\">\n    <!-- 0 -->\n    <g style=\"fill:#262626;\" transform=\"translate(424.301577 336.168635)scale(0.096 -0.096)\">\n     <use xlink:href=\"#ArialMT-30\"/>\n    </g>\n   </g>\n   <g id=\"text_129\">\n    <!-- -0.5 -->\n    <g style=\"fill:#ffffff;\" transform=\"translate(446.171346 336.168635)scale(0.096 -0.096)\">\n     <use xlink:href=\"#ArialMT-2d\"/>\n     <use x=\"33.300781\" xlink:href=\"#ArialMT-30\"/>\n     <use x=\"88.916016\" xlink:href=\"#ArialMT-2e\"/>\n     <use x=\"116.699219\" xlink:href=\"#ArialMT-35\"/>\n    </g>\n   </g>\n   <g id=\"text_130\">\n    <!-- -0.31 -->\n    <g style=\"fill:#ffffff;\" transform=\"translate(470.972865 336.168635)scale(0.096 -0.096)\">\n     <use xlink:href=\"#ArialMT-2d\"/>\n     <use x=\"33.300781\" xlink:href=\"#ArialMT-30\"/>\n     <use x=\"88.916016\" xlink:href=\"#ArialMT-2e\"/>\n     <use x=\"116.699219\" xlink:href=\"#ArialMT-33\"/>\n     <use x=\"172.314453\" xlink:href=\"#ArialMT-31\"/>\n    </g>\n   </g>\n   <g id=\"text_131\">\n    <!-- 0 -->\n    <g style=\"fill:#262626;\" transform=\"translate(149.593885 377.984019)scale(0.096 -0.096)\">\n     <use xlink:href=\"#ArialMT-30\"/>\n    </g>\n   </g>\n   <g id=\"text_132\">\n    <!-- 0 -->\n    <g style=\"fill:#262626;\" transform=\"translate(177.064654 377.984019)scale(0.096 -0.096)\">\n     <use xlink:href=\"#ArialMT-30\"/>\n    </g>\n   </g>\n   <g id=\"text_133\">\n    <!-- 0 -->\n    <g style=\"fill:#262626;\" transform=\"translate(204.535423 377.984019)scale(0.096 -0.096)\">\n     <use xlink:href=\"#ArialMT-30\"/>\n    </g>\n   </g>\n   <g id=\"text_134\">\n    <!-- 0 -->\n    <g style=\"fill:#262626;\" transform=\"translate(232.006192 377.984019)scale(0.096 -0.096)\">\n     <use xlink:href=\"#ArialMT-30\"/>\n    </g>\n   </g>\n   <g id=\"text_135\">\n    <!-- 0 -->\n    <g style=\"fill:#262626;\" transform=\"translate(259.476962 377.984019)scale(0.096 -0.096)\">\n     <use xlink:href=\"#ArialMT-30\"/>\n    </g>\n   </g>\n   <g id=\"text_136\">\n    <!-- 0.61 -->\n    <g style=\"fill:#262626;\" transform=\"translate(280.275731 377.984019)scale(0.096 -0.096)\">\n     <use xlink:href=\"#ArialMT-30\"/>\n     <use x=\"55.615234\" xlink:href=\"#ArialMT-2e\"/>\n     <use x=\"83.398438\" xlink:href=\"#ArialMT-36\"/>\n     <use x=\"139.013672\" xlink:href=\"#ArialMT-31\"/>\n    </g>\n   </g>\n   <g id=\"text_137\">\n    <!-- 0.65 -->\n    <g style=\"fill:#ffffff;\" transform=\"translate(307.7465 377.984019)scale(0.096 -0.096)\">\n     <use xlink:href=\"#ArialMT-30\"/>\n     <use x=\"55.615234\" xlink:href=\"#ArialMT-2e\"/>\n     <use x=\"83.398438\" xlink:href=\"#ArialMT-36\"/>\n     <use x=\"139.013672\" xlink:href=\"#ArialMT-35\"/>\n    </g>\n   </g>\n   <g id=\"text_138\">\n    <!-- -0.37 -->\n    <g style=\"fill:#ffffff;\" transform=\"translate(333.619019 377.984019)scale(0.096 -0.096)\">\n     <use xlink:href=\"#ArialMT-2d\"/>\n     <use x=\"33.300781\" xlink:href=\"#ArialMT-30\"/>\n     <use x=\"88.916016\" xlink:href=\"#ArialMT-2e\"/>\n     <use x=\"116.699219\" xlink:href=\"#ArialMT-33\"/>\n     <use x=\"172.314453\" xlink:href=\"#ArialMT-37\"/>\n    </g>\n   </g>\n   <g id=\"text_139\">\n    <!-- 1 -->\n    <g style=\"fill:#ffffff;\" transform=\"translate(369.360038 377.984019)scale(0.096 -0.096)\">\n     <use xlink:href=\"#ArialMT-31\"/>\n    </g>\n   </g>\n   <g id=\"text_140\">\n    <!-- 0 -->\n    <g style=\"fill:#262626;\" transform=\"translate(396.830808 377.984019)scale(0.096 -0.096)\">\n     <use xlink:href=\"#ArialMT-30\"/>\n    </g>\n   </g>\n   <g id=\"text_141\">\n    <!-- 0.3 -->\n    <g style=\"fill:#262626;\" transform=\"translate(420.298827 377.984019)scale(0.096 -0.096)\">\n     <use xlink:href=\"#ArialMT-30\"/>\n     <use x=\"55.615234\" xlink:href=\"#ArialMT-2e\"/>\n     <use x=\"83.398438\" xlink:href=\"#ArialMT-33\"/>\n    </g>\n   </g>\n   <g id=\"text_142\">\n    <!-- 0.52 -->\n    <g style=\"fill:#262626;\" transform=\"translate(445.100346 377.984019)scale(0.096 -0.096)\">\n     <use xlink:href=\"#ArialMT-30\"/>\n     <use x=\"55.615234\" xlink:href=\"#ArialMT-2e\"/>\n     <use x=\"83.398438\" xlink:href=\"#ArialMT-35\"/>\n     <use x=\"139.013672\" xlink:href=\"#ArialMT-32\"/>\n    </g>\n   </g>\n   <g id=\"text_143\">\n    <!-- 0.33 -->\n    <g style=\"fill:#262626;\" transform=\"translate(472.571115 377.984019)scale(0.096 -0.096)\">\n     <use xlink:href=\"#ArialMT-30\"/>\n     <use x=\"55.615234\" xlink:href=\"#ArialMT-2e\"/>\n     <use x=\"83.398438\" xlink:href=\"#ArialMT-33\"/>\n     <use x=\"139.013672\" xlink:href=\"#ArialMT-33\"/>\n    </g>\n   </g>\n   <g id=\"text_144\">\n    <!-- 0.55 -->\n    <g style=\"fill:#262626;\" transform=\"translate(142.921885 419.799404)scale(0.096 -0.096)\">\n     <use xlink:href=\"#ArialMT-30\"/>\n     <use x=\"55.615234\" xlink:href=\"#ArialMT-2e\"/>\n     <use x=\"83.398438\" xlink:href=\"#ArialMT-35\"/>\n     <use x=\"139.013672\" xlink:href=\"#ArialMT-35\"/>\n    </g>\n   </g>\n   <g id=\"text_145\">\n    <!-- 0 -->\n    <g style=\"fill:#262626;\" transform=\"translate(177.064654 419.799404)scale(0.096 -0.096)\">\n     <use xlink:href=\"#ArialMT-30\"/>\n    </g>\n   </g>\n   <g id=\"text_146\">\n    <!-- 0 -->\n    <g style=\"fill:#262626;\" transform=\"translate(204.535423 419.799404)scale(0.096 -0.096)\">\n     <use xlink:href=\"#ArialMT-30\"/>\n    </g>\n   </g>\n   <g id=\"text_147\">\n    <!-- 0 -->\n    <g style=\"fill:#262626;\" transform=\"translate(232.006192 419.799404)scale(0.096 -0.096)\">\n     <use xlink:href=\"#ArialMT-30\"/>\n    </g>\n   </g>\n   <g id=\"text_148\">\n    <!-- 0 -->\n    <g style=\"fill:#262626;\" transform=\"translate(259.476962 419.799404)scale(0.096 -0.096)\">\n     <use xlink:href=\"#ArialMT-30\"/>\n    </g>\n   </g>\n   <g id=\"text_149\">\n    <!-- 0 -->\n    <g style=\"fill:#262626;\" transform=\"translate(286.947731 419.799404)scale(0.096 -0.096)\">\n     <use xlink:href=\"#ArialMT-30\"/>\n    </g>\n   </g>\n   <g id=\"text_150\">\n    <!-- 0 -->\n    <g style=\"fill:#262626;\" transform=\"translate(314.4185 419.799404)scale(0.096 -0.096)\">\n     <use xlink:href=\"#ArialMT-30\"/>\n    </g>\n   </g>\n   <g id=\"text_151\">\n    <!-- 0 -->\n    <g style=\"fill:#262626;\" transform=\"translate(341.889269 419.799404)scale(0.096 -0.096)\">\n     <use xlink:href=\"#ArialMT-30\"/>\n    </g>\n   </g>\n   <g id=\"text_152\">\n    <!-- 0 -->\n    <g style=\"fill:#262626;\" transform=\"translate(369.360038 419.799404)scale(0.096 -0.096)\">\n     <use xlink:href=\"#ArialMT-30\"/>\n    </g>\n   </g>\n   <g id=\"text_153\">\n    <!-- 1 -->\n    <g style=\"fill:#ffffff;\" transform=\"translate(396.830808 419.799404)scale(0.096 -0.096)\">\n     <use xlink:href=\"#ArialMT-31\"/>\n    </g>\n   </g>\n   <g id=\"text_154\">\n    <!-- -0.52 -->\n    <g style=\"fill:#ffffff;\" transform=\"translate(416.031327 419.799404)scale(0.096 -0.096)\">\n     <use xlink:href=\"#ArialMT-2d\"/>\n     <use x=\"33.300781\" xlink:href=\"#ArialMT-30\"/>\n     <use x=\"88.916016\" xlink:href=\"#ArialMT-2e\"/>\n     <use x=\"116.699219\" xlink:href=\"#ArialMT-35\"/>\n     <use x=\"172.314453\" xlink:href=\"#ArialMT-32\"/>\n    </g>\n   </g>\n   <g id=\"text_155\">\n    <!-- -0.43 -->\n    <g style=\"fill:#ffffff;\" transform=\"translate(443.502096 419.799404)scale(0.096 -0.096)\">\n     <use xlink:href=\"#ArialMT-2d\"/>\n     <use x=\"33.300781\" xlink:href=\"#ArialMT-30\"/>\n     <use x=\"88.916016\" xlink:href=\"#ArialMT-2e\"/>\n     <use x=\"116.699219\" xlink:href=\"#ArialMT-34\"/>\n     <use x=\"172.314453\" xlink:href=\"#ArialMT-33\"/>\n    </g>\n   </g>\n   <g id=\"text_156\">\n    <!-- 0.32 -->\n    <g style=\"fill:#262626;\" transform=\"translate(472.571115 419.799404)scale(0.096 -0.096)\">\n     <use xlink:href=\"#ArialMT-30\"/>\n     <use x=\"55.615234\" xlink:href=\"#ArialMT-2e\"/>\n     <use x=\"83.398438\" xlink:href=\"#ArialMT-33\"/>\n     <use x=\"139.013672\" xlink:href=\"#ArialMT-32\"/>\n    </g>\n   </g>\n   <g id=\"text_157\">\n    <!-- 0 -->\n    <g style=\"fill:#262626;\" transform=\"translate(149.593885 461.614788)scale(0.096 -0.096)\">\n     <use xlink:href=\"#ArialMT-30\"/>\n    </g>\n   </g>\n   <g id=\"text_158\">\n    <!-- -0.56 -->\n    <g style=\"fill:#ffffff;\" transform=\"translate(168.794404 461.614788)scale(0.096 -0.096)\">\n     <use xlink:href=\"#ArialMT-2d\"/>\n     <use x=\"33.300781\" xlink:href=\"#ArialMT-30\"/>\n     <use x=\"88.916016\" xlink:href=\"#ArialMT-2e\"/>\n     <use x=\"116.699219\" xlink:href=\"#ArialMT-35\"/>\n     <use x=\"172.314453\" xlink:href=\"#ArialMT-36\"/>\n    </g>\n   </g>\n   <g id=\"text_159\">\n    <!-- 0 -->\n    <g style=\"fill:#262626;\" transform=\"translate(204.535423 461.614788)scale(0.096 -0.096)\">\n     <use xlink:href=\"#ArialMT-30\"/>\n    </g>\n   </g>\n   <g id=\"text_160\">\n    <!-- 0 -->\n    <g style=\"fill:#262626;\" transform=\"translate(232.006192 461.614788)scale(0.096 -0.096)\">\n     <use xlink:href=\"#ArialMT-30\"/>\n    </g>\n   </g>\n   <g id=\"text_161\">\n    <!-- 0 -->\n    <g style=\"fill:#262626;\" transform=\"translate(259.476962 461.614788)scale(0.096 -0.096)\">\n     <use xlink:href=\"#ArialMT-30\"/>\n    </g>\n   </g>\n   <g id=\"text_162\">\n    <!-- 0.43 -->\n    <g style=\"fill:#262626;\" transform=\"translate(280.275731 461.614788)scale(0.096 -0.096)\">\n     <use xlink:href=\"#ArialMT-30\"/>\n     <use x=\"55.615234\" xlink:href=\"#ArialMT-2e\"/>\n     <use x=\"83.398438\" xlink:href=\"#ArialMT-34\"/>\n     <use x=\"139.013672\" xlink:href=\"#ArialMT-33\"/>\n    </g>\n   </g>\n   <g id=\"text_163\">\n    <!-- 0.54 -->\n    <g style=\"fill:#262626;\" transform=\"translate(307.7465 461.614788)scale(0.096 -0.096)\">\n     <use xlink:href=\"#ArialMT-30\"/>\n     <use x=\"55.615234\" xlink:href=\"#ArialMT-2e\"/>\n     <use x=\"83.398438\" xlink:href=\"#ArialMT-35\"/>\n     <use x=\"139.013672\" xlink:href=\"#ArialMT-34\"/>\n    </g>\n   </g>\n   <g id=\"text_164\">\n    <!-- 0 -->\n    <g style=\"fill:#262626;\" transform=\"translate(341.889269 461.614788)scale(0.096 -0.096)\">\n     <use xlink:href=\"#ArialMT-30\"/>\n    </g>\n   </g>\n   <g id=\"text_165\">\n    <!-- 0.3 -->\n    <g style=\"fill:#262626;\" transform=\"translate(365.357288 461.614788)scale(0.096 -0.096)\">\n     <use xlink:href=\"#ArialMT-30\"/>\n     <use x=\"55.615234\" xlink:href=\"#ArialMT-2e\"/>\n     <use x=\"83.398438\" xlink:href=\"#ArialMT-33\"/>\n    </g>\n   </g>\n   <g id=\"text_166\">\n    <!-- -0.52 -->\n    <g style=\"fill:#ffffff;\" transform=\"translate(388.560558 461.614788)scale(0.096 -0.096)\">\n     <use xlink:href=\"#ArialMT-2d\"/>\n     <use x=\"33.300781\" xlink:href=\"#ArialMT-30\"/>\n     <use x=\"88.916016\" xlink:href=\"#ArialMT-2e\"/>\n     <use x=\"116.699219\" xlink:href=\"#ArialMT-35\"/>\n     <use x=\"172.314453\" xlink:href=\"#ArialMT-32\"/>\n    </g>\n   </g>\n   <g id=\"text_167\">\n    <!-- 1 -->\n    <g style=\"fill:#ffffff;\" transform=\"translate(424.301577 461.614788)scale(0.096 -0.096)\">\n     <use xlink:href=\"#ArialMT-31\"/>\n    </g>\n   </g>\n   <g id=\"text_168\">\n    <!-- 0.57 -->\n    <g style=\"fill:#262626;\" transform=\"translate(445.100346 461.614788)scale(0.096 -0.096)\">\n     <use xlink:href=\"#ArialMT-30\"/>\n     <use x=\"55.615234\" xlink:href=\"#ArialMT-2e\"/>\n     <use x=\"83.398438\" xlink:href=\"#ArialMT-35\"/>\n     <use x=\"139.013672\" xlink:href=\"#ArialMT-37\"/>\n    </g>\n   </g>\n   <g id=\"text_169\">\n    <!-- 0 -->\n    <g style=\"fill:#262626;\" transform=\"translate(479.243115 461.614788)scale(0.096 -0.096)\">\n     <use xlink:href=\"#ArialMT-30\"/>\n    </g>\n   </g>\n   <g id=\"text_170\">\n    <!-- 0 -->\n    <g style=\"fill:#262626;\" transform=\"translate(149.593885 503.430173)scale(0.096 -0.096)\">\n     <use xlink:href=\"#ArialMT-30\"/>\n    </g>\n   </g>\n   <g id=\"text_171\">\n    <!-- -0.37 -->\n    <g style=\"fill:#ffffff;\" transform=\"translate(168.794404 503.430173)scale(0.096 -0.096)\">\n     <use xlink:href=\"#ArialMT-2d\"/>\n     <use x=\"33.300781\" xlink:href=\"#ArialMT-30\"/>\n     <use x=\"88.916016\" xlink:href=\"#ArialMT-2e\"/>\n     <use x=\"116.699219\" xlink:href=\"#ArialMT-33\"/>\n     <use x=\"172.314453\" xlink:href=\"#ArialMT-37\"/>\n    </g>\n   </g>\n   <g id=\"text_172\">\n    <!-- 0 -->\n    <g style=\"fill:#262626;\" transform=\"translate(204.535423 503.430173)scale(0.096 -0.096)\">\n     <use xlink:href=\"#ArialMT-30\"/>\n    </g>\n   </g>\n   <g id=\"text_173\">\n    <!-- 0 -->\n    <g style=\"fill:#262626;\" transform=\"translate(232.006192 503.430173)scale(0.096 -0.096)\">\n     <use xlink:href=\"#ArialMT-30\"/>\n    </g>\n   </g>\n   <g id=\"text_174\">\n    <!-- 0 -->\n    <g style=\"fill:#262626;\" transform=\"translate(259.476962 503.430173)scale(0.096 -0.096)\">\n     <use xlink:href=\"#ArialMT-30\"/>\n    </g>\n   </g>\n   <g id=\"text_175\">\n    <!-- 0.7 -->\n    <g style=\"fill:#ffffff;\" transform=\"translate(282.944981 503.430173)scale(0.096 -0.096)\">\n     <use xlink:href=\"#ArialMT-30\"/>\n     <use x=\"55.615234\" xlink:href=\"#ArialMT-2e\"/>\n     <use x=\"83.398438\" xlink:href=\"#ArialMT-37\"/>\n    </g>\n   </g>\n   <g id=\"text_176\">\n    <!-- 0.79 -->\n    <g style=\"fill:#ffffff;\" transform=\"translate(307.7465 503.430173)scale(0.096 -0.096)\">\n     <use xlink:href=\"#ArialMT-30\"/>\n     <use x=\"55.615234\" xlink:href=\"#ArialMT-2e\"/>\n     <use x=\"83.398438\" xlink:href=\"#ArialMT-37\"/>\n     <use x=\"139.013672\" xlink:href=\"#ArialMT-39\"/>\n    </g>\n   </g>\n   <g id=\"text_177\">\n    <!-- -0.5 -->\n    <g style=\"fill:#ffffff;\" transform=\"translate(336.288269 503.430173)scale(0.096 -0.096)\">\n     <use xlink:href=\"#ArialMT-2d\"/>\n     <use x=\"33.300781\" xlink:href=\"#ArialMT-30\"/>\n     <use x=\"88.916016\" xlink:href=\"#ArialMT-2e\"/>\n     <use x=\"116.699219\" xlink:href=\"#ArialMT-35\"/>\n    </g>\n   </g>\n   <g id=\"text_178\">\n    <!-- 0.52 -->\n    <g style=\"fill:#262626;\" transform=\"translate(362.688038 503.430173)scale(0.096 -0.096)\">\n     <use xlink:href=\"#ArialMT-30\"/>\n     <use x=\"55.615234\" xlink:href=\"#ArialMT-2e\"/>\n     <use x=\"83.398438\" xlink:href=\"#ArialMT-35\"/>\n     <use x=\"139.013672\" xlink:href=\"#ArialMT-32\"/>\n    </g>\n   </g>\n   <g id=\"text_179\">\n    <!-- -0.43 -->\n    <g style=\"fill:#ffffff;\" transform=\"translate(388.560558 503.430173)scale(0.096 -0.096)\">\n     <use xlink:href=\"#ArialMT-2d\"/>\n     <use x=\"33.300781\" xlink:href=\"#ArialMT-30\"/>\n     <use x=\"88.916016\" xlink:href=\"#ArialMT-2e\"/>\n     <use x=\"116.699219\" xlink:href=\"#ArialMT-34\"/>\n     <use x=\"172.314453\" xlink:href=\"#ArialMT-33\"/>\n    </g>\n   </g>\n   <g id=\"text_180\">\n    <!-- 0.57 -->\n    <g style=\"fill:#262626;\" transform=\"translate(417.629577 503.430173)scale(0.096 -0.096)\">\n     <use xlink:href=\"#ArialMT-30\"/>\n     <use x=\"55.615234\" xlink:href=\"#ArialMT-2e\"/>\n     <use x=\"83.398438\" xlink:href=\"#ArialMT-35\"/>\n     <use x=\"139.013672\" xlink:href=\"#ArialMT-37\"/>\n    </g>\n   </g>\n   <g id=\"text_181\">\n    <!-- 1 -->\n    <g style=\"fill:#ffffff;\" transform=\"translate(451.772346 503.430173)scale(0.096 -0.096)\">\n     <use xlink:href=\"#ArialMT-31\"/>\n    </g>\n   </g>\n   <g id=\"text_182\">\n    <!-- 0.31 -->\n    <g style=\"fill:#262626;\" transform=\"translate(472.571115 503.430173)scale(0.096 -0.096)\">\n     <use xlink:href=\"#ArialMT-30\"/>\n     <use x=\"55.615234\" xlink:href=\"#ArialMT-2e\"/>\n     <use x=\"83.398438\" xlink:href=\"#ArialMT-33\"/>\n     <use x=\"139.013672\" xlink:href=\"#ArialMT-31\"/>\n    </g>\n   </g>\n   <g id=\"text_183\">\n    <!-- 0.64 -->\n    <g style=\"fill:#ffffff;\" transform=\"translate(142.921885 545.245558)scale(0.096 -0.096)\">\n     <use xlink:href=\"#ArialMT-30\"/>\n     <use x=\"55.615234\" xlink:href=\"#ArialMT-2e\"/>\n     <use x=\"83.398438\" xlink:href=\"#ArialMT-36\"/>\n     <use x=\"139.013672\" xlink:href=\"#ArialMT-34\"/>\n    </g>\n   </g>\n   <g id=\"text_184\">\n    <!-- 0 -->\n    <g style=\"fill:#262626;\" transform=\"translate(177.064654 545.245558)scale(0.096 -0.096)\">\n     <use xlink:href=\"#ArialMT-30\"/>\n    </g>\n   </g>\n   <g id=\"text_185\">\n    <!-- 0 -->\n    <g style=\"fill:#262626;\" transform=\"translate(204.535423 545.245558)scale(0.096 -0.096)\">\n     <use xlink:href=\"#ArialMT-30\"/>\n    </g>\n   </g>\n   <g id=\"text_186\">\n    <!-- -0.44 -->\n    <g style=\"fill:#ffffff;\" transform=\"translate(223.735942 545.245558)scale(0.096 -0.096)\">\n     <use xlink:href=\"#ArialMT-2d\"/>\n     <use x=\"33.300781\" xlink:href=\"#ArialMT-30\"/>\n     <use x=\"88.916016\" xlink:href=\"#ArialMT-2e\"/>\n     <use x=\"116.699219\" xlink:href=\"#ArialMT-34\"/>\n     <use x=\"172.314453\" xlink:href=\"#ArialMT-34\"/>\n    </g>\n   </g>\n   <g id=\"text_187\">\n    <!-- 0.39 -->\n    <g style=\"fill:#262626;\" transform=\"translate(252.804962 545.245558)scale(0.096 -0.096)\">\n     <use xlink:href=\"#ArialMT-30\"/>\n     <use x=\"55.615234\" xlink:href=\"#ArialMT-2e\"/>\n     <use x=\"83.398438\" xlink:href=\"#ArialMT-33\"/>\n     <use x=\"139.013672\" xlink:href=\"#ArialMT-39\"/>\n    </g>\n   </g>\n   <g id=\"text_188\">\n    <!-- 0.5 -->\n    <g style=\"fill:#262626;\" transform=\"translate(282.944981 545.245558)scale(0.096 -0.096)\">\n     <use xlink:href=\"#ArialMT-30\"/>\n     <use x=\"55.615234\" xlink:href=\"#ArialMT-2e\"/>\n     <use x=\"83.398438\" xlink:href=\"#ArialMT-35\"/>\n    </g>\n   </g>\n   <g id=\"text_189\">\n    <!-- 0.49 -->\n    <g style=\"fill:#262626;\" transform=\"translate(307.7465 545.245558)scale(0.096 -0.096)\">\n     <use xlink:href=\"#ArialMT-30\"/>\n     <use x=\"55.615234\" xlink:href=\"#ArialMT-2e\"/>\n     <use x=\"83.398438\" xlink:href=\"#ArialMT-34\"/>\n     <use x=\"139.013672\" xlink:href=\"#ArialMT-39\"/>\n    </g>\n   </g>\n   <g id=\"text_190\">\n    <!-- -0.31 -->\n    <g style=\"fill:#ffffff;\" transform=\"translate(333.619019 545.245558)scale(0.096 -0.096)\">\n     <use xlink:href=\"#ArialMT-2d\"/>\n     <use x=\"33.300781\" xlink:href=\"#ArialMT-30\"/>\n     <use x=\"88.916016\" xlink:href=\"#ArialMT-2e\"/>\n     <use x=\"116.699219\" xlink:href=\"#ArialMT-33\"/>\n     <use x=\"172.314453\" xlink:href=\"#ArialMT-31\"/>\n    </g>\n   </g>\n   <g id=\"text_191\">\n    <!-- 0.33 -->\n    <g style=\"fill:#262626;\" transform=\"translate(362.688038 545.245558)scale(0.096 -0.096)\">\n     <use xlink:href=\"#ArialMT-30\"/>\n     <use x=\"55.615234\" xlink:href=\"#ArialMT-2e\"/>\n     <use x=\"83.398438\" xlink:href=\"#ArialMT-33\"/>\n     <use x=\"139.013672\" xlink:href=\"#ArialMT-33\"/>\n    </g>\n   </g>\n   <g id=\"text_192\">\n    <!-- 0.32 -->\n    <g style=\"fill:#262626;\" transform=\"translate(390.158808 545.245558)scale(0.096 -0.096)\">\n     <use xlink:href=\"#ArialMT-30\"/>\n     <use x=\"55.615234\" xlink:href=\"#ArialMT-2e\"/>\n     <use x=\"83.398438\" xlink:href=\"#ArialMT-33\"/>\n     <use x=\"139.013672\" xlink:href=\"#ArialMT-32\"/>\n    </g>\n   </g>\n   <g id=\"text_193\">\n    <!-- 0 -->\n    <g style=\"fill:#262626;\" transform=\"translate(424.301577 545.245558)scale(0.096 -0.096)\">\n     <use xlink:href=\"#ArialMT-30\"/>\n    </g>\n   </g>\n   <g id=\"text_194\">\n    <!-- 0.31 -->\n    <g style=\"fill:#262626;\" transform=\"translate(445.100346 545.245558)scale(0.096 -0.096)\">\n     <use xlink:href=\"#ArialMT-30\"/>\n     <use x=\"55.615234\" xlink:href=\"#ArialMT-2e\"/>\n     <use x=\"83.398438\" xlink:href=\"#ArialMT-33\"/>\n     <use x=\"139.013672\" xlink:href=\"#ArialMT-31\"/>\n    </g>\n   </g>\n   <g id=\"text_195\">\n    <!-- 1 -->\n    <g style=\"fill:#ffffff;\" transform=\"translate(479.243115 545.245558)scale(0.096 -0.096)\">\n     <use xlink:href=\"#ArialMT-31\"/>\n    </g>\n   </g>\n   <g id=\"text_196\">\n    <!-- Correlation matrix -->\n    <g style=\"fill:#262626;\" transform=\"translate(279.21275 14.0715)scale(0.096 -0.096)\">\n     <defs>\n      <path d=\"M 3763 1606 \nL 4369 1453 \nQ 4178 706 3683 314 \nQ 3188 -78 2472 -78 \nQ 1731 -78 1267 223 \nQ 803 525 561 1097 \nQ 319 1669 319 2325 \nQ 319 3041 592 3573 \nQ 866 4106 1370 4382 \nQ 1875 4659 2481 4659 \nQ 3169 4659 3637 4309 \nQ 4106 3959 4291 3325 \nL 3694 3184 \nQ 3534 3684 3231 3912 \nQ 2928 4141 2469 4141 \nQ 1941 4141 1586 3887 \nQ 1231 3634 1087 3207 \nQ 944 2781 944 2328 \nQ 944 1744 1114 1308 \nQ 1284 872 1643 656 \nQ 2003 441 2422 441 \nQ 2931 441 3284 734 \nQ 3638 1028 3763 1606 \nz\n\" id=\"ArialMT-43\" transform=\"scale(0.015625)\"/>\n      <path id=\"ArialMT-20\" transform=\"scale(0.015625)\"/>\n      <path d=\"M 47 0 \nL 1259 1725 \nL 138 3319 \nL 841 3319 \nL 1350 2541 \nQ 1494 2319 1581 2169 \nQ 1719 2375 1834 2534 \nL 2394 3319 \nL 3066 3319 \nL 1919 1756 \nL 3153 0 \nL 2463 0 \nL 1781 1031 \nL 1600 1309 \nL 728 0 \nL 47 0 \nz\n\" id=\"ArialMT-78\" transform=\"scale(0.015625)\"/>\n     </defs>\n     <use xlink:href=\"#ArialMT-43\"/>\n     <use x=\"72.216797\" xlink:href=\"#ArialMT-6f\"/>\n     <use x=\"127.832031\" xlink:href=\"#ArialMT-72\"/>\n     <use x=\"161.132812\" xlink:href=\"#ArialMT-72\"/>\n     <use x=\"194.433594\" xlink:href=\"#ArialMT-65\"/>\n     <use x=\"250.048828\" xlink:href=\"#ArialMT-6c\"/>\n     <use x=\"272.265625\" xlink:href=\"#ArialMT-61\"/>\n     <use x=\"327.880859\" xlink:href=\"#ArialMT-74\"/>\n     <use x=\"355.664062\" xlink:href=\"#ArialMT-69\"/>\n     <use x=\"377.880859\" xlink:href=\"#ArialMT-6f\"/>\n     <use x=\"433.496094\" xlink:href=\"#ArialMT-6e\"/>\n     <use x=\"489.111328\" xlink:href=\"#ArialMT-20\"/>\n     <use x=\"516.894531\" xlink:href=\"#ArialMT-6d\"/>\n     <use x=\"600.195312\" xlink:href=\"#ArialMT-61\"/>\n     <use x=\"655.810547\" xlink:href=\"#ArialMT-74\"/>\n     <use x=\"683.59375\" xlink:href=\"#ArialMT-72\"/>\n     <use x=\"716.894531\" xlink:href=\"#ArialMT-69\"/>\n     <use x=\"739.111328\" xlink:href=\"#ArialMT-78\"/>\n    </g>\n   </g>\n  </g>\n  <g id=\"axes_2\">\n   <g id=\"patch_3\">\n    <path d=\"M 517.96775 563.6715 \nL 545.14775 563.6715 \nL 545.14775 20.0715 \nL 517.96775 20.0715 \nz\n\" style=\"fill:#eaeaf2;\"/>\n   </g>\n   <g id=\"patch_4\">\n    <path clip-path=\"url(#p59eb33d171)\" d=\"M 517.96775 563.6715 \nL 517.96775 561.548062 \nL 517.96775 22.194937 \nL 517.96775 20.0715 \nL 545.14775 20.0715 \nL 545.14775 22.194937 \nL 545.14775 561.548062 \nL 545.14775 563.6715 \nL 545.14775 563.6715 \nz\n\" style=\"fill:#eaeaf2;stroke:#eaeaf2;stroke-linejoin:miter;stroke-width:0.01;\"/>\n   </g>\n   <g id=\"matplotlib.axis_3\"/>\n   <g id=\"matplotlib.axis_4\">\n    <g id=\"ytick_14\">\n     <g id=\"line2d_1\">\n      <defs>\n       <path d=\"M 0 0 \nL 6 0 \n\" id=\"mef6dca3e34\" style=\"stroke:#262626;stroke-width:1.25;\"/>\n      </defs>\n      <g>\n       <use style=\"fill:#262626;stroke:#262626;stroke-width:1.25;\" x=\"545.14775\" xlink:href=\"#mef6dca3e34\" y=\"507.917654\"/>\n      </g>\n     </g>\n     <g id=\"text_197\">\n      <!-- −0.4 -->\n      <g style=\"fill:#262626;\" transform=\"translate(554.64775 511.067091)scale(0.088 -0.088)\">\n       <defs>\n        <path d=\"M 3381 1997 \nL 356 1997 \nL 356 2522 \nL 3381 2522 \nL 3381 1997 \nz\n\" id=\"ArialMT-2212\" transform=\"scale(0.015625)\"/>\n       </defs>\n       <use xlink:href=\"#ArialMT-2212\"/>\n       <use x=\"58.398438\" xlink:href=\"#ArialMT-30\"/>\n       <use x=\"114.013672\" xlink:href=\"#ArialMT-2e\"/>\n       <use x=\"141.796875\" xlink:href=\"#ArialMT-34\"/>\n      </g>\n     </g>\n    </g>\n    <g id=\"ytick_15\">\n     <g id=\"line2d_2\">\n      <g>\n       <use style=\"fill:#262626;stroke:#262626;stroke-width:1.25;\" x=\"545.14775\" xlink:href=\"#mef6dca3e34\" y=\"438.225346\"/>\n      </g>\n     </g>\n     <g id=\"text_198\">\n      <!-- −0.2 -->\n      <g style=\"fill:#262626;\" transform=\"translate(554.64775 441.374784)scale(0.088 -0.088)\">\n       <use xlink:href=\"#ArialMT-2212\"/>\n       <use x=\"58.398438\" xlink:href=\"#ArialMT-30\"/>\n       <use x=\"114.013672\" xlink:href=\"#ArialMT-2e\"/>\n       <use x=\"141.796875\" xlink:href=\"#ArialMT-32\"/>\n      </g>\n     </g>\n    </g>\n    <g id=\"ytick_16\">\n     <g id=\"line2d_3\">\n      <g>\n       <use style=\"fill:#262626;stroke:#262626;stroke-width:1.25;\" x=\"545.14775\" xlink:href=\"#mef6dca3e34\" y=\"368.533038\"/>\n      </g>\n     </g>\n     <g id=\"text_199\">\n      <!-- 0.0 -->\n      <g style=\"fill:#262626;\" transform=\"translate(554.64775 371.682476)scale(0.088 -0.088)\">\n       <use xlink:href=\"#ArialMT-30\"/>\n       <use x=\"55.615234\" xlink:href=\"#ArialMT-2e\"/>\n       <use x=\"83.398438\" xlink:href=\"#ArialMT-30\"/>\n      </g>\n     </g>\n    </g>\n    <g id=\"ytick_17\">\n     <g id=\"line2d_4\">\n      <g>\n       <use style=\"fill:#262626;stroke:#262626;stroke-width:1.25;\" x=\"545.14775\" xlink:href=\"#mef6dca3e34\" y=\"298.840731\"/>\n      </g>\n     </g>\n     <g id=\"text_200\">\n      <!-- 0.2 -->\n      <g style=\"fill:#262626;\" transform=\"translate(554.64775 301.990168)scale(0.088 -0.088)\">\n       <use xlink:href=\"#ArialMT-30\"/>\n       <use x=\"55.615234\" xlink:href=\"#ArialMT-2e\"/>\n       <use x=\"83.398438\" xlink:href=\"#ArialMT-32\"/>\n      </g>\n     </g>\n    </g>\n    <g id=\"ytick_18\">\n     <g id=\"line2d_5\">\n      <g>\n       <use style=\"fill:#262626;stroke:#262626;stroke-width:1.25;\" x=\"545.14775\" xlink:href=\"#mef6dca3e34\" y=\"229.148423\"/>\n      </g>\n     </g>\n     <g id=\"text_201\">\n      <!-- 0.4 -->\n      <g style=\"fill:#262626;\" transform=\"translate(554.64775 232.297861)scale(0.088 -0.088)\">\n       <use xlink:href=\"#ArialMT-30\"/>\n       <use x=\"55.615234\" xlink:href=\"#ArialMT-2e\"/>\n       <use x=\"83.398438\" xlink:href=\"#ArialMT-34\"/>\n      </g>\n     </g>\n    </g>\n    <g id=\"ytick_19\">\n     <g id=\"line2d_6\">\n      <g>\n       <use style=\"fill:#262626;stroke:#262626;stroke-width:1.25;\" x=\"545.14775\" xlink:href=\"#mef6dca3e34\" y=\"159.456115\"/>\n      </g>\n     </g>\n     <g id=\"text_202\">\n      <!-- 0.6 -->\n      <g style=\"fill:#262626;\" transform=\"translate(554.64775 162.605553)scale(0.088 -0.088)\">\n       <use xlink:href=\"#ArialMT-30\"/>\n       <use x=\"55.615234\" xlink:href=\"#ArialMT-2e\"/>\n       <use x=\"83.398438\" xlink:href=\"#ArialMT-36\"/>\n      </g>\n     </g>\n    </g>\n    <g id=\"ytick_20\">\n     <g id=\"line2d_7\">\n      <g>\n       <use style=\"fill:#262626;stroke:#262626;stroke-width:1.25;\" x=\"545.14775\" xlink:href=\"#mef6dca3e34\" y=\"89.763808\"/>\n      </g>\n     </g>\n     <g id=\"text_203\">\n      <!-- 0.8 -->\n      <g style=\"fill:#262626;\" transform=\"translate(554.64775 92.913245)scale(0.088 -0.088)\">\n       <use xlink:href=\"#ArialMT-30\"/>\n       <use x=\"55.615234\" xlink:href=\"#ArialMT-2e\"/>\n       <use x=\"83.398438\" xlink:href=\"#ArialMT-38\"/>\n      </g>\n     </g>\n    </g>\n    <g id=\"ytick_21\">\n     <g id=\"line2d_8\">\n      <g>\n       <use style=\"fill:#262626;stroke:#262626;stroke-width:1.25;\" x=\"545.14775\" xlink:href=\"#mef6dca3e34\" y=\"20.0715\"/>\n      </g>\n     </g>\n     <g id=\"text_204\">\n      <!-- 1.0 -->\n      <g style=\"fill:#262626;\" transform=\"translate(554.64775 23.220937)scale(0.088 -0.088)\">\n       <use xlink:href=\"#ArialMT-31\"/>\n       <use x=\"55.615234\" xlink:href=\"#ArialMT-2e\"/>\n       <use x=\"83.398438\" xlink:href=\"#ArialMT-30\"/>\n      </g>\n     </g>\n    </g>\n   </g>\n   <image height=\"543\" id=\"imageb1b3a62abe\" transform=\"scale(1 -1)translate(0 -543)\" width=\"27\" x=\"518\" xlink:href=\"data:image/png;base64,\niVBORw0KGgoAAAANSUhEUgAAABsAAAIfCAYAAACB2qdqAAACm0lEQVR4nO2cgU3EQBDELtF1RQsUTV8POYp4a6W37AZOw8zsbkDi+vr+OWuIe+qhtdba1z333rSya+yxYWVXnr1PPUPYt9cza88qNYK41F7PbmupxZ6JlZVGAPHyvL0r5pIGxBt9sbLOAoKUIYhno/a3BX15Ioij7x1X2lKXRoTpU86qTOtZP0YE8bhqxRDUM4Q9KCzPGLzKuq4QvAHZg5Z1FjCIzwLzBJl7rDR+3mPqcTX3WGcBgvkrxjqu9uDfffKMwXsWdDcimJenVlmnHEEHD4L4SNWmsegjeAOivvXnHusrBqEJgpCyz3usQYzQuEIQe+ZVVhoJppWN/c8f9fIUB2TusZQh7NtaarFnXmXi2bikPSv6CObot2IAhtNoHVdiz7w9087GbhCESo3QikEojQjNRgTv8vR6VqkRvAERezb5Wp4h1DOEPPu8xwoIQl+eCKURIWUIZmXWnhUQhJQhpAxhX+sZe6xBjLCvo1Vm7dl0QLSltgYkzxDyDEHtmVeZNI1FH8EbEHOptd9ny+uZt2fNRgDx8qzUBC1PhL3EnmmVaVeMOY1SzwoIQmcBQp4hqD2zKtOumL0eqWeNK4RKjZBnCGJl4jRaV4x36ldqBG9A1KX2KiuN75NnCOaePVLPCghC4wqhNCJ4x9U+eQZQzz7vsX1aMQCdBQhiz8Q9066YzgIC8fLU3iD7WAMiXp5HuzzFnnl71mwEEC/PLmKCLmIEb6lbngjNRgTvkVqpEdSl9iorje+TZwhiz7R/Hin6COLo5xlByhBKI8KssudPqqzoI4ijnzKCeoYg9ky7YryeVWoEb0AqNUI9Q9hHm8Z6RiBenuKA/GnHlTX66jRalT2/VmXnZVWm9ayAIHgDss/LehaYPZMq+wcWG1oo2Fhh0gAAAABJRU5ErkJggg==\" y=\"-20\"/>\n   <g id=\"LineCollection_1\"/>\n   <g id=\"patch_5\">\n    <path d=\"M 517.96775 563.6715 \nL 517.96775 561.548062 \nL 517.96775 22.194937 \nL 517.96775 20.0715 \nL 545.14775 20.0715 \nL 545.14775 22.194937 \nL 545.14775 561.548062 \nL 545.14775 563.6715 \nz\n\" style=\"fill:none;\"/>\n   </g>\n  </g>\n </g>\n <defs>\n  <clipPath id=\"pac730ba19d\">\n   <rect height=\"543.6\" width=\"357.12\" x=\"138.52775\" y=\"20.0715\"/>\n  </clipPath>\n  <clipPath id=\"p59eb33d171\">\n   <rect height=\"543.6\" width=\"27.18\" x=\"517.96775\" y=\"20.0715\"/>\n  </clipPath>\n </defs>\n</svg>\n"
     },
     "metadata": {},
     "output_type": "display_data"
    }
   ],
   "source": [
    "import seaborn as sns\n",
    "\n",
    "plt.figure(figsize = (8,10))\n",
    "sns.set(font_scale=0.8)\n",
    "X_corr = X.corr()\n",
    "X_corr = np.round(X_corr, 2)\n",
    "X_corr[np.abs(X_corr) < 0.3] = 0\n",
    "\n",
    "sns.heatmap(X_corr, annot=True, linewidths=.5, cmap='coolwarm')\n",
    "\n",
    "plt.title('Correlation matrix')\n",
    "plt.show()"
   ],
   "metadata": {
    "collapsed": false,
    "pycharm": {
     "name": "#%%\n"
    }
   }
  },
  {
   "cell_type": "markdown",
   "source": [
    "9. Создайте список high_corr из признаков, корреляция которых с полем target по абсолютному\n",
    "значению превышает 0.5 (причем, само поле target не должно входить в этот список).\n"
   ],
   "metadata": {
    "collapsed": false
   }
  },
  {
   "cell_type": "code",
   "execution_count": null,
   "outputs": [],
   "source": [],
   "metadata": {
    "collapsed": false,
    "pycharm": {
     "name": "#%%\n"
    }
   }
  },
  {
   "cell_type": "markdown",
   "source": [
    "10. Удалите из датафрейма X поле с целевой переменной. Для всех признаков, названия которых\n",
    "содержатся в списке high_corr, вычислите квадрат их значений и добавьте в датафрейм X\n",
    "соответствующие поля с суффиксом '_2', добавленного к первоначальному названию признака.\n",
    "Итоговый датафрейм должен содержать все поля, которые, были в нем изначально, а также поля\n",
    "с признаками из списка high_corr, возведенными в квадрат. Выведите описание полей\n",
    "датафрейма X с помощью метода describe."
   ],
   "metadata": {
    "collapsed": false
   }
  },
  {
   "cell_type": "code",
   "execution_count": null,
   "outputs": [],
   "source": [],
   "metadata": {
    "collapsed": false,
    "pycharm": {
     "name": "#%%\n"
    }
   }
  }
 ],
 "metadata": {
  "kernelspec": {
   "display_name": "Python 3",
   "language": "python",
   "name": "python3"
  },
  "language_info": {
   "codemirror_mode": {
    "name": "ipython",
    "version": 2
   },
   "file_extension": ".py",
   "mimetype": "text/x-python",
   "name": "python",
   "nbconvert_exporter": "python",
   "pygments_lexer": "ipython2",
   "version": "2.7.6"
  }
 },
 "nbformat": 4,
 "nbformat_minor": 0
}